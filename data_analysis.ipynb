{
 "cells": [
  {
   "cell_type": "markdown",
   "metadata": {},
   "source": [
    "# Περιγραφή Δεδομένων"
   ]
  },
  {
   "cell_type": "markdown",
   "metadata": {},
   "source": [
    "Τα δεδομένα προέρχονται απο εκπομπές του συστήματος AIS, που αποτελεί μέσο αναγνώρισης πλοίων. Για την λήψη του χρησιμοποιήθηκε πηγή open source ενώ η περιοχή ενδιαφέροντος περιλαμβάνει την Μεσόγειο θάλασσα. Τα δεδομένα αντλήθηκαν στις 09-12-2023."
   ]
  },
  {
   "cell_type": "markdown",
   "metadata": {},
   "source": [
    "Αρχικά εισάγουμε τις βιβλιοθήκες εκείνες που θα μας βοηθήσουν στην ανάλυση των δεδομένων μας."
   ]
  },
  {
   "cell_type": "code",
   "execution_count": 215,
   "metadata": {},
   "outputs": [],
   "source": [
    "import pandas as pd\n",
    "import numpy as np\n",
    "import matplotlib.pyplot as plt\n",
    "import dateutil.parser as parser\n",
    "import geopandas as gpd\n",
    "import movingpandas as mpd\n",
    "import shapely as shp\n",
    "from shapely.geometry import Point, LineString, Polygon\n",
    "from datetime import datetime, timedelta\n",
    "import hvplot.pandas\n",
    "from holoviews import opts, dim\n",
    "from geopandas import GeoDataFrame, read_file\n",
    "from os.path import exists\n",
    "from urllib.request import urlretrieve\n",
    "import seaborn as sns\n",
    "import plotly.express as px\n"
   ]
  },
  {
   "cell_type": "markdown",
   "metadata": {},
   "source": [
    "Στη συνέχεια κάνουμε εισαγωγή και μετατρέπουμε το .csv αρχείο μας σε pandas dataframe."
   ]
  },
  {
   "cell_type": "code",
   "execution_count": 216,
   "metadata": {},
   "outputs": [
    {
     "name": "stdout",
     "output_type": "stream",
     "text": [
      "Finished reading (1003, 16) lines of data\n"
     ]
    }
   ],
   "source": [
    "# Read csv file as a dataframe\n",
    "raw_ship_data = pd.read_csv('data.csv')\n",
    "print(f\"Finished reading {raw_ship_data.shape} lines of data\")"
   ]
  },
  {
   "cell_type": "markdown",
   "metadata": {},
   "source": [
    "Παρατηρούμε πως τα δεδομένα μας είναι ενάς πίνακας 1003Χ16 κελιών. Με μία ενδεικτική επιστροφή των δεδομένων παρακάτω μπορούμε να δούμε πώς είναι διαμορφωμένα."
   ]
  },
  {
   "cell_type": "code",
   "execution_count": 217,
   "metadata": {},
   "outputs": [
    {
     "data": {
      "text/html": [
       "<div>\n",
       "<style scoped>\n",
       "    .dataframe tbody tr th:only-of-type {\n",
       "        vertical-align: middle;\n",
       "    }\n",
       "\n",
       "    .dataframe tbody tr th {\n",
       "        vertical-align: top;\n",
       "    }\n",
       "\n",
       "    .dataframe thead th {\n",
       "        text-align: right;\n",
       "    }\n",
       "</style>\n",
       "<table border=\"1\" class=\"dataframe\">\n",
       "  <thead>\n",
       "    <tr style=\"text-align: right;\">\n",
       "      <th></th>\n",
       "      <th>time_utc</th>\n",
       "      <th>CallSign</th>\n",
       "      <th>ShipName</th>\n",
       "      <th>Type</th>\n",
       "      <th>ImoNumber</th>\n",
       "      <th>MMSI</th>\n",
       "      <th>latitude</th>\n",
       "      <th>longitude</th>\n",
       "      <th>Destination</th>\n",
       "      <th>FixType</th>\n",
       "      <th>Dimension A</th>\n",
       "      <th>Dimension B</th>\n",
       "      <th>Dimension C</th>\n",
       "      <th>Dimension D</th>\n",
       "      <th>MaximumStaticDraught</th>\n",
       "      <th>MessageID</th>\n",
       "    </tr>\n",
       "  </thead>\n",
       "  <tbody>\n",
       "    <tr>\n",
       "      <th>0</th>\n",
       "      <td>2023-12-09 08:05:51.944186364 +0000 UTC</td>\n",
       "      <td>IBRV</td>\n",
       "      <td>SEMINOLE</td>\n",
       "      <td>90</td>\n",
       "      <td>7645550</td>\n",
       "      <td>247274900</td>\n",
       "      <td>34.669683</td>\n",
       "      <td>33.058350</td>\n",
       "      <td>CYLMS</td>\n",
       "      <td>1</td>\n",
       "      <td>28</td>\n",
       "      <td>107</td>\n",
       "      <td>15</td>\n",
       "      <td>15</td>\n",
       "      <td>4.5</td>\n",
       "      <td>5</td>\n",
       "    </tr>\n",
       "    <tr>\n",
       "      <th>1</th>\n",
       "      <td>2023-12-09 08:05:54.203014122 +0000 UTC</td>\n",
       "      <td>5BLV2</td>\n",
       "      <td>EDT ZENON</td>\n",
       "      <td>52</td>\n",
       "      <td>9315977</td>\n",
       "      <td>212541000</td>\n",
       "      <td>34.645403</td>\n",
       "      <td>33.009685</td>\n",
       "      <td>LIMASSOL</td>\n",
       "      <td>1</td>\n",
       "      <td>7</td>\n",
       "      <td>21</td>\n",
       "      <td>2</td>\n",
       "      <td>7</td>\n",
       "      <td>2.4</td>\n",
       "      <td>5</td>\n",
       "    </tr>\n",
       "    <tr>\n",
       "      <th>2</th>\n",
       "      <td>2023-12-09 08:05:57.546130448 +0000 UTC</td>\n",
       "      <td>TCA5645</td>\n",
       "      <td>KOSOVAK</td>\n",
       "      <td>71</td>\n",
       "      <td>9211157</td>\n",
       "      <td>271047045</td>\n",
       "      <td>35.826203</td>\n",
       "      <td>29.005122</td>\n",
       "      <td>TRALI</td>\n",
       "      <td>1</td>\n",
       "      <td>138</td>\n",
       "      <td>20</td>\n",
       "      <td>20</td>\n",
       "      <td>4</td>\n",
       "      <td>10.0</td>\n",
       "      <td>5</td>\n",
       "    </tr>\n",
       "    <tr>\n",
       "      <th>3</th>\n",
       "      <td>2023-12-09 08:06:05.451479994 +0000 UTC</td>\n",
       "      <td>5BFB3</td>\n",
       "      <td>EDT LEON</td>\n",
       "      <td>91</td>\n",
       "      <td>9575400</td>\n",
       "      <td>209343000</td>\n",
       "      <td>34.645127</td>\n",
       "      <td>33.008998</td>\n",
       "      <td>LIMASSOL</td>\n",
       "      <td>0</td>\n",
       "      <td>18</td>\n",
       "      <td>32</td>\n",
       "      <td>5</td>\n",
       "      <td>5</td>\n",
       "      <td>2.4</td>\n",
       "      <td>5</td>\n",
       "    </tr>\n",
       "    <tr>\n",
       "      <th>4</th>\n",
       "      <td>2023-12-09 08:06:08.806450979 +0000 UTC</td>\n",
       "      <td>GDSA</td>\n",
       "      <td>NAVAL AUXILIARY A135</td>\n",
       "      <td>34</td>\n",
       "      <td>7822550</td>\n",
       "      <td>233303000</td>\n",
       "      <td>34.652447</td>\n",
       "      <td>33.016777</td>\n",
       "      <td>NaN</td>\n",
       "      <td>1</td>\n",
       "      <td>21</td>\n",
       "      <td>154</td>\n",
       "      <td>24</td>\n",
       "      <td>6</td>\n",
       "      <td>0.0</td>\n",
       "      <td>5</td>\n",
       "    </tr>\n",
       "  </tbody>\n",
       "</table>\n",
       "</div>"
      ],
      "text/plain": [
       "                                  time_utc CallSign              ShipName  \\\n",
       "0  2023-12-09 08:05:51.944186364 +0000 UTC     IBRV              SEMINOLE   \n",
       "1  2023-12-09 08:05:54.203014122 +0000 UTC    5BLV2             EDT ZENON   \n",
       "2  2023-12-09 08:05:57.546130448 +0000 UTC  TCA5645               KOSOVAK   \n",
       "3  2023-12-09 08:06:05.451479994 +0000 UTC    5BFB3              EDT LEON   \n",
       "4  2023-12-09 08:06:08.806450979 +0000 UTC     GDSA  NAVAL AUXILIARY A135   \n",
       "\n",
       "   Type  ImoNumber       MMSI   latitude  longitude Destination  FixType  \\\n",
       "0    90    7645550  247274900  34.669683  33.058350       CYLMS        1   \n",
       "1    52    9315977  212541000  34.645403  33.009685    LIMASSOL        1   \n",
       "2    71    9211157  271047045  35.826203  29.005122       TRALI        1   \n",
       "3    91    9575400  209343000  34.645127  33.008998    LIMASSOL        0   \n",
       "4    34    7822550  233303000  34.652447  33.016777         NaN        1   \n",
       "\n",
       "   Dimension A  Dimension B  Dimension C  Dimension D  MaximumStaticDraught  \\\n",
       "0           28          107           15           15                   4.5   \n",
       "1            7           21            2            7                   2.4   \n",
       "2          138           20           20            4                  10.0   \n",
       "3           18           32            5            5                   2.4   \n",
       "4           21          154           24            6                   0.0   \n",
       "\n",
       "   MessageID  \n",
       "0          5  \n",
       "1          5  \n",
       "2          5  \n",
       "3          5  \n",
       "4          5  "
      ]
     },
     "execution_count": 217,
     "metadata": {},
     "output_type": "execute_result"
    }
   ],
   "source": [
    "raw_ship_data.head()"
   ]
  },
  {
   "cell_type": "markdown",
   "metadata": {},
   "source": [
    "Αρχικά μας ενδιαφέρει να εντοπίσουμε τα είδη των δεδομένων στα οποία αναφέρεται κάθε στήλη, για τον λόγο αυτό επιστρέφουμε το όνομα κάθε στήλης."
   ]
  },
  {
   "cell_type": "code",
   "execution_count": 218,
   "metadata": {},
   "outputs": [
    {
     "name": "stdout",
     "output_type": "stream",
     "text": [
      "Index(['time_utc', 'CallSign', 'ShipName', 'Type', 'ImoNumber', 'MMSI',\n",
      "       'latitude', 'longitude', 'Destination', 'FixType', 'Dimension A',\n",
      "       'Dimension B', 'Dimension C', 'Dimension D', 'MaximumStaticDraught',\n",
      "       'MessageID'],\n",
      "      dtype='object')\n"
     ]
    }
   ],
   "source": [
    "# Rename the dataframe for processing reasons\n",
    "geo_raw_ship_data = raw_ship_data\n",
    "# Print the columns of our data\n",
    "print(raw_ship_data.columns)"
   ]
  },
  {
   "cell_type": "markdown",
   "metadata": {},
   "source": [
    "Ανατρέχοντας στην διεύθυνση <a href=\"https://en.wikipedia.org/wiki/Automatic_identification_system\" target=\"_blank\">AIS-Wikipedia</a> μπορούμε να δούμε τι ακριβώς περιλαμβάνει κάθε στήλη.\n"
   ]
  },
  {
   "cell_type": "markdown",
   "metadata": {},
   "source": [
    "Εξετάζοντας τα στοιχεία, επιθυμούμε να βρούμε κελιά του πίνακα στα οποία λείπουν δεδομένα."
   ]
  },
  {
   "cell_type": "code",
   "execution_count": 219,
   "metadata": {},
   "outputs": [
    {
     "name": "stdout",
     "output_type": "stream",
     "text": [
      "Any missing values: True\n",
      "null_counts_total: 81\n"
     ]
    }
   ],
   "source": [
    "# Print missing values\n",
    "print(\"Any missing values:\", geo_raw_ship_data.isnull().any().any())\n",
    "\n",
    "# Count missing values\n",
    "null_counts_total = geo_raw_ship_data.isnull().sum().sum()\n",
    "print(\"null_counts_total:\", null_counts_total)"
   ]
  },
  {
   "cell_type": "code",
   "execution_count": 220,
   "metadata": {},
   "outputs": [
    {
     "data": {
      "text/html": [
       "<div>\n",
       "<style scoped>\n",
       "    .dataframe tbody tr th:only-of-type {\n",
       "        vertical-align: middle;\n",
       "    }\n",
       "\n",
       "    .dataframe tbody tr th {\n",
       "        vertical-align: top;\n",
       "    }\n",
       "\n",
       "    .dataframe thead th {\n",
       "        text-align: right;\n",
       "    }\n",
       "</style>\n",
       "<table border=\"1\" class=\"dataframe\">\n",
       "  <thead>\n",
       "    <tr style=\"text-align: right;\">\n",
       "      <th></th>\n",
       "      <th>time_utc</th>\n",
       "      <th>CallSign</th>\n",
       "      <th>ShipName</th>\n",
       "      <th>Type</th>\n",
       "      <th>ImoNumber</th>\n",
       "      <th>MMSI</th>\n",
       "      <th>latitude</th>\n",
       "      <th>longitude</th>\n",
       "      <th>Destination</th>\n",
       "      <th>FixType</th>\n",
       "      <th>Dimension A</th>\n",
       "      <th>Dimension B</th>\n",
       "      <th>Dimension C</th>\n",
       "      <th>Dimension D</th>\n",
       "      <th>MaximumStaticDraught</th>\n",
       "      <th>MessageID</th>\n",
       "    </tr>\n",
       "  </thead>\n",
       "  <tbody>\n",
       "    <tr>\n",
       "      <th>4</th>\n",
       "      <td>2023-12-09 08:06:08.806450979 +0000 UTC</td>\n",
       "      <td>GDSA</td>\n",
       "      <td>NAVAL AUXILIARY A135</td>\n",
       "      <td>34</td>\n",
       "      <td>7822550</td>\n",
       "      <td>233303000</td>\n",
       "      <td>34.652447</td>\n",
       "      <td>33.016777</td>\n",
       "      <td>NaN</td>\n",
       "      <td>1</td>\n",
       "      <td>21</td>\n",
       "      <td>154</td>\n",
       "      <td>24</td>\n",
       "      <td>6</td>\n",
       "      <td>0.0</td>\n",
       "      <td>5</td>\n",
       "    </tr>\n",
       "    <tr>\n",
       "      <th>20</th>\n",
       "      <td>2023-12-09 08:07:43.529290641 +0000 UTC</td>\n",
       "      <td>NaN</td>\n",
       "      <td>ASHDOD PORT</td>\n",
       "      <td>0</td>\n",
       "      <td>0</td>\n",
       "      <td>4282000</td>\n",
       "      <td>31.831317</td>\n",
       "      <td>34.639927</td>\n",
       "      <td>NaN</td>\n",
       "      <td>0</td>\n",
       "      <td>0</td>\n",
       "      <td>236</td>\n",
       "      <td>0</td>\n",
       "      <td>32</td>\n",
       "      <td>0.0</td>\n",
       "      <td>5</td>\n",
       "    </tr>\n",
       "    <tr>\n",
       "      <th>32</th>\n",
       "      <td>2023-12-09 08:08:52.471973589 +0000 UTC</td>\n",
       "      <td>NaN</td>\n",
       "      <td>ASHDOD PORT</td>\n",
       "      <td>0</td>\n",
       "      <td>0</td>\n",
       "      <td>4282000</td>\n",
       "      <td>31.831242</td>\n",
       "      <td>34.639950</td>\n",
       "      <td>NaN</td>\n",
       "      <td>1</td>\n",
       "      <td>191</td>\n",
       "      <td>45</td>\n",
       "      <td>22</td>\n",
       "      <td>10</td>\n",
       "      <td>0.0</td>\n",
       "      <td>5</td>\n",
       "    </tr>\n",
       "    <tr>\n",
       "      <th>68</th>\n",
       "      <td>2023-12-09 08:12:54.22487949 +0000 UTC</td>\n",
       "      <td>P3CQ9</td>\n",
       "      <td>PETSAS I</td>\n",
       "      <td>0</td>\n",
       "      <td>0</td>\n",
       "      <td>209352000</td>\n",
       "      <td>34.664468</td>\n",
       "      <td>33.029690</td>\n",
       "      <td>NaN</td>\n",
       "      <td>15</td>\n",
       "      <td>0</td>\n",
       "      <td>0</td>\n",
       "      <td>0</td>\n",
       "      <td>0</td>\n",
       "      <td>0.0</td>\n",
       "      <td>5</td>\n",
       "    </tr>\n",
       "    <tr>\n",
       "      <th>77</th>\n",
       "      <td>2023-12-09 08:13:34.066695382 +0000 UTC</td>\n",
       "      <td>EAPC</td>\n",
       "      <td>EAPC CONTROL</td>\n",
       "      <td>0</td>\n",
       "      <td>0</td>\n",
       "      <td>428990000</td>\n",
       "      <td>31.642125</td>\n",
       "      <td>34.531130</td>\n",
       "      <td>NaN</td>\n",
       "      <td>1</td>\n",
       "      <td>0</td>\n",
       "      <td>0</td>\n",
       "      <td>0</td>\n",
       "      <td>0</td>\n",
       "      <td>0.0</td>\n",
       "      <td>5</td>\n",
       "    </tr>\n",
       "    <tr>\n",
       "      <th>...</th>\n",
       "      <td>...</td>\n",
       "      <td>...</td>\n",
       "      <td>...</td>\n",
       "      <td>...</td>\n",
       "      <td>...</td>\n",
       "      <td>...</td>\n",
       "      <td>...</td>\n",
       "      <td>...</td>\n",
       "      <td>...</td>\n",
       "      <td>...</td>\n",
       "      <td>...</td>\n",
       "      <td>...</td>\n",
       "      <td>...</td>\n",
       "      <td>...</td>\n",
       "      <td>...</td>\n",
       "      <td>...</td>\n",
       "    </tr>\n",
       "    <tr>\n",
       "      <th>936</th>\n",
       "      <td>2023-12-09 09:33:59.397178623 +0000 UTC</td>\n",
       "      <td>XCAN5</td>\n",
       "      <td>ADMIRAL</td>\n",
       "      <td>31</td>\n",
       "      <td>0</td>\n",
       "      <td>345050010</td>\n",
       "      <td>34.673365</td>\n",
       "      <td>33.066440</td>\n",
       "      <td>NaN</td>\n",
       "      <td>0</td>\n",
       "      <td>8</td>\n",
       "      <td>30</td>\n",
       "      <td>6</td>\n",
       "      <td>4</td>\n",
       "      <td>0.0</td>\n",
       "      <td>5</td>\n",
       "    </tr>\n",
       "    <tr>\n",
       "      <th>958</th>\n",
       "      <td>2023-12-09 09:36:10.766430451 +0000 UTC</td>\n",
       "      <td>GDSA</td>\n",
       "      <td>NAVAL AUXILIARY A135</td>\n",
       "      <td>34</td>\n",
       "      <td>7822550</td>\n",
       "      <td>233303000</td>\n",
       "      <td>34.652465</td>\n",
       "      <td>33.016780</td>\n",
       "      <td>NaN</td>\n",
       "      <td>1</td>\n",
       "      <td>21</td>\n",
       "      <td>154</td>\n",
       "      <td>24</td>\n",
       "      <td>6</td>\n",
       "      <td>0.0</td>\n",
       "      <td>5</td>\n",
       "    </tr>\n",
       "    <tr>\n",
       "      <th>967</th>\n",
       "      <td>2023-12-09 09:36:44.471522672 +0000 UTC</td>\n",
       "      <td>XCAN5</td>\n",
       "      <td>ADMIRAL</td>\n",
       "      <td>31</td>\n",
       "      <td>9421582</td>\n",
       "      <td>345050010</td>\n",
       "      <td>34.673347</td>\n",
       "      <td>33.066408</td>\n",
       "      <td>NaN</td>\n",
       "      <td>1</td>\n",
       "      <td>8</td>\n",
       "      <td>30</td>\n",
       "      <td>6</td>\n",
       "      <td>4</td>\n",
       "      <td>0.0</td>\n",
       "      <td>5</td>\n",
       "    </tr>\n",
       "    <tr>\n",
       "      <th>976</th>\n",
       "      <td>2023-12-09 09:37:31.104895846 +0000 UTC</td>\n",
       "      <td>EAPC</td>\n",
       "      <td>EAPC CONTROL</td>\n",
       "      <td>0</td>\n",
       "      <td>0</td>\n",
       "      <td>428990000</td>\n",
       "      <td>31.642107</td>\n",
       "      <td>34.531045</td>\n",
       "      <td>NaN</td>\n",
       "      <td>1</td>\n",
       "      <td>0</td>\n",
       "      <td>0</td>\n",
       "      <td>0</td>\n",
       "      <td>0</td>\n",
       "      <td>0.0</td>\n",
       "      <td>5</td>\n",
       "    </tr>\n",
       "    <tr>\n",
       "      <th>994</th>\n",
       "      <td>2023-12-09 09:39:00.66771184 +0000 UTC</td>\n",
       "      <td>NaN</td>\n",
       "      <td>ASHDOD PORT</td>\n",
       "      <td>0</td>\n",
       "      <td>0</td>\n",
       "      <td>4282000</td>\n",
       "      <td>31.831207</td>\n",
       "      <td>34.640012</td>\n",
       "      <td>NaN</td>\n",
       "      <td>1</td>\n",
       "      <td>191</td>\n",
       "      <td>45</td>\n",
       "      <td>22</td>\n",
       "      <td>10</td>\n",
       "      <td>0.0</td>\n",
       "      <td>5</td>\n",
       "    </tr>\n",
       "  </tbody>\n",
       "</table>\n",
       "<p>64 rows × 16 columns</p>\n",
       "</div>"
      ],
      "text/plain": [
       "                                    time_utc CallSign              ShipName  \\\n",
       "4    2023-12-09 08:06:08.806450979 +0000 UTC     GDSA  NAVAL AUXILIARY A135   \n",
       "20   2023-12-09 08:07:43.529290641 +0000 UTC      NaN           ASHDOD PORT   \n",
       "32   2023-12-09 08:08:52.471973589 +0000 UTC      NaN           ASHDOD PORT   \n",
       "68    2023-12-09 08:12:54.22487949 +0000 UTC    P3CQ9              PETSAS I   \n",
       "77   2023-12-09 08:13:34.066695382 +0000 UTC     EAPC          EAPC CONTROL   \n",
       "..                                       ...      ...                   ...   \n",
       "936  2023-12-09 09:33:59.397178623 +0000 UTC    XCAN5               ADMIRAL   \n",
       "958  2023-12-09 09:36:10.766430451 +0000 UTC     GDSA  NAVAL AUXILIARY A135   \n",
       "967  2023-12-09 09:36:44.471522672 +0000 UTC    XCAN5               ADMIRAL   \n",
       "976  2023-12-09 09:37:31.104895846 +0000 UTC     EAPC          EAPC CONTROL   \n",
       "994   2023-12-09 09:39:00.66771184 +0000 UTC      NaN           ASHDOD PORT   \n",
       "\n",
       "     Type  ImoNumber       MMSI   latitude  longitude Destination  FixType  \\\n",
       "4      34    7822550  233303000  34.652447  33.016777         NaN        1   \n",
       "20      0          0    4282000  31.831317  34.639927         NaN        0   \n",
       "32      0          0    4282000  31.831242  34.639950         NaN        1   \n",
       "68      0          0  209352000  34.664468  33.029690         NaN       15   \n",
       "77      0          0  428990000  31.642125  34.531130         NaN        1   \n",
       "..    ...        ...        ...        ...        ...         ...      ...   \n",
       "936    31          0  345050010  34.673365  33.066440         NaN        0   \n",
       "958    34    7822550  233303000  34.652465  33.016780         NaN        1   \n",
       "967    31    9421582  345050010  34.673347  33.066408         NaN        1   \n",
       "976     0          0  428990000  31.642107  34.531045         NaN        1   \n",
       "994     0          0    4282000  31.831207  34.640012         NaN        1   \n",
       "\n",
       "     Dimension A  Dimension B  Dimension C  Dimension D  MaximumStaticDraught  \\\n",
       "4             21          154           24            6                   0.0   \n",
       "20             0          236            0           32                   0.0   \n",
       "32           191           45           22           10                   0.0   \n",
       "68             0            0            0            0                   0.0   \n",
       "77             0            0            0            0                   0.0   \n",
       "..           ...          ...          ...          ...                   ...   \n",
       "936            8           30            6            4                   0.0   \n",
       "958           21          154           24            6                   0.0   \n",
       "967            8           30            6            4                   0.0   \n",
       "976            0            0            0            0                   0.0   \n",
       "994          191           45           22           10                   0.0   \n",
       "\n",
       "     MessageID  \n",
       "4            5  \n",
       "20           5  \n",
       "32           5  \n",
       "68           5  \n",
       "77           5  \n",
       "..         ...  \n",
       "936          5  \n",
       "958          5  \n",
       "967          5  \n",
       "976          5  \n",
       "994          5  \n",
       "\n",
       "[64 rows x 16 columns]"
      ]
     },
     "execution_count": 220,
     "metadata": {},
     "output_type": "execute_result"
    }
   ],
   "source": [
    "# Rows with at least one null value:\n",
    "geo_raw_ship_data[geo_raw_ship_data.isnull().any(axis=1)]"
   ]
  },
  {
   "cell_type": "markdown",
   "metadata": {},
   "source": [
    "Παρατηρώντας πως έχουμε δεδομένα που λείπουν εξετάζουμε σε ποιές στήλες υφίσταται αυτό."
   ]
  },
  {
   "cell_type": "code",
   "execution_count": 221,
   "metadata": {},
   "outputs": [
    {
     "name": "stdout",
     "output_type": "stream",
     "text": [
      "Null counts in each column:\n",
      "time_utc                 0\n",
      "CallSign                17\n",
      "ShipName                 0\n",
      "Type                     0\n",
      "ImoNumber                0\n",
      "MMSI                     0\n",
      "latitude                 0\n",
      "longitude                0\n",
      "Destination             64\n",
      "FixType                  0\n",
      "Dimension A              0\n",
      "Dimension B              0\n",
      "Dimension C              0\n",
      "Dimension D              0\n",
      "MaximumStaticDraught     0\n",
      "MessageID                0\n",
      "dtype: int64\n"
     ]
    }
   ],
   "source": [
    "#  Print dataframe null values in each column\n",
    "null_counts = geo_raw_ship_data.isnull().sum()\n",
    "print(\"Null counts in each column:\") \n",
    "print(null_counts)"
   ]
  },
  {
   "cell_type": "markdown",
   "metadata": {},
   "source": [
    "Επομένως οι στήλες για τις οποίες δεν έχουμε δεδομένα είναι \"callsign\" και \"destination\". Με τον τρόπο αυτό αντιλαμβανόμαστε πως μπορούμε να προχωρήσουμε στην περαιτέρω επεξεργασία των δεδομένων. "
   ]
  },
  {
   "cell_type": "markdown",
   "metadata": {},
   "source": [
    "Ξεκινώντας απο τη στήλη του χρόνου αρχικά θα χρειαστεί να την αναγνωρίσουμε σαν timestamp και να διορθώσουμε την μορφή ώστε η ακρίβεια να σταματάει στα δευτερόλεπτα."
   ]
  },
  {
   "cell_type": "code",
   "execution_count": 222,
   "metadata": {},
   "outputs": [
    {
     "data": {
      "text/html": [
       "<div>\n",
       "<style scoped>\n",
       "    .dataframe tbody tr th:only-of-type {\n",
       "        vertical-align: middle;\n",
       "    }\n",
       "\n",
       "    .dataframe tbody tr th {\n",
       "        vertical-align: top;\n",
       "    }\n",
       "\n",
       "    .dataframe thead th {\n",
       "        text-align: right;\n",
       "    }\n",
       "</style>\n",
       "<table border=\"1\" class=\"dataframe\">\n",
       "  <thead>\n",
       "    <tr style=\"text-align: right;\">\n",
       "      <th></th>\n",
       "      <th>time_utc</th>\n",
       "      <th>CallSign</th>\n",
       "      <th>ShipName</th>\n",
       "      <th>Type</th>\n",
       "      <th>ImoNumber</th>\n",
       "      <th>MMSI</th>\n",
       "      <th>latitude</th>\n",
       "      <th>longitude</th>\n",
       "      <th>Destination</th>\n",
       "      <th>FixType</th>\n",
       "      <th>Dimension A</th>\n",
       "      <th>Dimension B</th>\n",
       "      <th>Dimension C</th>\n",
       "      <th>Dimension D</th>\n",
       "      <th>MaximumStaticDraught</th>\n",
       "      <th>MessageID</th>\n",
       "    </tr>\n",
       "  </thead>\n",
       "  <tbody>\n",
       "    <tr>\n",
       "      <th>0</th>\n",
       "      <td>2023-12-09 08:05:51</td>\n",
       "      <td>IBRV</td>\n",
       "      <td>SEMINOLE</td>\n",
       "      <td>90</td>\n",
       "      <td>7645550</td>\n",
       "      <td>247274900</td>\n",
       "      <td>34.669683</td>\n",
       "      <td>33.058350</td>\n",
       "      <td>CYLMS</td>\n",
       "      <td>1</td>\n",
       "      <td>28</td>\n",
       "      <td>107</td>\n",
       "      <td>15</td>\n",
       "      <td>15</td>\n",
       "      <td>4.5</td>\n",
       "      <td>5</td>\n",
       "    </tr>\n",
       "    <tr>\n",
       "      <th>1</th>\n",
       "      <td>2023-12-09 08:05:54</td>\n",
       "      <td>5BLV2</td>\n",
       "      <td>EDT ZENON</td>\n",
       "      <td>52</td>\n",
       "      <td>9315977</td>\n",
       "      <td>212541000</td>\n",
       "      <td>34.645403</td>\n",
       "      <td>33.009685</td>\n",
       "      <td>LIMASSOL</td>\n",
       "      <td>1</td>\n",
       "      <td>7</td>\n",
       "      <td>21</td>\n",
       "      <td>2</td>\n",
       "      <td>7</td>\n",
       "      <td>2.4</td>\n",
       "      <td>5</td>\n",
       "    </tr>\n",
       "    <tr>\n",
       "      <th>2</th>\n",
       "      <td>2023-12-09 08:05:57</td>\n",
       "      <td>TCA5645</td>\n",
       "      <td>KOSOVAK</td>\n",
       "      <td>71</td>\n",
       "      <td>9211157</td>\n",
       "      <td>271047045</td>\n",
       "      <td>35.826203</td>\n",
       "      <td>29.005122</td>\n",
       "      <td>TRALI</td>\n",
       "      <td>1</td>\n",
       "      <td>138</td>\n",
       "      <td>20</td>\n",
       "      <td>20</td>\n",
       "      <td>4</td>\n",
       "      <td>10.0</td>\n",
       "      <td>5</td>\n",
       "    </tr>\n",
       "    <tr>\n",
       "      <th>3</th>\n",
       "      <td>2023-12-09 08:06:05</td>\n",
       "      <td>5BFB3</td>\n",
       "      <td>EDT LEON</td>\n",
       "      <td>91</td>\n",
       "      <td>9575400</td>\n",
       "      <td>209343000</td>\n",
       "      <td>34.645127</td>\n",
       "      <td>33.008998</td>\n",
       "      <td>LIMASSOL</td>\n",
       "      <td>0</td>\n",
       "      <td>18</td>\n",
       "      <td>32</td>\n",
       "      <td>5</td>\n",
       "      <td>5</td>\n",
       "      <td>2.4</td>\n",
       "      <td>5</td>\n",
       "    </tr>\n",
       "    <tr>\n",
       "      <th>4</th>\n",
       "      <td>2023-12-09 08:06:08</td>\n",
       "      <td>GDSA</td>\n",
       "      <td>NAVAL AUXILIARY A135</td>\n",
       "      <td>34</td>\n",
       "      <td>7822550</td>\n",
       "      <td>233303000</td>\n",
       "      <td>34.652447</td>\n",
       "      <td>33.016777</td>\n",
       "      <td>NaN</td>\n",
       "      <td>1</td>\n",
       "      <td>21</td>\n",
       "      <td>154</td>\n",
       "      <td>24</td>\n",
       "      <td>6</td>\n",
       "      <td>0.0</td>\n",
       "      <td>5</td>\n",
       "    </tr>\n",
       "  </tbody>\n",
       "</table>\n",
       "</div>"
      ],
      "text/plain": [
       "              time_utc CallSign              ShipName  Type  ImoNumber  \\\n",
       "0  2023-12-09 08:05:51     IBRV              SEMINOLE    90    7645550   \n",
       "1  2023-12-09 08:05:54    5BLV2             EDT ZENON    52    9315977   \n",
       "2  2023-12-09 08:05:57  TCA5645               KOSOVAK    71    9211157   \n",
       "3  2023-12-09 08:06:05    5BFB3              EDT LEON    91    9575400   \n",
       "4  2023-12-09 08:06:08     GDSA  NAVAL AUXILIARY A135    34    7822550   \n",
       "\n",
       "        MMSI   latitude  longitude Destination  FixType  Dimension A  \\\n",
       "0  247274900  34.669683  33.058350       CYLMS        1           28   \n",
       "1  212541000  34.645403  33.009685    LIMASSOL        1            7   \n",
       "2  271047045  35.826203  29.005122       TRALI        1          138   \n",
       "3  209343000  34.645127  33.008998    LIMASSOL        0           18   \n",
       "4  233303000  34.652447  33.016777         NaN        1           21   \n",
       "\n",
       "   Dimension B  Dimension C  Dimension D  MaximumStaticDraught  MessageID  \n",
       "0          107           15           15                   4.5          5  \n",
       "1           21            2            7                   2.4          5  \n",
       "2           20           20            4                  10.0          5  \n",
       "3           32            5            5                   2.4          5  \n",
       "4          154           24            6                   0.0          5  "
      ]
     },
     "execution_count": 222,
     "metadata": {},
     "output_type": "execute_result"
    }
   ],
   "source": [
    "#Parse time column as timestamp and reshape time format\n",
    "geo_raw_ship_data['time_utc'] = pd.to_datetime(geo_raw_ship_data['time_utc'], format='%Y-%m-%d %H:%M:%S.%f %z UTC')\n",
    "geo_raw_ship_data['time_utc'] = geo_raw_ship_data['time_utc'].dt.strftime(\"%Y-%m-%d %H:%M:%S\")\n",
    "geo_raw_ship_data.head()"
   ]
  },
  {
   "cell_type": "markdown",
   "metadata": {},
   "source": [
    "Υπολογίζουμε τη χρονική διάρκεια των δεδομένων μας."
   ]
  },
  {
   "cell_type": "code",
   "execution_count": 223,
   "metadata": {},
   "outputs": [
    {
     "name": "stdout",
     "output_type": "stream",
     "text": [
      "0 days 01:33:46\n"
     ]
    }
   ],
   "source": [
    "# Time delta\n",
    "geo_raw_ship_data['time_utc'] = pd.to_datetime(geo_raw_ship_data['time_utc'])\n",
    "last_index = len(geo_raw_ship_data) - 1\n",
    "time_delta = geo_raw_ship_data.loc[last_index, 'time_utc'] - geo_raw_ship_data.loc[0, 'time_utc'] \n",
    "print(time_delta)"
   ]
  },
  {
   "cell_type": "markdown",
   "metadata": {},
   "source": [
    "Στη συνέχεια θα μετατρέψουμε τις στήλες των συντεταγμένων σε μορφή τέτοια ώστε να είναι αξιοποιήσιμες για μετέπειτα απεικόνιση. Τα στοιχεία θα προστεθούν στο τέλος του πίνακα σαν στήλη με το όνομα \"geometry\"."
   ]
  },
  {
   "cell_type": "code",
   "execution_count": 224,
   "metadata": {},
   "outputs": [
    {
     "data": {
      "text/html": [
       "<div>\n",
       "<style scoped>\n",
       "    .dataframe tbody tr th:only-of-type {\n",
       "        vertical-align: middle;\n",
       "    }\n",
       "\n",
       "    .dataframe tbody tr th {\n",
       "        vertical-align: top;\n",
       "    }\n",
       "\n",
       "    .dataframe thead th {\n",
       "        text-align: right;\n",
       "    }\n",
       "</style>\n",
       "<table border=\"1\" class=\"dataframe\">\n",
       "  <thead>\n",
       "    <tr style=\"text-align: right;\">\n",
       "      <th></th>\n",
       "      <th>time_utc</th>\n",
       "      <th>CallSign</th>\n",
       "      <th>ShipName</th>\n",
       "      <th>Type</th>\n",
       "      <th>ImoNumber</th>\n",
       "      <th>MMSI</th>\n",
       "      <th>latitude</th>\n",
       "      <th>longitude</th>\n",
       "      <th>Destination</th>\n",
       "      <th>FixType</th>\n",
       "      <th>Dimension A</th>\n",
       "      <th>Dimension B</th>\n",
       "      <th>Dimension C</th>\n",
       "      <th>Dimension D</th>\n",
       "      <th>MaximumStaticDraught</th>\n",
       "      <th>MessageID</th>\n",
       "      <th>geometry</th>\n",
       "    </tr>\n",
       "  </thead>\n",
       "  <tbody>\n",
       "    <tr>\n",
       "      <th>0</th>\n",
       "      <td>2023-12-09 08:05:51</td>\n",
       "      <td>IBRV</td>\n",
       "      <td>SEMINOLE</td>\n",
       "      <td>90</td>\n",
       "      <td>7645550</td>\n",
       "      <td>247274900</td>\n",
       "      <td>34.669683</td>\n",
       "      <td>33.058350</td>\n",
       "      <td>CYLMS</td>\n",
       "      <td>1</td>\n",
       "      <td>28</td>\n",
       "      <td>107</td>\n",
       "      <td>15</td>\n",
       "      <td>15</td>\n",
       "      <td>4.5</td>\n",
       "      <td>5</td>\n",
       "      <td>POINT (33.05835 34.66968)</td>\n",
       "    </tr>\n",
       "    <tr>\n",
       "      <th>1</th>\n",
       "      <td>2023-12-09 08:05:54</td>\n",
       "      <td>5BLV2</td>\n",
       "      <td>EDT ZENON</td>\n",
       "      <td>52</td>\n",
       "      <td>9315977</td>\n",
       "      <td>212541000</td>\n",
       "      <td>34.645403</td>\n",
       "      <td>33.009685</td>\n",
       "      <td>LIMASSOL</td>\n",
       "      <td>1</td>\n",
       "      <td>7</td>\n",
       "      <td>21</td>\n",
       "      <td>2</td>\n",
       "      <td>7</td>\n",
       "      <td>2.4</td>\n",
       "      <td>5</td>\n",
       "      <td>POINT (33.00969 34.64540)</td>\n",
       "    </tr>\n",
       "    <tr>\n",
       "      <th>2</th>\n",
       "      <td>2023-12-09 08:05:57</td>\n",
       "      <td>TCA5645</td>\n",
       "      <td>KOSOVAK</td>\n",
       "      <td>71</td>\n",
       "      <td>9211157</td>\n",
       "      <td>271047045</td>\n",
       "      <td>35.826203</td>\n",
       "      <td>29.005122</td>\n",
       "      <td>TRALI</td>\n",
       "      <td>1</td>\n",
       "      <td>138</td>\n",
       "      <td>20</td>\n",
       "      <td>20</td>\n",
       "      <td>4</td>\n",
       "      <td>10.0</td>\n",
       "      <td>5</td>\n",
       "      <td>POINT (29.00512 35.82620)</td>\n",
       "    </tr>\n",
       "    <tr>\n",
       "      <th>3</th>\n",
       "      <td>2023-12-09 08:06:05</td>\n",
       "      <td>5BFB3</td>\n",
       "      <td>EDT LEON</td>\n",
       "      <td>91</td>\n",
       "      <td>9575400</td>\n",
       "      <td>209343000</td>\n",
       "      <td>34.645127</td>\n",
       "      <td>33.008998</td>\n",
       "      <td>LIMASSOL</td>\n",
       "      <td>0</td>\n",
       "      <td>18</td>\n",
       "      <td>32</td>\n",
       "      <td>5</td>\n",
       "      <td>5</td>\n",
       "      <td>2.4</td>\n",
       "      <td>5</td>\n",
       "      <td>POINT (33.00900 34.64513)</td>\n",
       "    </tr>\n",
       "    <tr>\n",
       "      <th>4</th>\n",
       "      <td>2023-12-09 08:06:08</td>\n",
       "      <td>GDSA</td>\n",
       "      <td>NAVAL AUXILIARY A135</td>\n",
       "      <td>34</td>\n",
       "      <td>7822550</td>\n",
       "      <td>233303000</td>\n",
       "      <td>34.652447</td>\n",
       "      <td>33.016777</td>\n",
       "      <td>NaN</td>\n",
       "      <td>1</td>\n",
       "      <td>21</td>\n",
       "      <td>154</td>\n",
       "      <td>24</td>\n",
       "      <td>6</td>\n",
       "      <td>0.0</td>\n",
       "      <td>5</td>\n",
       "      <td>POINT (33.01678 34.65245)</td>\n",
       "    </tr>\n",
       "  </tbody>\n",
       "</table>\n",
       "</div>"
      ],
      "text/plain": [
       "             time_utc CallSign              ShipName  Type  ImoNumber  \\\n",
       "0 2023-12-09 08:05:51     IBRV              SEMINOLE    90    7645550   \n",
       "1 2023-12-09 08:05:54    5BLV2             EDT ZENON    52    9315977   \n",
       "2 2023-12-09 08:05:57  TCA5645               KOSOVAK    71    9211157   \n",
       "3 2023-12-09 08:06:05    5BFB3              EDT LEON    91    9575400   \n",
       "4 2023-12-09 08:06:08     GDSA  NAVAL AUXILIARY A135    34    7822550   \n",
       "\n",
       "        MMSI   latitude  longitude Destination  FixType  Dimension A  \\\n",
       "0  247274900  34.669683  33.058350       CYLMS        1           28   \n",
       "1  212541000  34.645403  33.009685    LIMASSOL        1            7   \n",
       "2  271047045  35.826203  29.005122       TRALI        1          138   \n",
       "3  209343000  34.645127  33.008998    LIMASSOL        0           18   \n",
       "4  233303000  34.652447  33.016777         NaN        1           21   \n",
       "\n",
       "   Dimension B  Dimension C  Dimension D  MaximumStaticDraught  MessageID  \\\n",
       "0          107           15           15                   4.5          5   \n",
       "1           21            2            7                   2.4          5   \n",
       "2           20           20            4                  10.0          5   \n",
       "3           32            5            5                   2.4          5   \n",
       "4          154           24            6                   0.0          5   \n",
       "\n",
       "                    geometry  \n",
       "0  POINT (33.05835 34.66968)  \n",
       "1  POINT (33.00969 34.64540)  \n",
       "2  POINT (29.00512 35.82620)  \n",
       "3  POINT (33.00900 34.64513)  \n",
       "4  POINT (33.01678 34.65245)  "
      ]
     },
     "execution_count": 224,
     "metadata": {},
     "output_type": "execute_result"
    }
   ],
   "source": [
    "# Coordinates format to point format for plotting and visualization\n",
    "geo_raw_ship_data = gpd.GeoDataFrame(raw_ship_data, geometry=gpd.points_from_xy(raw_ship_data.longitude, raw_ship_data.latitude), crs=\"EPSG:4326\")\n",
    "geo_raw_ship_data.head()"
   ]
  },
  {
   "cell_type": "markdown",
   "metadata": {},
   "source": [
    "Επίσης θα προχωρήσουμε στην σύμπτυξη των στηλών που αναφέρονται στις διαστάσεις. Η παρακάτω εικόνα μας βοηθάει στο να κατανοήσουμε τον τρόπο με τον οποίο πρέπει να δουλέψουμε."
   ]
  },
  {
   "cell_type": "markdown",
   "metadata": {},
   "source": [
    "<img src=\"https://downloads.intercomcdn.com/i/o/231836738/65f938bcdca4618f076528ba/AIS_Shipboard_AIS_User_Manual_manual_L-3_Communications.gif?expires=1620129848&signature=990df0a70d131141035cdc7a3699a27029e7bc4b23f9fb51616ccef6c219a446\" />"
   ]
  },
  {
   "cell_type": "code",
   "execution_count": 225,
   "metadata": {},
   "outputs": [
    {
     "data": {
      "text/html": [
       "<div>\n",
       "<style scoped>\n",
       "    .dataframe tbody tr th:only-of-type {\n",
       "        vertical-align: middle;\n",
       "    }\n",
       "\n",
       "    .dataframe tbody tr th {\n",
       "        vertical-align: top;\n",
       "    }\n",
       "\n",
       "    .dataframe thead th {\n",
       "        text-align: right;\n",
       "    }\n",
       "</style>\n",
       "<table border=\"1\" class=\"dataframe\">\n",
       "  <thead>\n",
       "    <tr style=\"text-align: right;\">\n",
       "      <th></th>\n",
       "      <th>time_utc</th>\n",
       "      <th>CallSign</th>\n",
       "      <th>ShipName</th>\n",
       "      <th>Type</th>\n",
       "      <th>ImoNumber</th>\n",
       "      <th>MMSI</th>\n",
       "      <th>latitude</th>\n",
       "      <th>longitude</th>\n",
       "      <th>Destination</th>\n",
       "      <th>FixType</th>\n",
       "      <th>MaximumStaticDraught</th>\n",
       "      <th>MessageID</th>\n",
       "      <th>geometry</th>\n",
       "      <th>length</th>\n",
       "      <th>width</th>\n",
       "    </tr>\n",
       "  </thead>\n",
       "  <tbody>\n",
       "    <tr>\n",
       "      <th>0</th>\n",
       "      <td>2023-12-09 08:05:51</td>\n",
       "      <td>IBRV</td>\n",
       "      <td>SEMINOLE</td>\n",
       "      <td>90</td>\n",
       "      <td>7645550</td>\n",
       "      <td>247274900</td>\n",
       "      <td>34.669683</td>\n",
       "      <td>33.058350</td>\n",
       "      <td>CYLMS</td>\n",
       "      <td>1</td>\n",
       "      <td>4.5</td>\n",
       "      <td>5</td>\n",
       "      <td>POINT (33.05835 34.66968)</td>\n",
       "      <td>135</td>\n",
       "      <td>30</td>\n",
       "    </tr>\n",
       "    <tr>\n",
       "      <th>1</th>\n",
       "      <td>2023-12-09 08:05:54</td>\n",
       "      <td>5BLV2</td>\n",
       "      <td>EDT ZENON</td>\n",
       "      <td>52</td>\n",
       "      <td>9315977</td>\n",
       "      <td>212541000</td>\n",
       "      <td>34.645403</td>\n",
       "      <td>33.009685</td>\n",
       "      <td>LIMASSOL</td>\n",
       "      <td>1</td>\n",
       "      <td>2.4</td>\n",
       "      <td>5</td>\n",
       "      <td>POINT (33.00969 34.64540)</td>\n",
       "      <td>28</td>\n",
       "      <td>9</td>\n",
       "    </tr>\n",
       "    <tr>\n",
       "      <th>2</th>\n",
       "      <td>2023-12-09 08:05:57</td>\n",
       "      <td>TCA5645</td>\n",
       "      <td>KOSOVAK</td>\n",
       "      <td>71</td>\n",
       "      <td>9211157</td>\n",
       "      <td>271047045</td>\n",
       "      <td>35.826203</td>\n",
       "      <td>29.005122</td>\n",
       "      <td>TRALI</td>\n",
       "      <td>1</td>\n",
       "      <td>10.0</td>\n",
       "      <td>5</td>\n",
       "      <td>POINT (29.00512 35.82620)</td>\n",
       "      <td>158</td>\n",
       "      <td>24</td>\n",
       "    </tr>\n",
       "    <tr>\n",
       "      <th>3</th>\n",
       "      <td>2023-12-09 08:06:05</td>\n",
       "      <td>5BFB3</td>\n",
       "      <td>EDT LEON</td>\n",
       "      <td>91</td>\n",
       "      <td>9575400</td>\n",
       "      <td>209343000</td>\n",
       "      <td>34.645127</td>\n",
       "      <td>33.008998</td>\n",
       "      <td>LIMASSOL</td>\n",
       "      <td>0</td>\n",
       "      <td>2.4</td>\n",
       "      <td>5</td>\n",
       "      <td>POINT (33.00900 34.64513)</td>\n",
       "      <td>50</td>\n",
       "      <td>10</td>\n",
       "    </tr>\n",
       "    <tr>\n",
       "      <th>4</th>\n",
       "      <td>2023-12-09 08:06:08</td>\n",
       "      <td>GDSA</td>\n",
       "      <td>NAVAL AUXILIARY A135</td>\n",
       "      <td>34</td>\n",
       "      <td>7822550</td>\n",
       "      <td>233303000</td>\n",
       "      <td>34.652447</td>\n",
       "      <td>33.016777</td>\n",
       "      <td>NaN</td>\n",
       "      <td>1</td>\n",
       "      <td>0.0</td>\n",
       "      <td>5</td>\n",
       "      <td>POINT (33.01678 34.65245)</td>\n",
       "      <td>175</td>\n",
       "      <td>30</td>\n",
       "    </tr>\n",
       "  </tbody>\n",
       "</table>\n",
       "</div>"
      ],
      "text/plain": [
       "             time_utc CallSign              ShipName  Type  ImoNumber  \\\n",
       "0 2023-12-09 08:05:51     IBRV              SEMINOLE    90    7645550   \n",
       "1 2023-12-09 08:05:54    5BLV2             EDT ZENON    52    9315977   \n",
       "2 2023-12-09 08:05:57  TCA5645               KOSOVAK    71    9211157   \n",
       "3 2023-12-09 08:06:05    5BFB3              EDT LEON    91    9575400   \n",
       "4 2023-12-09 08:06:08     GDSA  NAVAL AUXILIARY A135    34    7822550   \n",
       "\n",
       "        MMSI   latitude  longitude Destination  FixType  MaximumStaticDraught  \\\n",
       "0  247274900  34.669683  33.058350       CYLMS        1                   4.5   \n",
       "1  212541000  34.645403  33.009685    LIMASSOL        1                   2.4   \n",
       "2  271047045  35.826203  29.005122       TRALI        1                  10.0   \n",
       "3  209343000  34.645127  33.008998    LIMASSOL        0                   2.4   \n",
       "4  233303000  34.652447  33.016777         NaN        1                   0.0   \n",
       "\n",
       "   MessageID                   geometry  length  width  \n",
       "0          5  POINT (33.05835 34.66968)     135     30  \n",
       "1          5  POINT (33.00969 34.64540)      28      9  \n",
       "2          5  POINT (29.00512 35.82620)     158     24  \n",
       "3          5  POINT (33.00900 34.64513)      50     10  \n",
       "4          5  POINT (33.01678 34.65245)     175     30  "
      ]
     },
     "execution_count": 225,
     "metadata": {},
     "output_type": "execute_result"
    }
   ],
   "source": [
    "# Collapsing dimension columns\n",
    "geo_raw_ship_data['length'] = (geo_raw_ship_data['Dimension A'] + geo_raw_ship_data['Dimension B'])\n",
    "geo_raw_ship_data['width'] = (geo_raw_ship_data['Dimension C'] + geo_raw_ship_data['Dimension D'])\n",
    "geo_raw_ship_data = geo_raw_ship_data.drop(columns=['Dimension A', 'Dimension B', 'Dimension C', 'Dimension D'])\n",
    "geo_raw_ship_data.head()"
   ]
  },
  {
   "cell_type": "markdown",
   "metadata": {},
   "source": [
    "Μετά τη σύμπτυξη  επιθυμούμε να εστιάσουμε στα δεδομένα αυτών των στηλών. Επομένως εντοπίζουμε αρχικά τις διαστάσεις με τιμή 0 και την κατηγορία του σκάφους που αυτή η συνθήκη ισχύει."
   ]
  },
  {
   "cell_type": "code",
   "execution_count": 226,
   "metadata": {},
   "outputs": [
    {
     "name": "stdout",
     "output_type": "stream",
     "text": [
      "[70 52  0]\n",
      "[70 52  0]\n"
     ]
    }
   ],
   "source": [
    "# Find the vessels with \"0\" values in their dimensions\n",
    "length_dimension = geo_raw_ship_data[(geo_raw_ship_data['length']==0)]\n",
    "width_dimension = geo_raw_ship_data[(geo_raw_ship_data['width']==0)]\n",
    "# Ship Types with 0 in length\n",
    "print(length_dimension['Type'].unique())\n",
    "# Ship Types with 0 in width\n",
    "print(width_dimension['Type'].unique())"
   ]
  },
  {
   "cell_type": "markdown",
   "metadata": {},
   "source": [
    "Επομένως οι κατηγορίες στις οποίες εντοπίζουμε τιμές 0 στις διαστάσεις είναι [ 70 = cargo, 52 = Tug, 0 = default ]"
   ]
  },
  {
   "cell_type": "markdown",
   "metadata": {},
   "source": [
    "Επομένως για καλύτερη διαχείριση των δεδομένων μας θα προχωρήσουμε στην αντικατάστασή τους με την μέση τιμή των υπόλοιπων εγγραφών της κατηγορίας. "
   ]
  },
  {
   "cell_type": "code",
   "execution_count": 227,
   "metadata": {},
   "outputs": [],
   "source": [
    "# Get all the ships that are of type cargo, tug, default\n",
    "cargo = geo_raw_ship_data[(geo_raw_ship_data['Type'] == 70)]\n",
    "tug = geo_raw_ship_data[(geo_raw_ship_data['Type'] == 52)]\n",
    "default = geo_raw_ship_data[(geo_raw_ship_data['Type'] == 0)]"
   ]
  },
  {
   "cell_type": "code",
   "execution_count": 228,
   "metadata": {},
   "outputs": [],
   "source": [
    "# Calculate the mean value of their dimensions\n",
    "cargo_mean_length = int(cargo['length'].mean())\n",
    "cargo_mean_width = int(cargo['width'].mean())\n",
    "\n",
    "tug_mean_length = int(tug['length'].mean())\n",
    "tug_mean_width = int(tug['width'].mean())\n",
    "\n",
    "default_mean_length = int(default['length'].mean())\n",
    "default_mean_width = int(default['width'].mean())"
   ]
  },
  {
   "cell_type": "code",
   "execution_count": 229,
   "metadata": {},
   "outputs": [],
   "source": [
    "# Replace the zero values with the mean value\n",
    "geo_raw_ship_data.loc[(geo_raw_ship_data['length'] == 0) & (geo_raw_ship_data['Type']==70), ['length']] = cargo_mean_length\n",
    "geo_raw_ship_data.loc[(geo_raw_ship_data['width'] == 0) & (geo_raw_ship_data['Type']==70), ['width']] = cargo_mean_width\n",
    "\n",
    "geo_raw_ship_data.loc[(geo_raw_ship_data['length'] == 0) & (geo_raw_ship_data['Type']==52), ['length']] = tug_mean_length\n",
    "geo_raw_ship_data.loc[(geo_raw_ship_data['width'] == 0) & (geo_raw_ship_data['Type']==52), ['width']] = tug_mean_width\n",
    "\n",
    "geo_raw_ship_data.loc[(geo_raw_ship_data['length'] == 0) & (geo_raw_ship_data['Type']==0), ['length']] = default_mean_length\n",
    "geo_raw_ship_data.loc[(geo_raw_ship_data['length'] == 0) & (geo_raw_ship_data['Type']==0), ['width']] = tug_mean_width"
   ]
  },
  {
   "cell_type": "markdown",
   "metadata": {},
   "source": [
    "Μετά την επεξεργασία των δεδομένων μας η νέα μορφή του είναι η εξής"
   ]
  },
  {
   "cell_type": "code",
   "execution_count": 230,
   "metadata": {},
   "outputs": [
    {
     "data": {
      "text/plain": [
       "(1003, 15)"
      ]
     },
     "execution_count": 230,
     "metadata": {},
     "output_type": "execute_result"
    }
   ],
   "source": [
    "# Get the shape of our dataframe\n",
    "geo_raw_ship_data.shape"
   ]
  },
  {
   "cell_type": "code",
   "execution_count": 231,
   "metadata": {},
   "outputs": [
    {
     "data": {
      "text/html": [
       "<div>\n",
       "<style scoped>\n",
       "    .dataframe tbody tr th:only-of-type {\n",
       "        vertical-align: middle;\n",
       "    }\n",
       "\n",
       "    .dataframe tbody tr th {\n",
       "        vertical-align: top;\n",
       "    }\n",
       "\n",
       "    .dataframe thead th {\n",
       "        text-align: right;\n",
       "    }\n",
       "</style>\n",
       "<table border=\"1\" class=\"dataframe\">\n",
       "  <thead>\n",
       "    <tr style=\"text-align: right;\">\n",
       "      <th></th>\n",
       "      <th>time_utc</th>\n",
       "      <th>CallSign</th>\n",
       "      <th>ShipName</th>\n",
       "      <th>Type</th>\n",
       "      <th>ImoNumber</th>\n",
       "      <th>MMSI</th>\n",
       "      <th>latitude</th>\n",
       "      <th>longitude</th>\n",
       "      <th>Destination</th>\n",
       "      <th>FixType</th>\n",
       "      <th>MaximumStaticDraught</th>\n",
       "      <th>MessageID</th>\n",
       "      <th>geometry</th>\n",
       "      <th>length</th>\n",
       "      <th>width</th>\n",
       "    </tr>\n",
       "  </thead>\n",
       "  <tbody>\n",
       "    <tr>\n",
       "      <th>0</th>\n",
       "      <td>2023-12-09 08:05:51</td>\n",
       "      <td>IBRV</td>\n",
       "      <td>SEMINOLE</td>\n",
       "      <td>90</td>\n",
       "      <td>7645550</td>\n",
       "      <td>247274900</td>\n",
       "      <td>34.669683</td>\n",
       "      <td>33.058350</td>\n",
       "      <td>CYLMS</td>\n",
       "      <td>1</td>\n",
       "      <td>4.5</td>\n",
       "      <td>5</td>\n",
       "      <td>POINT (33.05835 34.66968)</td>\n",
       "      <td>135</td>\n",
       "      <td>30</td>\n",
       "    </tr>\n",
       "    <tr>\n",
       "      <th>1</th>\n",
       "      <td>2023-12-09 08:05:54</td>\n",
       "      <td>5BLV2</td>\n",
       "      <td>EDT ZENON</td>\n",
       "      <td>52</td>\n",
       "      <td>9315977</td>\n",
       "      <td>212541000</td>\n",
       "      <td>34.645403</td>\n",
       "      <td>33.009685</td>\n",
       "      <td>LIMASSOL</td>\n",
       "      <td>1</td>\n",
       "      <td>2.4</td>\n",
       "      <td>5</td>\n",
       "      <td>POINT (33.00969 34.64540)</td>\n",
       "      <td>28</td>\n",
       "      <td>9</td>\n",
       "    </tr>\n",
       "    <tr>\n",
       "      <th>2</th>\n",
       "      <td>2023-12-09 08:05:57</td>\n",
       "      <td>TCA5645</td>\n",
       "      <td>KOSOVAK</td>\n",
       "      <td>71</td>\n",
       "      <td>9211157</td>\n",
       "      <td>271047045</td>\n",
       "      <td>35.826203</td>\n",
       "      <td>29.005122</td>\n",
       "      <td>TRALI</td>\n",
       "      <td>1</td>\n",
       "      <td>10.0</td>\n",
       "      <td>5</td>\n",
       "      <td>POINT (29.00512 35.82620)</td>\n",
       "      <td>158</td>\n",
       "      <td>24</td>\n",
       "    </tr>\n",
       "    <tr>\n",
       "      <th>3</th>\n",
       "      <td>2023-12-09 08:06:05</td>\n",
       "      <td>5BFB3</td>\n",
       "      <td>EDT LEON</td>\n",
       "      <td>91</td>\n",
       "      <td>9575400</td>\n",
       "      <td>209343000</td>\n",
       "      <td>34.645127</td>\n",
       "      <td>33.008998</td>\n",
       "      <td>LIMASSOL</td>\n",
       "      <td>0</td>\n",
       "      <td>2.4</td>\n",
       "      <td>5</td>\n",
       "      <td>POINT (33.00900 34.64513)</td>\n",
       "      <td>50</td>\n",
       "      <td>10</td>\n",
       "    </tr>\n",
       "    <tr>\n",
       "      <th>4</th>\n",
       "      <td>2023-12-09 08:06:08</td>\n",
       "      <td>GDSA</td>\n",
       "      <td>NAVAL AUXILIARY A135</td>\n",
       "      <td>34</td>\n",
       "      <td>7822550</td>\n",
       "      <td>233303000</td>\n",
       "      <td>34.652447</td>\n",
       "      <td>33.016777</td>\n",
       "      <td>NaN</td>\n",
       "      <td>1</td>\n",
       "      <td>0.0</td>\n",
       "      <td>5</td>\n",
       "      <td>POINT (33.01678 34.65245)</td>\n",
       "      <td>175</td>\n",
       "      <td>30</td>\n",
       "    </tr>\n",
       "  </tbody>\n",
       "</table>\n",
       "</div>"
      ],
      "text/plain": [
       "             time_utc CallSign              ShipName  Type  ImoNumber  \\\n",
       "0 2023-12-09 08:05:51     IBRV              SEMINOLE    90    7645550   \n",
       "1 2023-12-09 08:05:54    5BLV2             EDT ZENON    52    9315977   \n",
       "2 2023-12-09 08:05:57  TCA5645               KOSOVAK    71    9211157   \n",
       "3 2023-12-09 08:06:05    5BFB3              EDT LEON    91    9575400   \n",
       "4 2023-12-09 08:06:08     GDSA  NAVAL AUXILIARY A135    34    7822550   \n",
       "\n",
       "        MMSI   latitude  longitude Destination  FixType  MaximumStaticDraught  \\\n",
       "0  247274900  34.669683  33.058350       CYLMS        1                   4.5   \n",
       "1  212541000  34.645403  33.009685    LIMASSOL        1                   2.4   \n",
       "2  271047045  35.826203  29.005122       TRALI        1                  10.0   \n",
       "3  209343000  34.645127  33.008998    LIMASSOL        0                   2.4   \n",
       "4  233303000  34.652447  33.016777         NaN        1                   0.0   \n",
       "\n",
       "   MessageID                   geometry  length  width  \n",
       "0          5  POINT (33.05835 34.66968)     135     30  \n",
       "1          5  POINT (33.00969 34.64540)      28      9  \n",
       "2          5  POINT (29.00512 35.82620)     158     24  \n",
       "3          5  POINT (33.00900 34.64513)      50     10  \n",
       "4          5  POINT (33.01678 34.65245)     175     30  "
      ]
     },
     "execution_count": 231,
     "metadata": {},
     "output_type": "execute_result"
    }
   ],
   "source": [
    "geo_raw_ship_data.head()"
   ]
  },
  {
   "cell_type": "markdown",
   "metadata": {},
   "source": [
    "## Διαγράμματα"
   ]
  },
  {
   "cell_type": "markdown",
   "metadata": {},
   "source": [
    "Όπως αναφέραμε παραπάνω τα δεδομένα αποτελούνται απο χρονικά διακριτές εκπομπές πλοίων διάρκειας 01:33:00. Για να εξετάσουμε ποιοτικά τις εγγραφές θα απομονώσουμε τα πλοία σαν οντότητες σε έναν νέο dataframe."
   ]
  },
  {
   "cell_type": "code",
   "execution_count": 232,
   "metadata": {},
   "outputs": [
    {
     "data": {
      "text/plain": [
       "time_utc                909\n",
       "CallSign                 91\n",
       "ShipName                 91\n",
       "Type                     24\n",
       "ImoNumber                76\n",
       "MMSI                     92\n",
       "latitude                752\n",
       "longitude               742\n",
       "Destination              44\n",
       "FixType                   5\n",
       "MaximumStaticDraught     49\n",
       "MessageID                 1\n",
       "geometry                886\n",
       "length                   67\n",
       "width                    27\n",
       "dtype: int64"
      ]
     },
     "execution_count": 232,
     "metadata": {},
     "output_type": "execute_result"
    }
   ],
   "source": [
    "# Dataframe unique values overview\n",
    "geo_raw_ship_data.nunique()"
   ]
  },
  {
   "cell_type": "markdown",
   "metadata": {},
   "source": [
    "Επιστρέφοντας τις μοναδικές τιμές καταλήγουμε στο συμπέρασμα πως έχουμε 92 μοναδικά πλοία με αναφορά τον μοναδικό αριθμό MMSI. Παρακάτω επιστρέφουμε τον κωδικό MMSI καθενός απο αυτά."
   ]
  },
  {
   "cell_type": "code",
   "execution_count": 233,
   "metadata": {},
   "outputs": [
    {
     "name": "stdout",
     "output_type": "stream",
     "text": [
      "[  4282000 209005000 209166000 209343000 209352000 209492000 209511000\n",
      " 209969000 210282000 210330000 210588000 210595000 211920000 212212000\n",
      " 212230000 212319000 212541000 212717000 212858000 212872000 215013000\n",
      " 215209000 229447000 233303000 235090927 236723000 241776000 244810178\n",
      " 247274900 248823000 255806109 255977000 255979000 256060000 256081000\n",
      " 256251000 257073920 271044343 271047045 271051041 271052043 305299000\n",
      " 305384000 311000706 312349000 319222400 319234300 319287000 345050010\n",
      " 352002159 352002364 352002749 353822000 371343000 375369000 428000112\n",
      " 428000407 428007000 428009070 428045000 428066000 428068000 428990000\n",
      " 470763000 511100389 511100460 511100504 511100835 518998397 538002973\n",
      " 538003685 538007432 538009102 538009176 563112000 572705210 577171000\n",
      " 613226010 613871403 622113180 630001049 636014902 636015074 636019201\n",
      " 636021330 636021691 636022888 667001448 667001603 668116210 671290100\n",
      " 987170323]\n"
     ]
    }
   ],
   "source": [
    "# Find the number of unique ships inside of our table using as key the MMSI since it has no 0 values and it is an ID attribute\n",
    "print(np.sort(geo_raw_ship_data['MMSI'].unique()))"
   ]
  },
  {
   "cell_type": "markdown",
   "metadata": {},
   "source": [
    "Δημιουργούμε ένα νέο dataframe που θα περιλαμβάνει μόνο τα πλοία."
   ]
  },
  {
   "cell_type": "code",
   "execution_count": 234,
   "metadata": {},
   "outputs": [
    {
     "data": {
      "text/html": [
       "<div>\n",
       "<style scoped>\n",
       "    .dataframe tbody tr th:only-of-type {\n",
       "        vertical-align: middle;\n",
       "    }\n",
       "\n",
       "    .dataframe tbody tr th {\n",
       "        vertical-align: top;\n",
       "    }\n",
       "\n",
       "    .dataframe thead th {\n",
       "        text-align: right;\n",
       "    }\n",
       "</style>\n",
       "<table border=\"1\" class=\"dataframe\">\n",
       "  <thead>\n",
       "    <tr style=\"text-align: right;\">\n",
       "      <th></th>\n",
       "      <th>time_utc</th>\n",
       "      <th>CallSign</th>\n",
       "      <th>ShipName</th>\n",
       "      <th>Type</th>\n",
       "      <th>ImoNumber</th>\n",
       "      <th>MMSI</th>\n",
       "      <th>latitude</th>\n",
       "      <th>longitude</th>\n",
       "      <th>Destination</th>\n",
       "      <th>FixType</th>\n",
       "      <th>MaximumStaticDraught</th>\n",
       "      <th>MessageID</th>\n",
       "      <th>geometry</th>\n",
       "      <th>length</th>\n",
       "      <th>width</th>\n",
       "    </tr>\n",
       "  </thead>\n",
       "  <tbody>\n",
       "    <tr>\n",
       "      <th>0</th>\n",
       "      <td>2023-12-09 08:05:51</td>\n",
       "      <td>IBRV</td>\n",
       "      <td>SEMINOLE</td>\n",
       "      <td>90</td>\n",
       "      <td>7645550</td>\n",
       "      <td>247274900</td>\n",
       "      <td>34.669683</td>\n",
       "      <td>33.058350</td>\n",
       "      <td>CYLMS</td>\n",
       "      <td>1</td>\n",
       "      <td>4.5</td>\n",
       "      <td>5</td>\n",
       "      <td>POINT (33.05835 34.66968)</td>\n",
       "      <td>135</td>\n",
       "      <td>30</td>\n",
       "    </tr>\n",
       "    <tr>\n",
       "      <th>1</th>\n",
       "      <td>2023-12-09 08:05:54</td>\n",
       "      <td>5BLV2</td>\n",
       "      <td>EDT ZENON</td>\n",
       "      <td>52</td>\n",
       "      <td>9315977</td>\n",
       "      <td>212541000</td>\n",
       "      <td>34.645403</td>\n",
       "      <td>33.009685</td>\n",
       "      <td>LIMASSOL</td>\n",
       "      <td>1</td>\n",
       "      <td>2.4</td>\n",
       "      <td>5</td>\n",
       "      <td>POINT (33.00969 34.64540)</td>\n",
       "      <td>28</td>\n",
       "      <td>9</td>\n",
       "    </tr>\n",
       "    <tr>\n",
       "      <th>2</th>\n",
       "      <td>2023-12-09 08:05:57</td>\n",
       "      <td>TCA5645</td>\n",
       "      <td>KOSOVAK</td>\n",
       "      <td>71</td>\n",
       "      <td>9211157</td>\n",
       "      <td>271047045</td>\n",
       "      <td>35.826203</td>\n",
       "      <td>29.005122</td>\n",
       "      <td>TRALI</td>\n",
       "      <td>1</td>\n",
       "      <td>10.0</td>\n",
       "      <td>5</td>\n",
       "      <td>POINT (29.00512 35.82620)</td>\n",
       "      <td>158</td>\n",
       "      <td>24</td>\n",
       "    </tr>\n",
       "    <tr>\n",
       "      <th>3</th>\n",
       "      <td>2023-12-09 08:06:05</td>\n",
       "      <td>5BFB3</td>\n",
       "      <td>EDT LEON</td>\n",
       "      <td>91</td>\n",
       "      <td>9575400</td>\n",
       "      <td>209343000</td>\n",
       "      <td>34.645127</td>\n",
       "      <td>33.008998</td>\n",
       "      <td>LIMASSOL</td>\n",
       "      <td>0</td>\n",
       "      <td>2.4</td>\n",
       "      <td>5</td>\n",
       "      <td>POINT (33.00900 34.64513)</td>\n",
       "      <td>50</td>\n",
       "      <td>10</td>\n",
       "    </tr>\n",
       "    <tr>\n",
       "      <th>4</th>\n",
       "      <td>2023-12-09 08:06:08</td>\n",
       "      <td>GDSA</td>\n",
       "      <td>NAVAL AUXILIARY A135</td>\n",
       "      <td>34</td>\n",
       "      <td>7822550</td>\n",
       "      <td>233303000</td>\n",
       "      <td>34.652447</td>\n",
       "      <td>33.016777</td>\n",
       "      <td>NaN</td>\n",
       "      <td>1</td>\n",
       "      <td>0.0</td>\n",
       "      <td>5</td>\n",
       "      <td>POINT (33.01678 34.65245)</td>\n",
       "      <td>175</td>\n",
       "      <td>30</td>\n",
       "    </tr>\n",
       "    <tr>\n",
       "      <th>...</th>\n",
       "      <td>...</td>\n",
       "      <td>...</td>\n",
       "      <td>...</td>\n",
       "      <td>...</td>\n",
       "      <td>...</td>\n",
       "      <td>...</td>\n",
       "      <td>...</td>\n",
       "      <td>...</td>\n",
       "      <td>...</td>\n",
       "      <td>...</td>\n",
       "      <td>...</td>\n",
       "      <td>...</td>\n",
       "      <td>...</td>\n",
       "      <td>...</td>\n",
       "      <td>...</td>\n",
       "    </tr>\n",
       "    <tr>\n",
       "      <th>659</th>\n",
       "      <td>2023-12-09 09:09:12</td>\n",
       "      <td>V7SN2</td>\n",
       "      <td>DANCHOR IX</td>\n",
       "      <td>99</td>\n",
       "      <td>9316787</td>\n",
       "      <td>538003685</td>\n",
       "      <td>32.814877</td>\n",
       "      <td>35.030665</td>\n",
       "      <td>NaN</td>\n",
       "      <td>1</td>\n",
       "      <td>2.1</td>\n",
       "      <td>5</td>\n",
       "      <td>POINT (35.03066 32.81488)</td>\n",
       "      <td>59</td>\n",
       "      <td>9</td>\n",
       "    </tr>\n",
       "    <tr>\n",
       "      <th>664</th>\n",
       "      <td>2023-12-09 09:09:29</td>\n",
       "      <td>3E3832</td>\n",
       "      <td>NOVA CORALIA</td>\n",
       "      <td>70</td>\n",
       "      <td>8918409</td>\n",
       "      <td>352002159</td>\n",
       "      <td>32.818160</td>\n",
       "      <td>35.016760</td>\n",
       "      <td>IL HFA</td>\n",
       "      <td>1</td>\n",
       "      <td>7.1</td>\n",
       "      <td>5</td>\n",
       "      <td>POINT (35.01676 32.81816)</td>\n",
       "      <td>119</td>\n",
       "      <td>18</td>\n",
       "    </tr>\n",
       "    <tr>\n",
       "      <th>668</th>\n",
       "      <td>2023-12-09 09:09:38</td>\n",
       "      <td>5BWY5</td>\n",
       "      <td>LEDRA EXPLORER</td>\n",
       "      <td>52</td>\n",
       "      <td>0</td>\n",
       "      <td>210330000</td>\n",
       "      <td>34.541397</td>\n",
       "      <td>33.239995</td>\n",
       "      <td>LIMASSOL CYPRUS</td>\n",
       "      <td>0</td>\n",
       "      <td>3.0</td>\n",
       "      <td>5</td>\n",
       "      <td>POINT (33.24000 34.54140)</td>\n",
       "      <td>39</td>\n",
       "      <td>9</td>\n",
       "    </tr>\n",
       "    <tr>\n",
       "      <th>839</th>\n",
       "      <td>2023-12-09 09:25:02</td>\n",
       "      <td>V7A4413</td>\n",
       "      <td>STELLAR LADY</td>\n",
       "      <td>70</td>\n",
       "      <td>9574004</td>\n",
       "      <td>538009176</td>\n",
       "      <td>30.142940</td>\n",
       "      <td>32.569717</td>\n",
       "      <td>CANAKKALE</td>\n",
       "      <td>1</td>\n",
       "      <td>6.3</td>\n",
       "      <td>5</td>\n",
       "      <td>POINT (32.56972 30.14294)</td>\n",
       "      <td>183</td>\n",
       "      <td>32</td>\n",
       "    </tr>\n",
       "    <tr>\n",
       "      <th>981</th>\n",
       "      <td>2023-12-09 09:37:51</td>\n",
       "      <td>V2PW8</td>\n",
       "      <td>SUSAN BORCHARD</td>\n",
       "      <td>70</td>\n",
       "      <td>9231834</td>\n",
       "      <td>305299000</td>\n",
       "      <td>34.530198</td>\n",
       "      <td>32.865337</td>\n",
       "      <td>CYLMS</td>\n",
       "      <td>1</td>\n",
       "      <td>8.3</td>\n",
       "      <td>5</td>\n",
       "      <td>POINT (32.86534 34.53020)</td>\n",
       "      <td>134</td>\n",
       "      <td>22</td>\n",
       "    </tr>\n",
       "  </tbody>\n",
       "</table>\n",
       "<p>92 rows × 15 columns</p>\n",
       "</div>"
      ],
      "text/plain": [
       "               time_utc CallSign              ShipName  Type  ImoNumber  \\\n",
       "0   2023-12-09 08:05:51     IBRV              SEMINOLE    90    7645550   \n",
       "1   2023-12-09 08:05:54    5BLV2             EDT ZENON    52    9315977   \n",
       "2   2023-12-09 08:05:57  TCA5645               KOSOVAK    71    9211157   \n",
       "3   2023-12-09 08:06:05    5BFB3              EDT LEON    91    9575400   \n",
       "4   2023-12-09 08:06:08     GDSA  NAVAL AUXILIARY A135    34    7822550   \n",
       "..                  ...      ...                   ...   ...        ...   \n",
       "659 2023-12-09 09:09:12    V7SN2            DANCHOR IX    99    9316787   \n",
       "664 2023-12-09 09:09:29   3E3832          NOVA CORALIA    70    8918409   \n",
       "668 2023-12-09 09:09:38    5BWY5        LEDRA EXPLORER    52          0   \n",
       "839 2023-12-09 09:25:02  V7A4413          STELLAR LADY    70    9574004   \n",
       "981 2023-12-09 09:37:51    V2PW8        SUSAN BORCHARD    70    9231834   \n",
       "\n",
       "          MMSI   latitude  longitude      Destination  FixType  \\\n",
       "0    247274900  34.669683  33.058350            CYLMS        1   \n",
       "1    212541000  34.645403  33.009685         LIMASSOL        1   \n",
       "2    271047045  35.826203  29.005122            TRALI        1   \n",
       "3    209343000  34.645127  33.008998         LIMASSOL        0   \n",
       "4    233303000  34.652447  33.016777              NaN        1   \n",
       "..         ...        ...        ...              ...      ...   \n",
       "659  538003685  32.814877  35.030665              NaN        1   \n",
       "664  352002159  32.818160  35.016760           IL HFA        1   \n",
       "668  210330000  34.541397  33.239995  LIMASSOL CYPRUS        0   \n",
       "839  538009176  30.142940  32.569717        CANAKKALE        1   \n",
       "981  305299000  34.530198  32.865337            CYLMS        1   \n",
       "\n",
       "     MaximumStaticDraught  MessageID                   geometry  length  width  \n",
       "0                     4.5          5  POINT (33.05835 34.66968)     135     30  \n",
       "1                     2.4          5  POINT (33.00969 34.64540)      28      9  \n",
       "2                    10.0          5  POINT (29.00512 35.82620)     158     24  \n",
       "3                     2.4          5  POINT (33.00900 34.64513)      50     10  \n",
       "4                     0.0          5  POINT (33.01678 34.65245)     175     30  \n",
       "..                    ...        ...                        ...     ...    ...  \n",
       "659                   2.1          5  POINT (35.03066 32.81488)      59      9  \n",
       "664                   7.1          5  POINT (35.01676 32.81816)     119     18  \n",
       "668                   3.0          5  POINT (33.24000 34.54140)      39      9  \n",
       "839                   6.3          5  POINT (32.56972 30.14294)     183     32  \n",
       "981                   8.3          5  POINT (32.86534 34.53020)     134     22  \n",
       "\n",
       "[92 rows x 15 columns]"
      ]
     },
     "metadata": {},
     "output_type": "display_data"
    }
   ],
   "source": [
    "# Get a dataframe with only the single ships\n",
    "unique_ships = geo_raw_ship_data.drop_duplicates(subset=['MMSI'])\n",
    "display(unique_ships)"
   ]
  },
  {
   "cell_type": "markdown",
   "metadata": {},
   "source": [
    "Επεξεργαζόμαστε το νέο πίνακα με κριτήριο τον τύπο των πλοίων."
   ]
  },
  {
   "cell_type": "code",
   "execution_count": 235,
   "metadata": {},
   "outputs": [
    {
     "name": "stdout",
     "output_type": "stream",
     "text": [
      "[ 0 31 33 34 35 37 40 50 51 52 59 60 68 69 70 71 79 80 82 89 90 91 92 99]\n"
     ]
    }
   ],
   "source": [
    "# Find the different type of ships\n",
    "ship_type = unique_ships['Type'].unique()\n",
    "print(np.sort(ship_type))"
   ]
  },
  {
   "cell_type": "markdown",
   "metadata": {},
   "source": [
    "Κάθε τύπος πλοίου περιγράφεται παρακάτω."
   ]
  },
  {
   "cell_type": "markdown",
   "metadata": {},
   "source": [
    "<style>\n",
    "Shipso { border:1px solid #C0C0C0; border-collapse:collapse; padding:5px; }\n",
    "Shipsmo th { border:1px solid #C0C0C0; padding:5px; background:#F0F0F0;}Shipsemo td { border:1px solid #C0C0C0; padding:5px;}\n",
    "</style>\n",
    "\n",
    "<table class=\"Ships\">\n",
    "<thead>\n",
    "    <tr>\n",
    "        <th>Type</th>\n",
    "        <th>Description</th>\n",
    "    </tr>\n",
    "    </thead>\n",
    "    <tbody>\n",
    "    <tr>\n",
    "        <td>0</td>\n",
    "        <td>default</td>\n",
    "    </tr>\n",
    "    <tr>\n",
    "        <td>31</td>\n",
    "        <td>Towing</td>\n",
    "    </tr>\n",
    "    <tr>\n",
    "        <td>33</td>\n",
    "        <td>Dredging</td>\n",
    "    </tr>\n",
    "    <tr>\n",
    "        <td>34</td>\n",
    "        <td>Diving</td>\n",
    "    </tr>\n",
    "    <tr>\n",
    "        <td>35</td>\n",
    "        <td>Military</td>\n",
    "    </tr>\n",
    "    <tr>\n",
    "        <td>37</td>\n",
    "        <td>Pleasure</td>\n",
    "    </tr>\n",
    "    <tr>\n",
    "        <td>40</td>\n",
    "        <td>HighSpeedCraft (HSC)</td>\n",
    "    </tr>\n",
    "    <tr>\n",
    "        <td>50</td>\n",
    "        <td>Pilot</td>\n",
    "    </tr>\n",
    "    <tr>\n",
    "        <td>51</td>\n",
    "        <td>SAR</td>\n",
    "    </tr>\n",
    "    <tr>\n",
    "        <td>52</td>\n",
    "        <td>Tug</td>\n",
    "    </tr>\n",
    "    <tr>\n",
    "        <td>59</td>\n",
    "        <td>Noncombatant</td>\n",
    "    </tr>\n",
    "    <tr>\n",
    "        <td>60</td>\n",
    "        <td>Passenger</td>\n",
    "    </tr>\n",
    "    <tr>\n",
    "        <td>68</td>\n",
    "        <td>Passenger Reserved for future us</td>\n",
    "    </tr>\n",
    "    <tr>\n",
    "        <td>69</td>\n",
    "        <td>Passenger No additional information</td>\n",
    "    </tr>\n",
    "    <tr>\n",
    "        <td>70</td>\n",
    "        <td>Cargo all ships of this type</td>\n",
    "    </tr>\n",
    "    <tr>\n",
    "        <td>71</td>\n",
    "        <td>Cargo Hazardous category A</td>\n",
    "    </tr>\n",
    "    <tr>\n",
    "        <td>79</td>\n",
    "        <td>Cargo No additional information</td>\n",
    "    </tr>\n",
    "    <tr>\n",
    "        <td>80</td>\n",
    "        <td>Tanker all ships of this type</td>\n",
    "    </tr>\n",
    "    <tr>\n",
    "        <td>82</td>\n",
    "        <td>Tanker Hazardous category B</td>\n",
    "    </tr>\n",
    "    <tr>\n",
    "        <td>89</td>\n",
    "        <td>Tanker No additional information</td>\n",
    "    </tr>\n",
    "    <tr>\n",
    "        <td>90</td>\n",
    "        <td>Other Type all ships of this type</td>\n",
    "    </tr>\n",
    "    <tr>\n",
    "        <td>91</td>\n",
    "        <td>Other Type Hazardous category A</td>\n",
    "    </tr>\n",
    "    <tr>\n",
    "        <td>92</td>\n",
    "        <td>Other Type Hazardous category B</td>\n",
    "    </tr>\n",
    "    <tr>\n",
    "        <td>99</td>\n",
    "        <td>Other Type no additional information</td>\n",
    "    </tr>\n",
    "    </tbody>\n",
    "</table>"
   ]
  },
  {
   "cell_type": "markdown",
   "metadata": {},
   "source": [
    "Εάν παρατηρήσουμε καλύτερα τις κατηγορίες συμπεράινουμε πως μπορούμε να τις εντάξουμε σε πιο γενικές. Πιο ειδικά για τις κατηγορίες 60, 70, 80, 90. "
   ]
  },
  {
   "cell_type": "code",
   "execution_count": 236,
   "metadata": {},
   "outputs": [],
   "source": [
    "# Collapse vessel subcategories to categories\n",
    "unique_ships.loc[(unique_ships['Type'] == 71) | (unique_ships['Type'] == 79), 'Type'] = 70"
   ]
  },
  {
   "cell_type": "code",
   "execution_count": 237,
   "metadata": {},
   "outputs": [],
   "source": [
    "unique_ships.loc[(unique_ships['Type'] == 68) | (unique_ships['Type'] == 69), 'Type'] = 60"
   ]
  },
  {
   "cell_type": "code",
   "execution_count": 238,
   "metadata": {},
   "outputs": [],
   "source": [
    "unique_ships.loc[(unique_ships['Type'] == 82) | (unique_ships['Type'] == 89), 'Type'] = 80"
   ]
  },
  {
   "cell_type": "code",
   "execution_count": 239,
   "metadata": {},
   "outputs": [],
   "source": [
    "unique_ships.loc[(unique_ships['Type'] == 91) | (unique_ships['Type'] == 92) | (unique_ships['Type'] == 99), 'Type'] = 90"
   ]
  },
  {
   "cell_type": "code",
   "execution_count": 240,
   "metadata": {},
   "outputs": [
    {
     "data": {
      "text/html": [
       "<div>\n",
       "<style scoped>\n",
       "    .dataframe tbody tr th:only-of-type {\n",
       "        vertical-align: middle;\n",
       "    }\n",
       "\n",
       "    .dataframe tbody tr th {\n",
       "        vertical-align: top;\n",
       "    }\n",
       "\n",
       "    .dataframe thead th {\n",
       "        text-align: right;\n",
       "    }\n",
       "</style>\n",
       "<table border=\"1\" class=\"dataframe\">\n",
       "  <thead>\n",
       "    <tr style=\"text-align: right;\">\n",
       "      <th></th>\n",
       "      <th>time_utc</th>\n",
       "      <th>CallSign</th>\n",
       "      <th>ShipName</th>\n",
       "      <th>Type</th>\n",
       "      <th>ImoNumber</th>\n",
       "      <th>MMSI</th>\n",
       "      <th>latitude</th>\n",
       "      <th>longitude</th>\n",
       "      <th>Destination</th>\n",
       "      <th>FixType</th>\n",
       "      <th>MaximumStaticDraught</th>\n",
       "      <th>MessageID</th>\n",
       "      <th>geometry</th>\n",
       "      <th>length</th>\n",
       "      <th>width</th>\n",
       "    </tr>\n",
       "  </thead>\n",
       "  <tbody>\n",
       "    <tr>\n",
       "      <th>0</th>\n",
       "      <td>2023-12-09 08:05:51</td>\n",
       "      <td>IBRV</td>\n",
       "      <td>SEMINOLE</td>\n",
       "      <td>90</td>\n",
       "      <td>7645550</td>\n",
       "      <td>247274900</td>\n",
       "      <td>34.669683</td>\n",
       "      <td>33.058350</td>\n",
       "      <td>CYLMS</td>\n",
       "      <td>1</td>\n",
       "      <td>4.5</td>\n",
       "      <td>5</td>\n",
       "      <td>POINT (33.05835 34.66968)</td>\n",
       "      <td>135</td>\n",
       "      <td>30</td>\n",
       "    </tr>\n",
       "    <tr>\n",
       "      <th>1</th>\n",
       "      <td>2023-12-09 08:05:54</td>\n",
       "      <td>5BLV2</td>\n",
       "      <td>EDT ZENON</td>\n",
       "      <td>52</td>\n",
       "      <td>9315977</td>\n",
       "      <td>212541000</td>\n",
       "      <td>34.645403</td>\n",
       "      <td>33.009685</td>\n",
       "      <td>LIMASSOL</td>\n",
       "      <td>1</td>\n",
       "      <td>2.4</td>\n",
       "      <td>5</td>\n",
       "      <td>POINT (33.00969 34.64540)</td>\n",
       "      <td>28</td>\n",
       "      <td>9</td>\n",
       "    </tr>\n",
       "    <tr>\n",
       "      <th>2</th>\n",
       "      <td>2023-12-09 08:05:57</td>\n",
       "      <td>TCA5645</td>\n",
       "      <td>KOSOVAK</td>\n",
       "      <td>70</td>\n",
       "      <td>9211157</td>\n",
       "      <td>271047045</td>\n",
       "      <td>35.826203</td>\n",
       "      <td>29.005122</td>\n",
       "      <td>TRALI</td>\n",
       "      <td>1</td>\n",
       "      <td>10.0</td>\n",
       "      <td>5</td>\n",
       "      <td>POINT (29.00512 35.82620)</td>\n",
       "      <td>158</td>\n",
       "      <td>24</td>\n",
       "    </tr>\n",
       "    <tr>\n",
       "      <th>3</th>\n",
       "      <td>2023-12-09 08:06:05</td>\n",
       "      <td>5BFB3</td>\n",
       "      <td>EDT LEON</td>\n",
       "      <td>90</td>\n",
       "      <td>9575400</td>\n",
       "      <td>209343000</td>\n",
       "      <td>34.645127</td>\n",
       "      <td>33.008998</td>\n",
       "      <td>LIMASSOL</td>\n",
       "      <td>0</td>\n",
       "      <td>2.4</td>\n",
       "      <td>5</td>\n",
       "      <td>POINT (33.00900 34.64513)</td>\n",
       "      <td>50</td>\n",
       "      <td>10</td>\n",
       "    </tr>\n",
       "    <tr>\n",
       "      <th>4</th>\n",
       "      <td>2023-12-09 08:06:08</td>\n",
       "      <td>GDSA</td>\n",
       "      <td>NAVAL AUXILIARY A135</td>\n",
       "      <td>34</td>\n",
       "      <td>7822550</td>\n",
       "      <td>233303000</td>\n",
       "      <td>34.652447</td>\n",
       "      <td>33.016777</td>\n",
       "      <td>NaN</td>\n",
       "      <td>1</td>\n",
       "      <td>0.0</td>\n",
       "      <td>5</td>\n",
       "      <td>POINT (33.01678 34.65245)</td>\n",
       "      <td>175</td>\n",
       "      <td>30</td>\n",
       "    </tr>\n",
       "  </tbody>\n",
       "</table>\n",
       "</div>"
      ],
      "text/plain": [
       "             time_utc CallSign              ShipName  Type  ImoNumber  \\\n",
       "0 2023-12-09 08:05:51     IBRV              SEMINOLE    90    7645550   \n",
       "1 2023-12-09 08:05:54    5BLV2             EDT ZENON    52    9315977   \n",
       "2 2023-12-09 08:05:57  TCA5645               KOSOVAK    70    9211157   \n",
       "3 2023-12-09 08:06:05    5BFB3              EDT LEON    90    9575400   \n",
       "4 2023-12-09 08:06:08     GDSA  NAVAL AUXILIARY A135    34    7822550   \n",
       "\n",
       "        MMSI   latitude  longitude Destination  FixType  MaximumStaticDraught  \\\n",
       "0  247274900  34.669683  33.058350       CYLMS        1                   4.5   \n",
       "1  212541000  34.645403  33.009685    LIMASSOL        1                   2.4   \n",
       "2  271047045  35.826203  29.005122       TRALI        1                  10.0   \n",
       "3  209343000  34.645127  33.008998    LIMASSOL        0                   2.4   \n",
       "4  233303000  34.652447  33.016777         NaN        1                   0.0   \n",
       "\n",
       "   MessageID                   geometry  length  width  \n",
       "0          5  POINT (33.05835 34.66968)     135     30  \n",
       "1          5  POINT (33.00969 34.64540)      28      9  \n",
       "2          5  POINT (29.00512 35.82620)     158     24  \n",
       "3          5  POINT (33.00900 34.64513)      50     10  \n",
       "4          5  POINT (33.01678 34.65245)     175     30  "
      ]
     },
     "execution_count": 240,
     "metadata": {},
     "output_type": "execute_result"
    }
   ],
   "source": [
    "unique_ships.head()"
   ]
  },
  {
   "cell_type": "markdown",
   "metadata": {},
   "source": [
    "Εφόσον έχουμε πλεόν έναν πίνακα μόνο με τα πλοία μπορούμε να απεικονίσουμε ορισμένα διαγράμματα."
   ]
  },
  {
   "cell_type": "markdown",
   "metadata": {},
   "source": [
    "Αρχικά απεικονίζουμε το πλήθος των πλοίων ανα κατηγορία."
   ]
  },
  {
   "cell_type": "code",
   "execution_count": 241,
   "metadata": {},
   "outputs": [],
   "source": [
    "# Proportion of each vessel category in our dataset\n",
    "type_proportion = unique_ships['Type'].value_counts(normalize=True)"
   ]
  },
  {
   "cell_type": "code",
   "execution_count": 242,
   "metadata": {},
   "outputs": [
    {
     "data": {
      "image/png": "[encoded data removed]",
      "text/plain": [
       "<Figure size 640x480 with 1 Axes>"
      ]
     },
     "metadata": {},
     "output_type": "display_data"
    }
   ],
   "source": [
    "sns.barplot(x=type_proportion.index, y=type_proportion.values, hue=type_proportion.index, palette='rocket')\n",
    "plt.title('Vessel Type - Proportion')\n",
    "plt.xlabel('Vessel Type')\n",
    "plt.ylabel('Proportion')\n",
    "\n",
    "# Display the plot\n",
    "plt.show()"
   ]
  },
  {
   "cell_type": "markdown",
   "metadata": {},
   "source": [
    "Στη συνέχεια μας ενδιαφέρει να δούμε την κατηγορία του πομπού εκπομπής που χρησιμοποιεί κάθε σκάφος."
   ]
  },
  {
   "cell_type": "code",
   "execution_count": 243,
   "metadata": {},
   "outputs": [
    {
     "name": "stdout",
     "output_type": "stream",
     "text": [
      "[ 1  0 15  6  3]\n"
     ]
    }
   ],
   "source": [
    "# Find the different fix types provided\n",
    "fix_type = geo_raw_ship_data['FixType'].unique()\n",
    "print(fix_type)"
   ]
  },
  {
   "cell_type": "markdown",
   "metadata": {},
   "source": [
    "<style>\n",
    ".Fix { border:1px solid #C0C0C0; border-collapse:collapse; padding:5px; }\n",
    ".Fix th { border:1px solid #C0C0C0; padding:5px; background:#F0F0F0;}\n",
    ".Fix td { border:1px solid #C0C0C0; padding:5px;}\n",
    "</style>\n",
    "\n",
    "<table class=\"Fix\">\n",
    "<thead>\n",
    "    <tr>\n",
    "        <th>FixType</th>\n",
    "        <th>Description</th>\n",
    "    </tr>\n",
    "    </thead>\n",
    "    <tbody>\n",
    "    <tr>\n",
    "        <td>0</td>\n",
    "        <td>default</td>\n",
    "    </tr>\n",
    "    <tr>\n",
    "        <td>1</td>\n",
    "        <td>GPS</td>\n",
    "    </tr>\n",
    "    <tr>\n",
    "        <td>3</td>\n",
    "        <td>GPS + GLONASS</td>\n",
    "    </tr>\n",
    "    <tr>\n",
    "        <td>6</td>\n",
    "        <td>INS</td>\n",
    "    </tr>\n",
    "    <tr>\n",
    "        <td>15</td>\n",
    "        <td>internal GNSS</td>\n",
    "    </tr>       \n",
    "    </tbody>\n",
    "</table>INS\n",
    "15 = internal GNSS\n"
   ]
  },
  {
   "cell_type": "code",
   "execution_count": 244,
   "metadata": {},
   "outputs": [],
   "source": [
    "# Proportion of each vessel category in our dataset\n",
    "fixType_proportion = unique_ships['FixType'].value_counts(normalize=True)"
   ]
  },
  {
   "cell_type": "code",
   "execution_count": 245,
   "metadata": {},
   "outputs": [
    {
     "data": {
      "image/png": "[encoded data removed]",
      "text/plain": [
       "<Figure size 640x480 with 1 Axes>"
      ]
     },
     "metadata": {},
     "output_type": "display_data"
    }
   ],
   "source": [
    "sns.barplot(x=fixType_proportion.index, y=fixType_proportion.values, hue=fixType_proportion.index, palette='rocket')\n",
    "plt.title('Vessel Type - Proportion')\n",
    "plt.xlabel('Vessel Type')\n",
    "plt.ylabel('Proportion')\n",
    "\n",
    "# Display the plot\n",
    "plt.show()"
   ]
  },
  {
   "cell_type": "markdown",
   "metadata": {},
   "source": [
    "Για καλύτερη κατανόηση των δεδομένων μας θα δημιουργήσουμε ένα διαδραστικό διάγραμμα διασποράς που απεικονίζει στοιχεία σχετικά με το μέγεθος των πλοίων."
   ]
  },
  {
   "cell_type": "code",
   "execution_count": 246,
   "metadata": {},
   "outputs": [
    {
     "data": {
      "application/vnd.plotly.v1+json": {
       "config": {
        "plotlyServerURL": "https://plot.ly"
       },
       "data": [
        {
         "customdata": [
          [
           90,
           247274900,
           "SEMINOLE"
          ],
          [
           52,
           212541000,
           "EDT ZENON"
          ],
          [
           70,
           271047045,
           "KOSOVAK"
          ],
          [
           90,
           209343000,
           "EDT LEON"
          ],
          [
           34,
           233303000,
           "NAVAL AUXILIARY A135"
          ],
          [
           50,
           428009070,
           "PILOT B 2"
          ],
          [
           37,
           352002749,
           "BEOL"
          ],
          [
           70,
           538002973,
           "MILA"
          ],
          [
           80,
           212717000,
           "OLVIA"
          ],
          [
           37,
           256081000,
           "EXINITY"
          ],
          [
           37,
           248823000,
           "SEVANNA"
          ],
          [
           80,
           636022888,
           "ATLAS STAR"
          ],
          [
           52,
           212230000,
           "EDT ARGONAUT"
          ],
          [
           70,
           209511000,
           "AKRITAS"
          ],
          [
           80,
           636021691,
           "KRITI CAPTAIN"
          ],
          [
           80,
           636019201,
           "CHEM LITHIUM"
          ],
          [
           52,
           210588000,
           "LEDRA PRIDE"
          ],
          [
           90,
           319222400,
           "VICTORIOUS"
          ],
          [
           80,
           636015074,
           "IVORY RAY"
          ],
          [
           33,
           212212000,
           "EDT YAM"
          ],
          [
           0,
           4282000,
           "ASHDOD PORT"
          ],
          [
           90,
           244810178,
           "CONQUEST MB1"
          ],
          [
           70,
           215209000,
           "MV SEAVENUS"
          ],
          [
           70,
           353822000,
           "REGINA MED"
          ],
          [
           70,
           671290100,
           "SYMPHONY"
          ],
          [
           70,
           255806109,
           "MSC MASHA 3"
          ],
          [
           52,
           209005000,
           "EAS"
          ],
          [
           40,
           305384000,
           "IRIS"
          ],
          [
           52,
           255979000,
           "EDT AURORA"
          ],
          [
           70,
           371343000,
           "KAZIME ANA"
          ],
          [
           35,
           211920000,
           "UN WARSHIP F222"
          ],
          [
           70,
           375369000,
           "ZAYYAN K"
          ],
          [
           70,
           511100389,
           "BENIGANE"
          ],
          [
           80,
           235090927,
           "LERRIX"
          ],
          [
           70,
           667001448,
           "DEBBIE"
          ],
          [
           52,
           241776000,
           "CHRISTOS LV"
          ],
          [
           70,
           622113180,
           "EGY CROWN"
          ],
          [
           37,
           518998397,
           "TATIANA"
          ],
          [
           70,
           236723000,
           "SEASTAR VENTURE"
          ],
          [
           51,
           271044343,
           "KIYEM 5"
          ],
          [
           90,
           577171000,
           "DEMAREST TIDE"
          ],
          [
           70,
           511100835,
           "VASSILIKO"
          ],
          [
           90,
           538007432,
           "NOR NAOMI"
          ],
          [
           70,
           352002364,
           "MEDKON CANAKKALE"
          ],
          [
           52,
           428045000,
           "KESARIA"
          ],
          [
           0,
           511100504,
           "BAR DIVE 1"
          ],
          [
           70,
           613226010,
           "CORAL C"
          ],
          [
           0,
           572705210,
           "SOLARIS"
          ],
          [
           52,
           212872000,
           "P&O TROODOS"
          ],
          [
           90,
           319234300,
           "SUN"
          ],
          [
           59,
           212858000,
           "SKY"
          ],
          [
           52,
           255977000,
           "EDT AUGUSTA"
          ],
          [
           37,
           256060000,
           "LE VERSEAU"
          ],
          [
           52,
           428068000,
           "DANCHOR VI"
          ],
          [
           60,
           511100460,
           "SEA STAR LINDOS"
          ],
          [
           0,
           209352000,
           "PETSAS I"
          ],
          [
           52,
           209166000,
           "P&O KALYPSO"
          ],
          [
           70,
           538009102,
           "ENERGEAN STAR"
          ],
          [
           60,
           630001049,
           "SEA STAR TILOS"
          ],
          [
           0,
           428990000,
           "EAPC CONTROL"
          ],
          [
           80,
           636014902,
           "AEGEAS"
          ],
          [
           52,
           428000112,
           "MAORA 1"
          ],
          [
           52,
           257073920,
           "ISLAND VICTORY"
          ],
          [
           33,
           312349000,
           "HOLMA"
          ],
          [
           80,
           210595000,
           "ISLAND CHALLENGER"
          ],
          [
           52,
           428000407,
           "HADERA"
          ],
          [
           31,
           345050010,
           "ADMIRAL"
          ],
          [
           60,
           613871403,
           "ISKENDERUN"
          ],
          [
           52,
           636021330,
           "EDT ANDROMEDA"
          ],
          [
           80,
           563112000,
           "KILBURN"
          ],
          [
           60,
           271051041,
           "ADA 74"
          ],
          [
           31,
           987170323,
           "BARGE SERIFOS"
          ],
          [
           70,
           271052043,
           "MEDKON MIRA"
          ],
          [
           80,
           311000706,
           "IRINI"
          ],
          [
           80,
           229447000,
           "EMIRALP"
          ],
          [
           0,
           319287000,
           "TAMTEEN"
          ],
          [
           80,
           215013000,
           "DELTA SEA"
          ],
          [
           80,
           210282000,
           "ISLAND TRADER"
          ],
          [
           70,
           667001603,
           "URANUS L"
          ],
          [
           0,
           470763000,
           "ROAMING V"
          ],
          [
           70,
           668116210,
           "MORNES"
          ],
          [
           52,
           428007000,
           "AMATZIA II"
          ],
          [
           52,
           212319000,
           "VTS KERYNEIA"
          ],
          [
           52,
           209492000,
           "VTS AYIA MARINA"
          ],
          [
           52,
           428066000,
           "ELAD"
          ],
          [
           80,
           209969000,
           "IRIS"
          ],
          [
           80,
           256251000,
           "CHEMICAL MARINER"
          ],
          [
           90,
           538003685,
           "DANCHOR IX"
          ],
          [
           70,
           352002159,
           "NOVA CORALIA"
          ],
          [
           52,
           210330000,
           "LEDRA EXPLORER"
          ],
          [
           70,
           538009176,
           "STELLAR LADY"
          ],
          [
           70,
           305299000,
           "SUSAN BORCHARD"
          ]
         ],
         "hovertemplate": "length=%{x}<br>width=%{y}<br>Type=%{marker.color}<br>MMSI=%{customdata[1]}<br>ShipName=%{customdata[2]}<extra></extra>",
         "legendgroup": "",
         "marker": {
          "color": [
           90,
           52,
           70,
           90,
           34,
           50,
           37,
           70,
           80,
           37,
           37,
           80,
           52,
           70,
           80,
           80,
           52,
           90,
           80,
           33,
           0,
           90,
           70,
           70,
           70,
           70,
           52,
           40,
           52,
           70,
           35,
           70,
           70,
           80,
           70,
           52,
           70,
           37,
           70,
           51,
           90,
           70,
           90,
           70,
           52,
           0,
           70,
           0,
           52,
           90,
           59,
           52,
           37,
           52,
           60,
           0,
           52,
           70,
           60,
           0,
           80,
           52,
           52,
           33,
           80,
           52,
           31,
           60,
           52,
           80,
           60,
           31,
           70,
           80,
           80,
           0,
           80,
           80,
           70,
           0,
           70,
           52,
           52,
           52,
           52,
           80,
           80,
           90,
           70,
           52,
           70,
           70
          ],
          "coloraxis": "coloraxis",
          "symbol": "circle"
         },
         "mode": "markers",
         "name": "",
         "orientation": "v",
         "showlegend": false,
         "type": "scatter",
         "x": [
          135,
          28,
          158,
          50,
          175,
          16,
          60,
          190,
          100,
          40,
          42,
          183,
          42,
          112,
          184,
          147,
          42,
          85,
          146,
          76,
          236,
          136,
          190,
          100,
          81,
          184,
          62,
          24,
          32,
          115,
          150,
          81,
          130,
          53,
          107,
          56,
          140,
          80,
          177,
          23,
          88,
          127,
          86,
          129,
          32,
          22,
          112,
          37,
          30,
          98,
          90,
          41,
          40,
          32,
          38,
          87,
          22,
          88,
          35,
          87,
          182,
          33,
          124,
          40,
          77,
          31,
          38,
          122,
          41,
          120,
          96,
          70,
          163,
          112,
          110,
          55,
          100,
          97,
          83,
          26,
          116,
          30,
          32,
          23,
          31,
          50,
          134,
          59,
          119,
          39,
          183,
          134
         ],
         "xaxis": "x",
         "y": [
          30,
          9,
          24,
          10,
          30,
          5,
          10,
          32,
          18,
          9,
          8,
          27,
          9,
          17,
          27,
          24,
          10,
          14,
          24,
          15,
          32,
          36,
          32,
          17,
          11,
          30,
          13,
          8,
          12,
          16,
          19,
          15,
          20,
          10,
          16,
          16,
          50,
          12,
          28,
          6,
          19,
          16,
          20,
          21,
          12,
          7,
          17,
          12,
          11,
          18,
          22,
          11,
          10,
          12,
          9,
          0,
          11,
          19,
          12,
          0,
          27,
          11,
          25,
          9,
          14,
          16,
          10,
          21,
          11,
          20,
          15,
          20,
          22,
          18,
          17,
          10,
          18,
          13,
          28,
          6,
          16,
          11,
          12,
          10,
          12,
          14,
          21,
          9,
          18,
          9,
          32,
          22
         ],
         "yaxis": "y"
        }
       ],
       "layout": {
        "coloraxis": {
         "colorbar": {
          "title": {
           "text": "Type"
          }
         },
         "colorscale": [
          [
           0,
           "#0d0887"
          ],
          [
           0.1111111111111111,
           "#46039f"
          ],
          [
           0.2222222222222222,
           "#7201a8"
          ],
          [
           0.3333333333333333,
           "#9c179e"
          ],
          [
           0.4444444444444444,
           "#bd3786"
          ],
          [
           0.5555555555555556,
           "#d8576b"
          ],
          [
           0.6666666666666666,
           "#ed7953"
          ],
          [
           0.7777777777777778,
           "#fb9f3a"
          ],
          [
           0.8888888888888888,
           "#fdca26"
          ],
          [
           1,
           "#f0f921"
          ]
         ]
        },
        "legend": {
         "tracegroupgap": 0
        },
        "margin": {
         "t": 60
        },
        "template": {
         "data": {
          "bar": [
           {
            "error_x": {
             "color": "#2a3f5f"
            },
            "error_y": {
             "color": "#2a3f5f"
            },
            "marker": {
             "line": {
              "color": "#E5ECF6",
              "width": 0.5
             },
             "pattern": {
              "fillmode": "overlay",
              "size": 10,
              "solidity": 0.2
             }
            },
            "type": "bar"
           }
          ],
          "barpolar": [
           {
            "marker": {
             "line": {
              "color": "#E5ECF6",
              "width": 0.5
             },
             "pattern": {
              "fillmode": "overlay",
              "size": 10,
              "solidity": 0.2
             }
            },
            "type": "barpolar"
           }
          ],
          "carpet": [
           {
            "aaxis": {
             "endlinecolor": "#2a3f5f",
             "gridcolor": "white",
             "linecolor": "white",
             "minorgridcolor": "white",
             "startlinecolor": "#2a3f5f"
            },
            "baxis": {
             "endlinecolor": "#2a3f5f",
             "gridcolor": "white",
             "linecolor": "white",
             "minorgridcolor": "white",
             "startlinecolor": "#2a3f5f"
            },
            "type": "carpet"
           }
          ],
          "choropleth": [
           {
            "colorbar": {
             "outlinewidth": 0,
             "ticks": ""
            },
            "type": "choropleth"
           }
          ],
          "contour": [
           {
            "colorbar": {
             "outlinewidth": 0,
             "ticks": ""
            },
            "colorscale": [
             [
              0,
              "#0d0887"
             ],
             [
              0.1111111111111111,
              "#46039f"
             ],
             [
              0.2222222222222222,
              "#7201a8"
             ],
             [
              0.3333333333333333,
              "#9c179e"
             ],
             [
              0.4444444444444444,
              "#bd3786"
             ],
             [
              0.5555555555555556,
              "#d8576b"
             ],
             [
              0.6666666666666666,
              "#ed7953"
             ],
             [
              0.7777777777777778,
              "#fb9f3a"
             ],
             [
              0.8888888888888888,
              "#fdca26"
             ],
             [
              1,
              "#f0f921"
             ]
            ],
            "type": "contour"
           }
          ],
          "contourcarpet": [
           {
            "colorbar": {
             "outlinewidth": 0,
             "ticks": ""
            },
            "type": "contourcarpet"
           }
          ],
          "heatmap": [
           {
            "colorbar": {
             "outlinewidth": 0,
             "ticks": ""
            },
            "colorscale": [
             [
              0,
              "#0d0887"
             ],
             [
              0.1111111111111111,
              "#46039f"
             ],
             [
              0.2222222222222222,
              "#7201a8"
             ],
             [
              0.3333333333333333,
              "#9c179e"
             ],
             [
              0.4444444444444444,
              "#bd3786"
             ],
             [
              0.5555555555555556,
              "#d8576b"
             ],
             [
              0.6666666666666666,
              "#ed7953"
             ],
             [
              0.7777777777777778,
              "#fb9f3a"
             ],
             [
              0.8888888888888888,
              "#fdca26"
             ],
             [
              1,
              "#f0f921"
             ]
            ],
            "type": "heatmap"
           }
          ],
          "heatmapgl": [
           {
            "colorbar": {
             "outlinewidth": 0,
             "ticks": ""
            },
            "colorscale": [
             [
              0,
              "#0d0887"
             ],
             [
              0.1111111111111111,
              "#46039f"
             ],
             [
              0.2222222222222222,
              "#7201a8"
             ],
             [
              0.3333333333333333,
              "#9c179e"
             ],
             [
              0.4444444444444444,
              "#bd3786"
             ],
             [
              0.5555555555555556,
              "#d8576b"
             ],
             [
              0.6666666666666666,
              "#ed7953"
             ],
             [
              0.7777777777777778,
              "#fb9f3a"
             ],
             [
              0.8888888888888888,
              "#fdca26"
             ],
             [
              1,
              "#f0f921"
             ]
            ],
            "type": "heatmapgl"
           }
          ],
          "histogram": [
           {
            "marker": {
             "pattern": {
              "fillmode": "overlay",
              "size": 10,
              "solidity": 0.2
             }
            },
            "type": "histogram"
           }
          ],
          "histogram2d": [
           {
            "colorbar": {
             "outlinewidth": 0,
             "ticks": ""
            },
            "colorscale": [
             [
              0,
              "#0d0887"
             ],
             [
              0.1111111111111111,
              "#46039f"
             ],
             [
              0.2222222222222222,
              "#7201a8"
             ],
             [
              0.3333333333333333,
              "#9c179e"
             ],
             [
              0.4444444444444444,
              "#bd3786"
             ],
             [
              0.5555555555555556,
              "#d8576b"
             ],
             [
              0.6666666666666666,
              "#ed7953"
             ],
             [
              0.7777777777777778,
              "#fb9f3a"
             ],
             [
              0.8888888888888888,
              "#fdca26"
             ],
             [
              1,
              "#f0f921"
             ]
            ],
            "type": "histogram2d"
           }
          ],
          "histogram2dcontour": [
           {
            "colorbar": {
             "outlinewidth": 0,
             "ticks": ""
            },
            "colorscale": [
             [
              0,
              "#0d0887"
             ],
             [
              0.1111111111111111,
              "#46039f"
             ],
             [
              0.2222222222222222,
              "#7201a8"
             ],
             [
              0.3333333333333333,
              "#9c179e"
             ],
             [
              0.4444444444444444,
              "#bd3786"
             ],
             [
              0.5555555555555556,
              "#d8576b"
             ],
             [
              0.6666666666666666,
              "#ed7953"
             ],
             [
              0.7777777777777778,
              "#fb9f3a"
             ],
             [
              0.8888888888888888,
              "#fdca26"
             ],
             [
              1,
              "#f0f921"
             ]
            ],
            "type": "histogram2dcontour"
           }
          ],
          "mesh3d": [
           {
            "colorbar": {
             "outlinewidth": 0,
             "ticks": ""
            },
            "type": "mesh3d"
           }
          ],
          "parcoords": [
           {
            "line": {
             "colorbar": {
              "outlinewidth": 0,
              "ticks": ""
             }
            },
            "type": "parcoords"
           }
          ],
          "pie": [
           {
            "automargin": true,
            "type": "pie"
           }
          ],
          "scatter": [
           {
            "fillpattern": {
             "fillmode": "overlay",
             "size": 10,
             "solidity": 0.2
            },
            "type": "scatter"
           }
          ],
          "scatter3d": [
           {
            "line": {
             "colorbar": {
              "outlinewidth": 0,
              "ticks": ""
             }
            },
            "marker": {
             "colorbar": {
              "outlinewidth": 0,
              "ticks": ""
             }
            },
            "type": "scatter3d"
           }
          ],
          "scattercarpet": [
           {
            "marker": {
             "colorbar": {
              "outlinewidth": 0,
              "ticks": ""
             }
            },
            "type": "scattercarpet"
           }
          ],
          "scattergeo": [
           {
            "marker": {
             "colorbar": {
              "outlinewidth": 0,
              "ticks": ""
             }
            },
            "type": "scattergeo"
           }
          ],
          "scattergl": [
           {
            "marker": {
             "colorbar": {
              "outlinewidth": 0,
              "ticks": ""
             }
            },
            "type": "scattergl"
           }
          ],
          "scattermapbox": [
           {
            "marker": {
             "colorbar": {
              "outlinewidth": 0,
              "ticks": ""
             }
            },
            "type": "scattermapbox"
           }
          ],
          "scatterpolar": [
           {
            "marker": {
             "colorbar": {
              "outlinewidth": 0,
              "ticks": ""
             }
            },
            "type": "scatterpolar"
           }
          ],
          "scatterpolargl": [
           {
            "marker": {
             "colorbar": {
              "outlinewidth": 0,
              "ticks": ""
             }
            },
            "type": "scatterpolargl"
           }
          ],
          "scatterternary": [
           {
            "marker": {
             "colorbar": {
              "outlinewidth": 0,
              "ticks": ""
             }
            },
            "type": "scatterternary"
           }
          ],
          "surface": [
           {
            "colorbar": {
             "outlinewidth": 0,
             "ticks": ""
            },
            "colorscale": [
             [
              0,
              "#0d0887"
             ],
             [
              0.1111111111111111,
              "#46039f"
             ],
             [
              0.2222222222222222,
              "#7201a8"
             ],
             [
              0.3333333333333333,
              "#9c179e"
             ],
             [
              0.4444444444444444,
              "#bd3786"
             ],
             [
              0.5555555555555556,
              "#d8576b"
             ],
             [
              0.6666666666666666,
              "#ed7953"
             ],
             [
              0.7777777777777778,
              "#fb9f3a"
             ],
             [
              0.8888888888888888,
              "#fdca26"
             ],
             [
              1,
              "#f0f921"
             ]
            ],
            "type": "surface"
           }
          ],
          "table": [
           {
            "cells": {
             "fill": {
              "color": "#EBF0F8"
             },
             "line": {
              "color": "white"
             }
            },
            "header": {
             "fill": {
              "color": "#C8D4E3"
             },
             "line": {
              "color": "white"
             }
            },
            "type": "table"
           }
          ]
         },
         "layout": {
          "annotationdefaults": {
           "arrowcolor": "#2a3f5f",
           "arrowhead": 0,
           "arrowwidth": 1
          },
          "autotypenumbers": "strict",
          "coloraxis": {
           "colorbar": {
            "outlinewidth": 0,
            "ticks": ""
           }
          },
          "colorscale": {
           "diverging": [
            [
             0,
             "#8e0152"
            ],
            [
             0.1,
             "#c51b7d"
            ],
            [
             0.2,
             "#de77ae"
            ],
            [
             0.3,
             "#f1b6da"
            ],
            [
             0.4,
             "#fde0ef"
            ],
            [
             0.5,
             "#f7f7f7"
            ],
            [
             0.6,
             "#e6f5d0"
            ],
            [
             0.7,
             "#b8e186"
            ],
            [
             0.8,
             "#7fbc41"
            ],
            [
             0.9,
             "#4d9221"
            ],
            [
             1,
             "#276419"
            ]
           ],
           "sequential": [
            [
             0,
             "#0d0887"
            ],
            [
             0.1111111111111111,
             "#46039f"
            ],
            [
             0.2222222222222222,
             "#7201a8"
            ],
            [
             0.3333333333333333,
             "#9c179e"
            ],
            [
             0.4444444444444444,
             "#bd3786"
            ],
            [
             0.5555555555555556,
             "#d8576b"
            ],
            [
             0.6666666666666666,
             "#ed7953"
            ],
            [
             0.7777777777777778,
             "#fb9f3a"
            ],
            [
             0.8888888888888888,
             "#fdca26"
            ],
            [
             1,
             "#f0f921"
            ]
           ],
           "sequentialminus": [
            [
             0,
             "#0d0887"
            ],
            [
             0.1111111111111111,
             "#46039f"
            ],
            [
             0.2222222222222222,
             "#7201a8"
            ],
            [
             0.3333333333333333,
             "#9c179e"
            ],
            [
             0.4444444444444444,
             "#bd3786"
            ],
            [
             0.5555555555555556,
             "#d8576b"
            ],
            [
             0.6666666666666666,
             "#ed7953"
            ],
            [
             0.7777777777777778,
             "#fb9f3a"
            ],
            [
             0.8888888888888888,
             "#fdca26"
            ],
            [
             1,
             "#f0f921"
            ]
           ]
          },
          "colorway": [
           "#636efa",
           "#EF553B",
           "#00cc96",
           "#ab63fa",
           "#FFA15A",
           "#19d3f3",
           "#FF6692",
           "#B6E880",
           "#FF97FF",
           "#FECB52"
          ],
          "font": {
           "color": "#2a3f5f"
          },
          "geo": {
           "bgcolor": "white",
           "lakecolor": "white",
           "landcolor": "#E5ECF6",
           "showlakes": true,
           "showland": true,
           "subunitcolor": "white"
          },
          "hoverlabel": {
           "align": "left"
          },
          "hovermode": "closest",
          "mapbox": {
           "style": "light"
          },
          "paper_bgcolor": "white",
          "plot_bgcolor": "#E5ECF6",
          "polar": {
           "angularaxis": {
            "gridcolor": "white",
            "linecolor": "white",
            "ticks": ""
           },
           "bgcolor": "#E5ECF6",
           "radialaxis": {
            "gridcolor": "white",
            "linecolor": "white",
            "ticks": ""
           }
          },
          "scene": {
           "xaxis": {
            "backgroundcolor": "#E5ECF6",
            "gridcolor": "white",
            "gridwidth": 2,
            "linecolor": "white",
            "showbackground": true,
            "ticks": "",
            "zerolinecolor": "white"
           },
           "yaxis": {
            "backgroundcolor": "#E5ECF6",
            "gridcolor": "white",
            "gridwidth": 2,
            "linecolor": "white",
            "showbackground": true,
            "ticks": "",
            "zerolinecolor": "white"
           },
           "zaxis": {
            "backgroundcolor": "#E5ECF6",
            "gridcolor": "white",
            "gridwidth": 2,
            "linecolor": "white",
            "showbackground": true,
            "ticks": "",
            "zerolinecolor": "white"
           }
          },
          "shapedefaults": {
           "line": {
            "color": "#2a3f5f"
           }
          },
          "ternary": {
           "aaxis": {
            "gridcolor": "white",
            "linecolor": "white",
            "ticks": ""
           },
           "baxis": {
            "gridcolor": "white",
            "linecolor": "white",
            "ticks": ""
           },
           "bgcolor": "#E5ECF6",
           "caxis": {
            "gridcolor": "white",
            "linecolor": "white",
            "ticks": ""
           }
          },
          "title": {
           "x": 0.05
          },
          "xaxis": {
           "automargin": true,
           "gridcolor": "white",
           "linecolor": "white",
           "ticks": "",
           "title": {
            "standoff": 15
           },
           "zerolinecolor": "white",
           "zerolinewidth": 2
          },
          "yaxis": {
           "automargin": true,
           "gridcolor": "white",
           "linecolor": "white",
           "ticks": "",
           "title": {
            "standoff": 15
           },
           "zerolinecolor": "white",
           "zerolinewidth": 2
          }
         }
        },
        "title": {
         "text": "Interactive Scatter Plot of Vessel Dimensions"
        },
        "xaxis": {
         "anchor": "y",
         "domain": [
          0,
          1
         ],
         "title": {
          "text": "Length"
         }
        },
        "yaxis": {
         "anchor": "x",
         "domain": [
          0,
          1
         ],
         "title": {
          "text": "Width"
         }
        }
       }
      }
     },
     "metadata": {},
     "output_type": "display_data"
    }
   ],
   "source": [
    "fig = px.scatter(unique_ships, x='length', y='width', color='Type', hover_data=['Type', 'MMSI', 'ShipName'])\n",
    "\n",
    "# Customize the plot layout\n",
    "fig.update_layout(title='Interactive Scatter Plot of Vessel Dimensions',\n",
    "                  xaxis_title='Length',\n",
    "                  yaxis_title='Width')\n",
    "\n",
    "# Display the interactive plot\n",
    "fig.show()"
   ]
  },
  {
   "cell_type": "markdown",
   "metadata": {},
   "source": [
    "Επίσης απεικονίζουμε σε επόμενο διάγραμμα το εύρος που κυμάινεται το βύθισμα των σκαφών."
   ]
  },
  {
   "cell_type": "code",
   "execution_count": 247,
   "metadata": {},
   "outputs": [
    {
     "data": {
      "text/plain": [
       "Text(0, 0.5, 'Draught')"
      ]
     },
     "execution_count": 247,
     "metadata": {},
     "output_type": "execute_result"
    },
    {
     "data": {
      "image/png": "[encoded data removed]",
      "text/plain": [
       "<Figure size 640x480 with 1 Axes>"
      ]
     },
     "metadata": {},
     "output_type": "display_data"
    }
   ],
   "source": [
    "sns.violinplot(x='Type',y='MaximumStaticDraught', data=unique_ships,hue='Type', palette='Set1')\n",
    "plt.title('Violin Plot of Vessel Draught for All Ships')\n",
    "plt.ylabel('Draught')"
   ]
  },
  {
   "cell_type": "markdown",
   "metadata": {},
   "source": [
    "Επιπρόσθετα, έχοντας ώς στόχο να αντλήσουμε τις περισσότερες πληροφορίες που μπορούμε απο τα δεδομένα αυτά, παρατηρούμε την ύπαρξη της στήλης (IMO_number).\n",
    "Η στήλη IMO ή αλλίως International Maritime Organization Ship ID Number, αποτελεί μοναδικό κωδικό που ανατίθεται σε κάθε πλοίο. \n",
    "Αυτός ο αριθμός χρησιμοποιείται για την ταυτοποίηση και το παρακολούθηση των πλοίων σε διεθνές επίπεδο.\n"
   ]
  },
  {
   "cell_type": "markdown",
   "metadata": {},
   "source": [
    "Είτε πρόκειται για ένα μεγάλο φορτηγό πλοίο, ένα επιβατικό, ένα δεξαμενόπλοιο, \n",
    "είτε για ένα μικρότερο σκάφος, η ύπαρξη ενός μοναδικού αναγνωριστικού αριθμού συμβάλλει \n",
    "στην παρακολούθηση και διαχείριση των θαλάσσιων δραστηριοτήτων."
   ]
  },
  {
   "cell_type": "code",
   "execution_count": 248,
   "metadata": {},
   "outputs": [],
   "source": [
    "# variables for ships with or without IMO number \n",
    "\n",
    "# Get Ships with IMO number\n",
    "Ships_with_IMO_number = geo_raw_ship_data[raw_ship_data[\"ImoNumber\"] != 0]\n",
    "Total_number_Ships_with_IMO = (geo_raw_ship_data[\"ImoNumber\"] != 0).sum()\n",
    "\n",
    "# Get Ships without IMO number\n",
    "Ships_with_no_IMO_number = geo_raw_ship_data[geo_raw_ship_data[\"ImoNumber\"] == 0]\n",
    "Total_number_Ships_with_no_IMO = (geo_raw_ship_data[\"ImoNumber\"] == 0).sum()"
   ]
  },
  {
   "cell_type": "markdown",
   "metadata": {},
   "source": [
    "Αρχικά θα υπολογίσουμε το ποσοστό των πλοίων που δεν έχουν IMO αριθμό."
   ]
  },
  {
   "cell_type": "code",
   "execution_count": 249,
   "metadata": {},
   "outputs": [
    {
     "data": {
      "text/plain": [
       "24"
      ]
     },
     "execution_count": 249,
     "metadata": {},
     "output_type": "execute_result"
    }
   ],
   "source": [
    "# Get percentage of ships without IMO number\n",
    "Percentage_of_no_IMO_Ships = (\n",
    "    Total_number_Ships_with_no_IMO \n",
    "    /geo_raw_ship_data[\"ImoNumber\"].count()) * 100\n",
    "round(Percentage_of_no_IMO_Ships)"
   ]
  },
  {
   "cell_type": "code",
   "execution_count": 250,
   "metadata": {},
   "outputs": [
    {
     "data": {
      "image/png": "[encoded data removed]",
      "text/plain": [
       "<Figure size 1200x400 with 1 Axes>"
      ]
     },
     "metadata": {},
     "output_type": "display_data"
    }
   ],
   "source": [
    "# Using bar chart to visualize the percentage difference.\n",
    "sns.set(style=\"whitegrid\")\n",
    "plt.figure(figsize=(12, 4))\n",
    "colors = sns.color_palette(\"viridis\", n_colors=2)\n",
    "sns.barplot(\n",
    "x=['Ships with IMO Number', 'Ships without IMO Number'], \n",
    "y=[100 - Percentage_of_no_IMO_Ships, Percentage_of_no_IMO_Ships], \n",
    "palette=colors, \n",
    "edgecolor='black', \n",
    "hue=['Ships with IMO', 'Ships without IMO'], \n",
    "legend=False\n",
    ")\n",
    "\n",
    "plt.ylabel('Percentage')\n",
    "plt.title('Percentage of Ships with & without IMO Numbers')\n",
    "\n",
    "# Adding some text for more informative visualization (titles and % of each bar).\n",
    "for i, value in enumerate([100 - Percentage_of_no_IMO_Ships, Percentage_of_no_IMO_Ships]):\n",
    "    plt.text(\n",
    "    i, value + 1, \n",
    "    f'{value:.2f}%', \n",
    "    ha='center', \n",
    "    va='bottom', \n",
    "    color='black', \n",
    "    fontweight='bold'\n",
    "    )\n",
    "# Display the plot\n",
    "plt.show()\n"
   ]
  },
  {
   "cell_type": "markdown",
   "metadata": {},
   "source": [
    "Όπως φαίνεται και απο το διάγραμμα το 24% του συνολικού αριθμού των πλοίων δεν διαθέτουν IMO αριθμό.\n"
   ]
  },
  {
   "cell_type": "markdown",
   "metadata": {},
   "source": [
    "## Χάρτες"
   ]
  },
  {
   "cell_type": "markdown",
   "metadata": {},
   "source": [
    "Επανερχόμαστε στο αρχικό dataframe. Αναζητούμε το πλοίο με τις περισσότερες εγγραφές επομένως και με τα περισσότερα δεδομένα συντεταγμένων."
   ]
  },
  {
   "cell_type": "code",
   "execution_count": 251,
   "metadata": {},
   "outputs": [
    {
     "data": {
      "text/plain": [
       "ShipName\n",
       "DEBBIE            27\n",
       "SYMPHONY          18\n",
       "IRIS              17\n",
       "ASHDOD PORT       17\n",
       "EDT LEON          17\n",
       "                  ..\n",
       "ELAD               1\n",
       "VTS KERYNEIA       1\n",
       "ADA 74             1\n",
       "AKRITAS            1\n",
       "SUSAN BORCHARD     1\n",
       "Name: count, Length: 91, dtype: int64"
      ]
     },
     "execution_count": 251,
     "metadata": {},
     "output_type": "execute_result"
    }
   ],
   "source": [
    "# Find the ship with the most data\n",
    "geo_raw_ship_data['ShipName'].value_counts()"
   ]
  },
  {
   "cell_type": "markdown",
   "metadata": {},
   "source": [
    "Για ευκολία απομονώνουμε τον πίνακα σε έναν μικρότερο με τις στήλες που μας ενδιαφέρουν."
   ]
  },
  {
   "cell_type": "code",
   "execution_count": 252,
   "metadata": {},
   "outputs": [
    {
     "data": {
      "text/html": [
       "<div>\n",
       "<style scoped>\n",
       "    .dataframe tbody tr th:only-of-type {\n",
       "        vertical-align: middle;\n",
       "    }\n",
       "\n",
       "    .dataframe tbody tr th {\n",
       "        vertical-align: top;\n",
       "    }\n",
       "\n",
       "    .dataframe thead th {\n",
       "        text-align: right;\n",
       "    }\n",
       "</style>\n",
       "<table border=\"1\" class=\"dataframe\">\n",
       "  <thead>\n",
       "    <tr style=\"text-align: right;\">\n",
       "      <th></th>\n",
       "      <th>time_utc</th>\n",
       "      <th>ShipName</th>\n",
       "      <th>MMSI</th>\n",
       "      <th>geometry</th>\n",
       "    </tr>\n",
       "  </thead>\n",
       "  <tbody>\n",
       "    <tr>\n",
       "      <th>0</th>\n",
       "      <td>2023-12-09 08:05:51</td>\n",
       "      <td>SEMINOLE</td>\n",
       "      <td>247274900</td>\n",
       "      <td>POINT (33.05835 34.66968)</td>\n",
       "    </tr>\n",
       "    <tr>\n",
       "      <th>1</th>\n",
       "      <td>2023-12-09 08:05:54</td>\n",
       "      <td>EDT ZENON</td>\n",
       "      <td>212541000</td>\n",
       "      <td>POINT (33.00969 34.64540)</td>\n",
       "    </tr>\n",
       "    <tr>\n",
       "      <th>2</th>\n",
       "      <td>2023-12-09 08:05:57</td>\n",
       "      <td>KOSOVAK</td>\n",
       "      <td>271047045</td>\n",
       "      <td>POINT (29.00512 35.82620)</td>\n",
       "    </tr>\n",
       "    <tr>\n",
       "      <th>3</th>\n",
       "      <td>2023-12-09 08:06:05</td>\n",
       "      <td>EDT LEON</td>\n",
       "      <td>209343000</td>\n",
       "      <td>POINT (33.00900 34.64513)</td>\n",
       "    </tr>\n",
       "    <tr>\n",
       "      <th>4</th>\n",
       "      <td>2023-12-09 08:06:08</td>\n",
       "      <td>NAVAL AUXILIARY A135</td>\n",
       "      <td>233303000</td>\n",
       "      <td>POINT (33.01678 34.65245)</td>\n",
       "    </tr>\n",
       "  </tbody>\n",
       "</table>\n",
       "</div>"
      ],
      "text/plain": [
       "             time_utc              ShipName       MMSI  \\\n",
       "0 2023-12-09 08:05:51              SEMINOLE  247274900   \n",
       "1 2023-12-09 08:05:54             EDT ZENON  212541000   \n",
       "2 2023-12-09 08:05:57               KOSOVAK  271047045   \n",
       "3 2023-12-09 08:06:05              EDT LEON  209343000   \n",
       "4 2023-12-09 08:06:08  NAVAL AUXILIARY A135  233303000   \n",
       "\n",
       "                    geometry  \n",
       "0  POINT (33.05835 34.66968)  \n",
       "1  POINT (33.00969 34.64540)  \n",
       "2  POINT (29.00512 35.82620)  \n",
       "3  POINT (33.00900 34.64513)  \n",
       "4  POINT (33.01678 34.65245)  "
      ]
     },
     "execution_count": 252,
     "metadata": {},
     "output_type": "execute_result"
    }
   ],
   "source": [
    "# Return a dataframe with only the data we need in order to plot trajectories\n",
    "ship_data = geo_raw_ship_data[['time_utc','ShipName','MMSI','geometry']]\n",
    "ship_data.head()"
   ]
  },
  {
   "cell_type": "markdown",
   "metadata": {},
   "source": [
    "Παρατηρήσαμε πως το σκάφος με όνομα \"DEBBIE\" έχει τις περισσότερες εγγραφές, επομένως θα δώσουμε ιδιαίτερη έμφαση."
   ]
  },
  {
   "cell_type": "code",
   "execution_count": 253,
   "metadata": {},
   "outputs": [
    {
     "name": "stdout",
     "output_type": "stream",
     "text": [
      "               time_utc ShipName       MMSI                   geometry\n",
      "35  2023-12-09 08:09:28   DEBBIE  667001448  POINT (34.64196 31.82850)\n",
      "45  2023-12-09 08:10:41   DEBBIE  667001448  POINT (34.64197 31.82847)\n",
      "69  2023-12-09 08:12:56   DEBBIE  667001448  POINT (34.64197 31.82847)\n",
      "127 2023-12-09 08:18:30   DEBBIE  667001448  POINT (34.64190 31.82863)\n",
      "163 2023-12-09 08:22:48   DEBBIE  667001448  POINT (34.64196 31.82861)\n"
     ]
    }
   ],
   "source": [
    "# Get vessel \"Debbie\" wich has the most records\n",
    "ship_name_value=\"DEBBIE\"\n",
    "results = ship_data[ship_data[\"ShipName\"] == ship_name_value]\n",
    "print(results.head())"
   ]
  },
  {
   "cell_type": "markdown",
   "metadata": {},
   "source": [
    "Μετατρέπουμε τα δεδομένα συντεταγμένων σε τροχιές."
   ]
  },
  {
   "cell_type": "code",
   "execution_count": 254,
   "metadata": {},
   "outputs": [
    {
     "name": "stdout",
     "output_type": "stream",
     "text": [
      "TrajectoryCollection with 1 trajectories\n"
     ]
    },
    {
     "name": "stderr",
     "output_type": "stream",
     "text": [
      "c:\\Users\\George\\AppData\\Local\\Programs\\Python\\Python311\\Lib\\site-packages\\movingpandas\\trajectory_generalizer.py:115: FutureWarning:\n",
      "\n",
      "Series.__getitem__ treating keys as positions is deprecated. In a future version, integer keys will always be treated as labels (consistent with DataFrame behavior). To access a value by position, use `ser.iloc[pos]`\n",
      "\n"
     ]
    }
   ],
   "source": [
    "traj_collection = mpd.TrajectoryCollection(results, 'MMSI', t='time_utc', min_length=5)\n",
    "traj_collection = mpd.MinTimeDeltaGeneralizer(traj_collection).generalize(tolerance=timedelta(seconds=30))\n",
    "print(traj_collection)"
   ]
  },
  {
   "cell_type": "code",
   "execution_count": 255,
   "metadata": {},
   "outputs": [
    {
     "name": "stdout",
     "output_type": "stream",
     "text": [
      "Trajectory 667001448 (2023-12-09 08:09:28 to 2023-12-09 09:35:15) | Size: 27 | Length: 139.5m\n",
      "Bounds: (34.64185, 31.828466666666667, 34.642015, 31.82865)\n",
      "LINESTRING (34.64196166666667 31.828498333333336, 34.64196666666667 31.828466666666667, 34.641966666\n"
     ]
    }
   ],
   "source": [
    "my_traj = traj_collection.trajectories[0]\n",
    "print(my_traj)"
   ]
  },
  {
   "cell_type": "code",
   "execution_count": 256,
   "metadata": {},
   "outputs": [
    {
     "data": {},
     "metadata": {},
     "output_type": "display_data"
    },
    {
     "data": {
      "application/vnd.holoviews_exec.v0+json": "",
      "text/html": [
       "<div id='p1131'>\n",
       "  <div id=\"f2fdfba2-b384-486b-baf5-b4a84f661fd6\" data-root-id=\"p1131\" style=\"display: contents;\"></div>\n",
       "</div>\n",
       "<script type=\"application/javascript\">(function(root) {\n",
       "  var docs_json = {\"90b6537e-8266-46e8-a34a-76b9ec41f105\":{\"version\":\"3.3.3\",\"title\":\"Bokeh Application\",\"roots\":[{\"type\":\"object\",\"name\":\"Row\",\"id\":\"p1131\",\"attributes\":{\"name\":\"Row02827\",\"tags\":[\"embedded\"],\"stylesheets\":[\"\\n:host(.pn-loading.pn-arc):before, .pn-loading.pn-arc:before {\\n  background-image: url(\\\"data:image/svg+xml;base64,PHN2ZyB4bWxucz0iaHR0cDovL3d3dy53My5vcmcvMjAwMC9zdmciIHN0eWxlPSJtYXJnaW46IGF1dG87IGJhY2tncm91bmQ6IG5vbmU7IGRpc3BsYXk6IGJsb2NrOyBzaGFwZS1yZW5kZXJpbmc6IGF1dG87IiB2aWV3Qm94PSIwIDAgMTAwIDEwMCIgcHJlc2VydmVBc3BlY3RSYXRpbz0ieE1pZFlNaWQiPiAgPGNpcmNsZSBjeD0iNTAiIGN5PSI1MCIgZmlsbD0ibm9uZSIgc3Ryb2tlPSIjYzNjM2MzIiBzdHJva2Utd2lkdGg9IjEwIiByPSIzNSIgc3Ryb2tlLWRhc2hhcnJheT0iMTY0LjkzMzYxNDMxMzQ2NDE1IDU2Ljk3Nzg3MTQzNzgyMTM4Ij4gICAgPGFuaW1hdGVUcmFuc2Zvcm0gYXR0cmlidXRlTmFtZT0idHJhbnNmb3JtIiB0eXBlPSJyb3RhdGUiIHJlcGVhdENvdW50PSJpbmRlZmluaXRlIiBkdXI9IjFzIiB2YWx1ZXM9IjAgNTAgNTA7MzYwIDUwIDUwIiBrZXlUaW1lcz0iMDsxIj48L2FuaW1hdGVUcmFuc2Zvcm0+ICA8L2NpcmNsZT48L3N2Zz4=\\\");\\n  background-size: auto calc(min(50%, 400px));\\n}\",{\"type\":\"object\",\"name\":\"ImportedStyleSheet\",\"id\":\"p1134\",\"attributes\":{\"url\":\"https://cdn.holoviz.org/panel/1.3.8/dist/css/loading.css\"}},{\"type\":\"object\",\"name\":\"ImportedStyleSheet\",\"id\":\"p1244\",\"attributes\":{\"url\":\"https://cdn.holoviz.org/panel/1.3.8/dist/css/listpanel.css\"}},{\"type\":\"object\",\"name\":\"ImportedStyleSheet\",\"id\":\"p1132\",\"attributes\":{\"url\":\"https://cdn.holoviz.org/panel/1.3.8/dist/bundled/theme/default.css\"}},{\"type\":\"object\",\"name\":\"ImportedStyleSheet\",\"id\":\"p1133\",\"attributes\":{\"url\":\"https://cdn.holoviz.org/panel/1.3.8/dist/bundled/theme/native.css\"}}],\"margin\":0,\"sizing_mode\":\"stretch_width\",\"align\":\"start\",\"children\":[{\"type\":\"object\",\"name\":\"Spacer\",\"id\":\"p1135\",\"attributes\":{\"name\":\"HSpacer02833\",\"stylesheets\":[\"\\n:host(.pn-loading.pn-arc):before, .pn-loading.pn-arc:before {\\n  background-image: url(\\\"data:image/svg+xml;base64,PHN2ZyB4bWxucz0iaHR0cDovL3d3dy53My5vcmcvMjAwMC9zdmciIHN0eWxlPSJtYXJnaW46IGF1dG87IGJhY2tncm91bmQ6IG5vbmU7IGRpc3BsYXk6IGJsb2NrOyBzaGFwZS1yZW5kZXJpbmc6IGF1dG87IiB2aWV3Qm94PSIwIDAgMTAwIDEwMCIgcHJlc2VydmVBc3BlY3RSYXRpbz0ieE1pZFlNaWQiPiAgPGNpcmNsZSBjeD0iNTAiIGN5PSI1MCIgZmlsbD0ibm9uZSIgc3Ryb2tlPSIjYzNjM2MzIiBzdHJva2Utd2lkdGg9IjEwIiByPSIzNSIgc3Ryb2tlLWRhc2hhcnJheT0iMTY0LjkzMzYxNDMxMzQ2NDE1IDU2Ljk3Nzg3MTQzNzgyMTM4Ij4gICAgPGFuaW1hdGVUcmFuc2Zvcm0gYXR0cmlidXRlTmFtZT0idHJhbnNmb3JtIiB0eXBlPSJyb3RhdGUiIHJlcGVhdENvdW50PSJpbmRlZmluaXRlIiBkdXI9IjFzIiB2YWx1ZXM9IjAgNTAgNTA7MzYwIDUwIDUwIiBrZXlUaW1lcz0iMDsxIj48L2FuaW1hdGVUcmFuc2Zvcm0+ICA8L2NpcmNsZT48L3N2Zz4=\\\");\\n  background-size: auto calc(min(50%, 400px));\\n}\",{\"id\":\"p1134\"},{\"id\":\"p1132\"},{\"id\":\"p1133\"}],\"margin\":0,\"sizing_mode\":\"stretch_width\",\"align\":\"start\"}},{\"type\":\"object\",\"name\":\"Figure\",\"id\":\"p1174\",\"attributes\":{\"width\":null,\"height\":null,\"margin\":[5,10],\"sizing_mode\":\"fixed\",\"align\":\"start\",\"x_range\":{\"type\":\"object\",\"name\":\"Range1d\",\"id\":\"p1148\",\"attributes\":{\"tags\":[[[\"Longitude\",\"Longitude\",null]],[]],\"start\":3856302.4401729144,\"end\":3856342.3544560038,\"reset_start\":3856302.4401729144,\"reset_end\":3856342.3544560038,\"min_interval\":5}},\"y_range\":{\"type\":\"object\",\"name\":\"Range1d\",\"id\":\"p1149\",\"attributes\":{\"tags\":[[[\"Latitude\",\"Latitude\",null]],{\"type\":\"map\",\"entries\":[[\"invert_yaxis\",false],[\"autorange\",false]]}],\"start\":3740812.9682616503,\"end\":3740841.478463857,\"reset_start\":3740812.9682616503,\"reset_end\":3740841.478463857,\"min_interval\":5}},\"x_scale\":{\"type\":\"object\",\"name\":\"LinearScale\",\"id\":\"p1184\"},\"y_scale\":{\"type\":\"object\",\"name\":\"LinearScale\",\"id\":\"p1185\"},\"title\":{\"type\":\"object\",\"name\":\"Title\",\"id\":\"p1177\",\"attributes\":{\"text\":\"Ship DEBBIE\",\"text_color\":\"black\",\"text_font_size\":\"12pt\"}},\"renderers\":[{\"type\":\"object\",\"name\":\"TileRenderer\",\"id\":\"p1207\",\"attributes\":{\"level\":\"underlay\",\"tile_source\":{\"type\":\"object\",\"name\":\"WMTSTileSource\",\"id\":\"p1203\",\"attributes\":{\"url\":\"https://c.tile.openstreetmap.org/{Z}/{X}/{Y}.png\",\"attribution\":\"&copy; <a href=\\\"https://www.openstreetmap.org/copyright\\\">OpenStreetMap</a> contributors\"}}}},{\"type\":\"object\",\"name\":\"GlyphRenderer\",\"id\":\"p1220\",\"attributes\":{\"data_source\":{\"type\":\"object\",\"name\":\"ColumnDataSource\",\"id\":\"p1211\",\"attributes\":{\"selected\":{\"type\":\"object\",\"name\":\"Selection\",\"id\":\"p1212\",\"attributes\":{\"indices\":[],\"line_indices\":[]}},\"selection_policy\":{\"type\":\"object\",\"name\":\"UnionRenderers\",\"id\":\"p1213\"},\"data\":{\"type\":\"map\",\"entries\":[[\"xs\",[{\"type\":\"ndarray\",\"array\":{\"type\":\"bytes\",\"data\":\"LTszxOJrTUEI0XEL42tNQQjRcQvja01BoK2EVd9rTUEKHjVl4mtNQeAZ7fjja01B4Bnt+ONrTUFUP3sw4WtNQVQ/ezDha01BCNFxC+NrTUEI0XEL42tNQRPTEo3ca01BVD97MOFrTUGa3/A642tNQSyI9h3ia01BLIj2HeJrTUEsiPYd4mtNQQjRcQvja01BCNFxC+NrTUG+SbLz4mtNQXZ1L4Lja01BdnUvguNrTUHvG4563WtNQe8bjnrda01B5bNzrOJrTUG8Ymjm5GtNQUwkJLzla01B\"},\"shape\":[27],\"dtype\":\"float64\",\"order\":\"little\"}]],[\"ys\",[{\"type\":\"ndarray\",\"array\":{\"type\":\"bytes\",\"data\":\"IftYrkmKTEFNj0abR4pMQU2PRptHikxBmqOWFlKKTEFFkxP/UIpMQfSBwndPikxB9IHCd0+KTEExg8mySIpMQTGDybJIikxBAoDbP0+KTEECgNs/T4pMQUV4WChOikxBCMDnnVOKTEEyfvQHT4pMQddz1RBNikxB13PVEE2KTEHXc9UQTYpMQQ2LXldQikxBDYteV1CKTEH3eiaYTopMQdARIONQikxB0BEg41CKTEENi15XUIpMQQ2LXldQikxBrPJFFUyKTEExg8mySIpMQSbz+rxMikxB\"},\"shape\":[27],\"dtype\":\"float64\",\"order\":\"little\"}]]]}}},\"view\":{\"type\":\"object\",\"name\":\"CDSView\",\"id\":\"p1221\",\"attributes\":{\"filter\":{\"type\":\"object\",\"name\":\"AllIndices\",\"id\":\"p1222\"}}},\"glyph\":{\"type\":\"object\",\"name\":\"MultiLine\",\"id\":\"p1217\",\"attributes\":{\"tags\":[\"apply_ranges\"],\"xs\":{\"type\":\"field\",\"field\":\"xs\"},\"ys\":{\"type\":\"field\",\"field\":\"ys\"},\"line_color\":{\"type\":\"value\",\"value\":\"#1f77b4\"},\"line_width\":{\"type\":\"value\",\"value\":5.0}}},\"selection_glyph\":{\"type\":\"object\",\"name\":\"MultiLine\",\"id\":\"p1225\",\"attributes\":{\"tags\":[\"apply_ranges\"],\"xs\":{\"type\":\"field\",\"field\":\"xs\"},\"ys\":{\"type\":\"field\",\"field\":\"ys\"},\"line_color\":{\"type\":\"value\",\"value\":\"#1f77b4\"},\"line_alpha\":{\"type\":\"value\",\"value\":1.0},\"line_width\":{\"type\":\"value\",\"value\":5.0},\"line_join\":{\"type\":\"value\",\"value\":\"bevel\"},\"line_cap\":{\"type\":\"value\",\"value\":\"butt\"},\"line_dash\":{\"type\":\"value\",\"value\":[]},\"line_dash_offset\":{\"type\":\"value\",\"value\":0}}},\"nonselection_glyph\":{\"type\":\"object\",\"name\":\"MultiLine\",\"id\":\"p1218\",\"attributes\":{\"tags\":[\"apply_ranges\"],\"xs\":{\"type\":\"field\",\"field\":\"xs\"},\"ys\":{\"type\":\"field\",\"field\":\"ys\"},\"line_color\":{\"type\":\"value\",\"value\":\"#1f77b4\"},\"line_alpha\":{\"type\":\"value\",\"value\":0.1},\"line_width\":{\"type\":\"value\",\"value\":5.0}}},\"muted_glyph\":{\"type\":\"object\",\"name\":\"MultiLine\",\"id\":\"p1219\",\"attributes\":{\"tags\":[\"apply_ranges\"],\"xs\":{\"type\":\"field\",\"field\":\"xs\"},\"ys\":{\"type\":\"field\",\"field\":\"ys\"},\"line_color\":{\"type\":\"value\",\"value\":\"#1f77b4\"},\"line_alpha\":{\"type\":\"value\",\"value\":0.2},\"line_width\":{\"type\":\"value\",\"value\":5.0}}}}},{\"type\":\"object\",\"name\":\"GlyphRenderer\",\"id\":\"p1235\",\"attributes\":{\"data_source\":{\"type\":\"object\",\"name\":\"ColumnDataSource\",\"id\":\"p1226\",\"attributes\":{\"selected\":{\"type\":\"object\",\"name\":\"Selection\",\"id\":\"p1227\",\"attributes\":{\"indices\":[],\"line_indices\":[]}},\"selection_policy\":{\"type\":\"object\",\"name\":\"UnionRenderers\",\"id\":\"p1228\"},\"data\":{\"type\":\"map\",\"entries\":[[\"Longitude\",{\"type\":\"ndarray\",\"array\":{\"type\":\"bytes\",\"data\":\"TCQkvOVrTUE=\"},\"shape\":[1],\"dtype\":\"float64\",\"order\":\"little\"}],[\"Latitude\",{\"type\":\"ndarray\",\"array\":{\"type\":\"bytes\",\"data\":\"JvP6vEyKTEE=\"},\"shape\":[1],\"dtype\":\"float64\",\"order\":\"little\"}],[\"triangle_angle\",{\"type\":\"ndarray\",\"array\":{\"type\":\"bytes\",\"data\":\"AB4+G35aJ8A=\"},\"shape\":[1],\"dtype\":\"float64\",\"order\":\"little\"}]]}}},\"view\":{\"type\":\"object\",\"name\":\"CDSView\",\"id\":\"p1236\",\"attributes\":{\"filter\":{\"type\":\"object\",\"name\":\"AllIndices\",\"id\":\"p1237\"}}},\"glyph\":{\"type\":\"object\",\"name\":\"Scatter\",\"id\":\"p1232\",\"attributes\":{\"tags\":[\"apply_ranges\"],\"x\":{\"type\":\"field\",\"field\":\"Longitude\"},\"y\":{\"type\":\"field\",\"field\":\"Latitude\"},\"size\":{\"type\":\"value\",\"value\":14.142135623730951},\"angle\":{\"type\":\"value\",\"value\":-0.20379761764021184},\"line_color\":{\"type\":\"value\",\"value\":\"#1f77b4\"},\"fill_color\":{\"type\":\"value\",\"value\":\"#1f77b4\"},\"hatch_color\":{\"type\":\"value\",\"value\":\"#1f77b4\"},\"marker\":{\"type\":\"value\",\"value\":\"triangle\"}}},\"selection_glyph\":{\"type\":\"object\",\"name\":\"Scatter\",\"id\":\"p1240\",\"attributes\":{\"tags\":[\"apply_ranges\"],\"x\":{\"type\":\"field\",\"field\":\"Longitude\"},\"y\":{\"type\":\"field\",\"field\":\"Latitude\"},\"size\":{\"type\":\"value\",\"value\":14.142135623730951},\"angle\":{\"type\":\"value\",\"value\":-0.20379761764021184},\"line_color\":{\"type\":\"value\",\"value\":\"#1f77b4\"},\"line_alpha\":{\"type\":\"value\",\"value\":1.0},\"line_width\":{\"type\":\"value\",\"value\":1},\"line_join\":{\"type\":\"value\",\"value\":\"bevel\"},\"line_cap\":{\"type\":\"value\",\"value\":\"butt\"},\"line_dash\":{\"type\":\"value\",\"value\":[]},\"line_dash_offset\":{\"type\":\"value\",\"value\":0},\"fill_color\":{\"type\":\"value\",\"value\":\"#1f77b4\"},\"fill_alpha\":{\"type\":\"value\",\"value\":1.0},\"hatch_color\":{\"type\":\"value\",\"value\":\"#1f77b4\"},\"hatch_alpha\":{\"type\":\"value\",\"value\":1.0},\"hatch_scale\":{\"type\":\"value\",\"value\":12.0},\"hatch_pattern\":{\"type\":\"value\",\"value\":null},\"hatch_weight\":{\"type\":\"value\",\"value\":1.0},\"marker\":{\"type\":\"value\",\"value\":\"triangle\"}}},\"nonselection_glyph\":{\"type\":\"object\",\"name\":\"Scatter\",\"id\":\"p1233\",\"attributes\":{\"tags\":[\"apply_ranges\"],\"x\":{\"type\":\"field\",\"field\":\"Longitude\"},\"y\":{\"type\":\"field\",\"field\":\"Latitude\"},\"size\":{\"type\":\"value\",\"value\":14.142135623730951},\"angle\":{\"type\":\"value\",\"value\":-0.20379761764021184},\"line_color\":{\"type\":\"value\",\"value\":\"#1f77b4\"},\"line_alpha\":{\"type\":\"value\",\"value\":0.1},\"fill_color\":{\"type\":\"value\",\"value\":\"#1f77b4\"},\"fill_alpha\":{\"type\":\"value\",\"value\":0.1},\"hatch_color\":{\"type\":\"value\",\"value\":\"#1f77b4\"},\"hatch_alpha\":{\"type\":\"value\",\"value\":0.1},\"marker\":{\"type\":\"value\",\"value\":\"triangle\"}}},\"muted_glyph\":{\"type\":\"object\",\"name\":\"Scatter\",\"id\":\"p1234\",\"attributes\":{\"tags\":[\"apply_ranges\"],\"x\":{\"type\":\"field\",\"field\":\"Longitude\"},\"y\":{\"type\":\"field\",\"field\":\"Latitude\"},\"size\":{\"type\":\"value\",\"value\":14.142135623730951},\"angle\":{\"type\":\"value\",\"value\":-0.20379761764021184},\"line_color\":{\"type\":\"value\",\"value\":\"#1f77b4\"},\"line_alpha\":{\"type\":\"value\",\"value\":0.2},\"fill_color\":{\"type\":\"value\",\"value\":\"#1f77b4\"},\"fill_alpha\":{\"type\":\"value\",\"value\":0.2},\"hatch_color\":{\"type\":\"value\",\"value\":\"#1f77b4\"},\"hatch_alpha\":{\"type\":\"value\",\"value\":0.2},\"marker\":{\"type\":\"value\",\"value\":\"triangle\"}}}}}],\"toolbar\":{\"type\":\"object\",\"name\":\"Toolbar\",\"id\":\"p1183\",\"attributes\":{\"tools\":[{\"type\":\"object\",\"name\":\"WheelZoomTool\",\"id\":\"p1152\",\"attributes\":{\"renderers\":\"auto\",\"zoom_on_axis\":false}},{\"type\":\"object\",\"name\":\"BoxZoomTool\",\"id\":\"p1153\",\"attributes\":{\"overlay\":{\"type\":\"object\",\"name\":\"BoxAnnotation\",\"id\":\"p1006\",\"attributes\":{\"syncable\":false,\"level\":\"overlay\",\"visible\":false,\"left\":{\"type\":\"number\",\"value\":\"nan\"},\"right\":{\"type\":\"number\",\"value\":\"nan\"},\"top\":{\"type\":\"number\",\"value\":\"nan\"},\"bottom\":{\"type\":\"number\",\"value\":\"nan\"},\"left_units\":\"canvas\",\"right_units\":\"canvas\",\"top_units\":\"canvas\",\"bottom_units\":\"canvas\",\"line_color\":\"black\",\"line_alpha\":1.0,\"line_width\":2,\"line_dash\":[4,4],\"fill_color\":\"lightgrey\",\"fill_alpha\":0.5}},\"match_aspect\":true}},{\"type\":\"object\",\"name\":\"HoverTool\",\"id\":\"p1173\",\"attributes\":{\"tags\":[\"hv_created\"],\"renderers\":[{\"id\":\"p1235\"}],\"tooltips\":[[\"Longitude\",\"$x{custom}\"],[\"Latitude\",\"$y{custom}\"],[\"triangle_angle\",\"@{triangle_angle}\"]],\"formatters\":{\"type\":\"map\",\"entries\":[[\"$x\",{\"type\":\"object\",\"name\":\"CustomJSHover\",\"id\":\"p1209\",\"attributes\":{\"code\":\"\\n        const projections = Bokeh.require(\\\"core/util/projections\\\");\\n        const {snap_x, snap_y} = special_vars\\n        const coords = projections.wgs84_mercator.invert(snap_x, snap_y)\\n        return \\\"\\\" + (coords[0]).toFixed(4)\\n    \"}}],[\"$y\",{\"type\":\"object\",\"name\":\"CustomJSHover\",\"id\":\"p1210\",\"attributes\":{\"code\":\"\\n        const projections = Bokeh.require(\\\"core/util/projections\\\");\\n        const {snap_x, snap_y} = special_vars\\n        const coords = projections.wgs84_mercator.invert(snap_x, snap_y)\\n        return \\\"\\\" + (coords[1]).toFixed(4)\\n    \"}}]]}}},{\"type\":\"object\",\"name\":\"PanTool\",\"id\":\"p1197\"},{\"type\":\"object\",\"name\":\"ResetTool\",\"id\":\"p1198\"}],\"active_scroll\":{\"id\":\"p1152\"}}},\"left\":[{\"type\":\"object\",\"name\":\"LinearAxis\",\"id\":\"p1191\",\"attributes\":{\"ticker\":{\"type\":\"object\",\"name\":\"MercatorTicker\",\"id\":\"p1201\",\"attributes\":{\"mantissas\":[1,2,5],\"dimension\":\"lat\"}},\"formatter\":{\"type\":\"object\",\"name\":\"MercatorTickFormatter\",\"id\":\"p1202\",\"attributes\":{\"dimension\":\"lat\"}},\"axis_label\":\"Latitude\",\"major_label_policy\":{\"type\":\"object\",\"name\":\"AllLabels\",\"id\":\"p1194\"}}}],\"below\":[{\"type\":\"object\",\"name\":\"LinearAxis\",\"id\":\"p1186\",\"attributes\":{\"ticker\":{\"type\":\"object\",\"name\":\"MercatorTicker\",\"id\":\"p1199\",\"attributes\":{\"mantissas\":[1,2,5],\"dimension\":\"lon\"}},\"formatter\":{\"type\":\"object\",\"name\":\"MercatorTickFormatter\",\"id\":\"p1200\",\"attributes\":{\"dimension\":\"lon\"}},\"axis_label\":\"Longitude\",\"major_label_policy\":{\"type\":\"object\",\"name\":\"AllLabels\",\"id\":\"p1189\"}}}],\"center\":[{\"type\":\"object\",\"name\":\"Grid\",\"id\":\"p1190\",\"attributes\":{\"axis\":{\"id\":\"p1186\"},\"grid_line_color\":null}},{\"type\":\"object\",\"name\":\"Grid\",\"id\":\"p1195\",\"attributes\":{\"dimension\":1,\"axis\":{\"id\":\"p1191\"},\"grid_line_color\":null}}],\"frame_width\":700,\"frame_height\":500,\"min_border_top\":10,\"min_border_bottom\":10,\"min_border_left\":10,\"min_border_right\":10,\"output_backend\":\"webgl\",\"match_aspect\":true}},{\"type\":\"object\",\"name\":\"Spacer\",\"id\":\"p1242\",\"attributes\":{\"name\":\"HSpacer02834\",\"stylesheets\":[\"\\n:host(.pn-loading.pn-arc):before, .pn-loading.pn-arc:before {\\n  background-image: url(\\\"data:image/svg+xml;base64,PHN2ZyB4bWxucz0iaHR0cDovL3d3dy53My5vcmcvMjAwMC9zdmciIHN0eWxlPSJtYXJnaW46IGF1dG87IGJhY2tncm91bmQ6IG5vbmU7IGRpc3BsYXk6IGJsb2NrOyBzaGFwZS1yZW5kZXJpbmc6IGF1dG87IiB2aWV3Qm94PSIwIDAgMTAwIDEwMCIgcHJlc2VydmVBc3BlY3RSYXRpbz0ieE1pZFlNaWQiPiAgPGNpcmNsZSBjeD0iNTAiIGN5PSI1MCIgZmlsbD0ibm9uZSIgc3Ryb2tlPSIjYzNjM2MzIiBzdHJva2Utd2lkdGg9IjEwIiByPSIzNSIgc3Ryb2tlLWRhc2hhcnJheT0iMTY0LjkzMzYxNDMxMzQ2NDE1IDU2Ljk3Nzg3MTQzNzgyMTM4Ij4gICAgPGFuaW1hdGVUcmFuc2Zvcm0gYXR0cmlidXRlTmFtZT0idHJhbnNmb3JtIiB0eXBlPSJyb3RhdGUiIHJlcGVhdENvdW50PSJpbmRlZmluaXRlIiBkdXI9IjFzIiB2YWx1ZXM9IjAgNTAgNTA7MzYwIDUwIDUwIiBrZXlUaW1lcz0iMDsxIj48L2FuaW1hdGVUcmFuc2Zvcm0+ICA8L2NpcmNsZT48L3N2Zz4=\\\");\\n  background-size: auto calc(min(50%, 400px));\\n}\",{\"id\":\"p1134\"},{\"id\":\"p1132\"},{\"id\":\"p1133\"}],\"margin\":0,\"sizing_mode\":\"stretch_width\",\"align\":\"start\"}}]}}],\"defs\":[{\"type\":\"model\",\"name\":\"ReactiveHTML1\"},{\"type\":\"model\",\"name\":\"FlexBox1\",\"properties\":[{\"name\":\"align_content\",\"kind\":\"Any\",\"default\":\"flex-start\"},{\"name\":\"align_items\",\"kind\":\"Any\",\"default\":\"flex-start\"},{\"name\":\"flex_direction\",\"kind\":\"Any\",\"default\":\"row\"},{\"name\":\"flex_wrap\",\"kind\":\"Any\",\"default\":\"wrap\"},{\"name\":\"justify_content\",\"kind\":\"Any\",\"default\":\"flex-start\"}]},{\"type\":\"model\",\"name\":\"FloatPanel1\",\"properties\":[{\"name\":\"config\",\"kind\":\"Any\",\"default\":{\"type\":\"map\"}},{\"name\":\"contained\",\"kind\":\"Any\",\"default\":true},{\"name\":\"position\",\"kind\":\"Any\",\"default\":\"right-top\"},{\"name\":\"offsetx\",\"kind\":\"Any\",\"default\":null},{\"name\":\"offsety\",\"kind\":\"Any\",\"default\":null},{\"name\":\"theme\",\"kind\":\"Any\",\"default\":\"primary\"},{\"name\":\"status\",\"kind\":\"Any\",\"default\":\"normalized\"}]},{\"type\":\"model\",\"name\":\"GridStack1\",\"properties\":[{\"name\":\"mode\",\"kind\":\"Any\",\"default\":\"warn\"},{\"name\":\"ncols\",\"kind\":\"Any\",\"default\":null},{\"name\":\"nrows\",\"kind\":\"Any\",\"default\":null},{\"name\":\"allow_resize\",\"kind\":\"Any\",\"default\":true},{\"name\":\"allow_drag\",\"kind\":\"Any\",\"default\":true},{\"name\":\"state\",\"kind\":\"Any\",\"default\":[]}]},{\"type\":\"model\",\"name\":\"drag1\",\"properties\":[{\"name\":\"slider_width\",\"kind\":\"Any\",\"default\":5},{\"name\":\"slider_color\",\"kind\":\"Any\",\"default\":\"black\"},{\"name\":\"value\",\"kind\":\"Any\",\"default\":50}]},{\"type\":\"model\",\"name\":\"click1\",\"properties\":[{\"name\":\"terminal_output\",\"kind\":\"Any\",\"default\":\"\"},{\"name\":\"debug_name\",\"kind\":\"Any\",\"default\":\"\"},{\"name\":\"clears\",\"kind\":\"Any\",\"default\":0}]},{\"type\":\"model\",\"name\":\"copy_to_clipboard1\",\"properties\":[{\"name\":\"fill\",\"kind\":\"Any\",\"default\":\"none\"},{\"name\":\"value\",\"kind\":\"Any\",\"default\":null}]},{\"type\":\"model\",\"name\":\"FastWrapper1\",\"properties\":[{\"name\":\"object\",\"kind\":\"Any\",\"default\":null},{\"name\":\"style\",\"kind\":\"Any\",\"default\":null}]},{\"type\":\"model\",\"name\":\"NotificationAreaBase1\",\"properties\":[{\"name\":\"js_events\",\"kind\":\"Any\",\"default\":{\"type\":\"map\"}},{\"name\":\"position\",\"kind\":\"Any\",\"default\":\"bottom-right\"},{\"name\":\"_clear\",\"kind\":\"Any\",\"default\":0}]},{\"type\":\"model\",\"name\":\"NotificationArea1\",\"properties\":[{\"name\":\"js_events\",\"kind\":\"Any\",\"default\":{\"type\":\"map\"}},{\"name\":\"notifications\",\"kind\":\"Any\",\"default\":[]},{\"name\":\"position\",\"kind\":\"Any\",\"default\":\"bottom-right\"},{\"name\":\"_clear\",\"kind\":\"Any\",\"default\":0},{\"name\":\"types\",\"kind\":\"Any\",\"default\":[{\"type\":\"map\",\"entries\":[[\"type\",\"warning\"],[\"background\",\"#ffc107\"],[\"icon\",{\"type\":\"map\",\"entries\":[[\"className\",\"fas fa-exclamation-triangle\"],[\"tagName\",\"i\"],[\"color\",\"white\"]]}]]},{\"type\":\"map\",\"entries\":[[\"type\",\"info\"],[\"background\",\"#007bff\"],[\"icon\",{\"type\":\"map\",\"entries\":[[\"className\",\"fas fa-info-circle\"],[\"tagName\",\"i\"],[\"color\",\"white\"]]}]]}]}]},{\"type\":\"model\",\"name\":\"Notification\",\"properties\":[{\"name\":\"background\",\"kind\":\"Any\",\"default\":null},{\"name\":\"duration\",\"kind\":\"Any\",\"default\":3000},{\"name\":\"icon\",\"kind\":\"Any\",\"default\":null},{\"name\":\"message\",\"kind\":\"Any\",\"default\":\"\"},{\"name\":\"notification_type\",\"kind\":\"Any\",\"default\":null},{\"name\":\"_destroyed\",\"kind\":\"Any\",\"default\":false}]},{\"type\":\"model\",\"name\":\"TemplateActions1\",\"properties\":[{\"name\":\"open_modal\",\"kind\":\"Any\",\"default\":0},{\"name\":\"close_modal\",\"kind\":\"Any\",\"default\":0}]},{\"type\":\"model\",\"name\":\"BootstrapTemplateActions1\",\"properties\":[{\"name\":\"open_modal\",\"kind\":\"Any\",\"default\":0},{\"name\":\"close_modal\",\"kind\":\"Any\",\"default\":0}]},{\"type\":\"model\",\"name\":\"MaterialTemplateActions1\",\"properties\":[{\"name\":\"open_modal\",\"kind\":\"Any\",\"default\":0},{\"name\":\"close_modal\",\"kind\":\"Any\",\"default\":0}]}]}};\n",
       "  var render_items = [{\"docid\":\"90b6537e-8266-46e8-a34a-76b9ec41f105\",\"roots\":{\"p1131\":\"f2fdfba2-b384-486b-baf5-b4a84f661fd6\"},\"root_ids\":[\"p1131\"]}];\n",
       "  var docs = Object.values(docs_json)\n",
       "  if (!docs) {\n",
       "    return\n",
       "  }\n",
       "  const py_version = docs[0].version.replace('rc', '-rc.').replace('.dev', '-dev.')\n",
       "  function embed_document(root) {\n",
       "    var Bokeh = get_bokeh(root)\n",
       "    Bokeh.embed.embed_items_notebook(docs_json, render_items);\n",
       "    for (const render_item of render_items) {\n",
       "      for (const root_id of render_item.root_ids) {\n",
       "\tconst id_el = document.getElementById(root_id)\n",
       "\tif (id_el.children.length && (id_el.children[0].className === 'bk-root')) {\n",
       "\t  const root_el = id_el.children[0]\n",
       "\t  root_el.id = root_el.id + '-rendered'\n",
       "\t}\n",
       "      }\n",
       "    }\n",
       "  }\n",
       "  function get_bokeh(root) {\n",
       "    if (root.Bokeh === undefined) {\n",
       "      return null\n",
       "    } else if (root.Bokeh.version !== py_version) {\n",
       "      if (root.Bokeh.versions === undefined || !root.Bokeh.versions.has(py_version)) {\n",
       "\treturn null\n",
       "      }\n",
       "      return root.Bokeh.versions.get(py_version);\n",
       "    } else if (root.Bokeh.version === py_version) {\n",
       "      return root.Bokeh\n",
       "    }\n",
       "    return null\n",
       "  }\n",
       "  function is_loaded(root) {\n",
       "    var Bokeh = get_bokeh(root)\n",
       "    return (Bokeh != null && Bokeh.Panel !== undefined)\n",
       "  }\n",
       "  if (is_loaded(root)) {\n",
       "    embed_document(root);\n",
       "  } else {\n",
       "    var attempts = 0;\n",
       "    var timer = setInterval(function(root) {\n",
       "      if (is_loaded(root)) {\n",
       "        clearInterval(timer);\n",
       "        embed_document(root);\n",
       "      } else if (document.readyState == \"complete\") {\n",
       "        attempts++;\n",
       "        if (attempts > 200) {\n",
       "          clearInterval(timer);\n",
       "\t  var Bokeh = get_bokeh(root)\n",
       "\t  if (Bokeh == null || Bokeh.Panel == null) {\n",
       "            console.warn(\"Panel: ERROR: Unable to run Panel code because Bokeh or Panel library is missing\");\n",
       "\t  } else {\n",
       "\t    console.warn(\"Panel: WARNING: Attempting to render but not all required libraries could be resolved.\")\n",
       "\t    embed_document(root)\n",
       "\t  }\n",
       "        }\n",
       "      }\n",
       "    }, 25, root)\n",
       "  }\n",
       "})(window);</script>"
      ],
      "text/plain": [
       ":Overlay\n",
       "   .WMTS.I   :WMTS   [Longitude,Latitude]\n",
       "   .Path.I   :Path   [Longitude,Latitude]\n",
       "   .Points.I :Points   [Longitude,Latitude]   (triangle_angle)"
      ]
     },
     "execution_count": 256,
     "metadata": {
      "application/vnd.holoviews_exec.v0+json": {
       "id": "p1131"
      }
     },
     "output_type": "execute_result"
    }
   ],
   "source": [
    "my_traj.hvplot(title='Ship DEBBIE', frame_width=700, frame_height=500, line_width=5.0, cmap='Dark2') "
   ]
  },
  {
   "cell_type": "markdown",
   "metadata": {},
   "source": [
    "Ως επέκταση του προηγούμενου ερωτήματος που θέσαμε σχετικά με το ποσοστό των πλοίων που δεν διαθέτουν IMO αριθμό θα προβούμε στην κατασκευή ενός γραφήματος διασποράς.\n"
   ]
  },
  {
   "cell_type": "markdown",
   "metadata": {},
   "source": [
    "Το γράφημα θα περιέχει ως dataframe μονο τα πλοία εκείνα που δεν έχουν αριθμό IMO με σκοπό την οπτικοποίηση τους σε χάρτη, βάσει του γεωγραφικού μήκους και πλάτους."
   ]
  },
  {
   "cell_type": "markdown",
   "metadata": {},
   "source": [
    "Ένα ακόμη γνώρισμα που θα έχουν θα είναι ο τύπος του κάθε πλοίου.\n",
    "Υπενθυμίζοντας ότι:"
   ]
  },
  {
   "cell_type": "markdown",
   "metadata": {},
   "source": [
    "<style>\n",
    "Shipso { border:1px solid #C0C0C0; border-collapse:collapse; padding:5px; }\n",
    "Shipsmo th { border:1px solid #C0C0C0; padding:5px; background:#F0F0F0;}Shipsemo td { border:1px solid #C0C0C0; padding:5px;}\n",
    "</style>\n",
    "\n",
    "<table class=\"Ships\">\n",
    "<thead>\n",
    "    <tr>\n",
    "        <th>Type</th>\n",
    "        <th>Description</th>\n",
    "    </tr>\n",
    "    </thead>\n",
    "    <tbody>\n",
    "    <tr>\n",
    "        <td>0</td>\n",
    "        <td>default</td>\n",
    "    </tr>\n",
    "    <tr>\n",
    "        <td>31</td>\n",
    "        <td>Towing</td>\n",
    "    </tr>\n",
    "    <tr>\n",
    "        <td>33</td>\n",
    "        <td>Dredging</td>\n",
    "    </tr>\n",
    "    <tr>\n",
    "        <td>34</td>\n",
    "        <td>Diving</td>\n",
    "    </tr>\n",
    "    <tr>\n",
    "        <td>35</td>\n",
    "        <td>Military</td>\n",
    "    </tr>\n",
    "    <tr>\n",
    "        <td>37</td>\n",
    "        <td>Pleasure</td>\n",
    "    </tr>\n",
    "    <tr>\n",
    "        <td>40</td>\n",
    "        <td>HighSpeedCraft (HSC)</td>\n",
    "    </tr>\n",
    "    <tr>\n",
    "        <td>50</td>\n",
    "        <td>Pilot</td>\n",
    "    </tr>\n",
    "    <tr>\n",
    "        <td>51</td>\n",
    "        <td>SAR</td>\n",
    "    </tr>\n",
    "    <tr>\n",
    "        <td>52</td>\n",
    "        <td>Tug</td>\n",
    "    </tr>\n",
    "    <tr>\n",
    "        <td>59</td>\n",
    "        <td>Noncombatant</td>\n",
    "    </tr>\n",
    "    <tr>\n",
    "        <td>60</td>\n",
    "        <td>Passenger</td>\n",
    "    </tr>\n",
    "    <tr>\n",
    "        <td>68</td>\n",
    "        <td>Passenger Reserved for future us</td>\n",
    "    </tr>\n",
    "    <tr>\n",
    "        <td>69</td>\n",
    "        <td>Passenger No additional information</td>\n",
    "    </tr>\n",
    "    <tr>\n",
    "        <td>70</td>\n",
    "        <td>Cargo all ships of this type</td>\n",
    "    </tr>\n",
    "    <tr>\n",
    "        <td>71</td>\n",
    "        <td>Cargo Hazardous category A</td>\n",
    "    </tr>\n",
    "    <tr>\n",
    "        <td>79</td>\n",
    "        <td>Cargo No additional information</td>\n",
    "    </tr>\n",
    "    <tr>\n",
    "        <td>80</td>\n",
    "        <td>Tanker all ships of this type</td>\n",
    "    </tr>\n",
    "    <tr>\n",
    "        <td>82</td>\n",
    "        <td>Tanker Hazardous category B</td>\n",
    "    </tr>\n",
    "    <tr>\n",
    "        <td>89</td>\n",
    "        <td>Tanker No additional information</td>\n",
    "    </tr>\n",
    "    <tr>\n",
    "        <td>90</td>\n",
    "        <td>Other Type all ships of this type</td>\n",
    "    </tr>\n",
    "    <tr>\n",
    "        <td>91</td>\n",
    "        <td>Other Type Hazardous category A</td>\n",
    "    </tr>\n",
    "    <tr>\n",
    "        <td>92</td>\n",
    "        <td>Other Type Hazardous category B</td>\n",
    "    </tr>\n",
    "    <tr>\n",
    "        <td>99</td>\n",
    "        <td>Other Type no additional information</td>\n",
    "    </tr>\n",
    "    </tbody>\n",
    "</table>"
   ]
  },
  {
   "cell_type": "code",
   "execution_count": 257,
   "metadata": {},
   "outputs": [
    {
     "data": {
      "application/vnd.plotly.v1+json": {
       "config": {
        "plotlyServerURL": "https://plot.ly"
       },
       "data": [
        {
         "geo": "geo",
         "hovertemplate": "latitude=%{lat}<br>longitude=%{lon}<br>Type=%{marker.color}<extra></extra>",
         "lat": [
          31.83075,
          34.66532666666667,
          34.665240000000004,
          31.831316666666662,
          34.6451,
          34.65228333333334,
          31.831241666666664,
          36.62475,
          31.830741666666665,
          34.665345,
          34.665240000000004,
          34.66446833333334,
          31.642125,
          34.64508333333333,
          34.65228333333334,
          31.831231666666667,
          36.62475166666666,
          31.830741666666665,
          34.66538666666667,
          34.66523666666667,
          34.64508333333333,
          34.65193333333333,
          31.83110333333333,
          36.62477333333333,
          31.83076833333333,
          34.665355,
          34.665243333333336,
          34.66446833333334,
          34.64506666666667,
          34.65161666666667,
          31.831085,
          36.62477666666667,
          31.830766666666666,
          34.66538333333333,
          34.665263333333336,
          34.664476666666665,
          34.645133333333334,
          34.649300000000004,
          31.83122333333333,
          31.830766666666666,
          34.66538833333333,
          34.665256666666664,
          34.664476666666665,
          34.645,
          34.652816666666666,
          31.831206666666667,
          36.62477,
          31.830765,
          34.66538,
          34.665243333333336,
          34.64508333333333,
          34.65331666666667,
          31.831206666666667,
          34.64764,
          34.66486999999999,
          36.62479166666667,
          34.490791666666674,
          34.6484,
          34.72184166666667,
          34.645355,
          34.64612,
          34.665441666666666,
          34.702715,
          34.697615000000006,
          34.6699,
          34.64507666666667,
          34.65245166666667,
          31.83076833333333,
          34.665353333333336,
          34.66525,
          34.645026666666666,
          34.66446,
          34.68783166666666,
          34.666715,
          34.70418166666666,
          34.671235,
          34.64508,
          34.64511666666667,
          34.69681666666667,
          34.678781666666666,
          34.63641666666667,
          31.831206666666667,
          36.62476,
          31.830761666666668,
          34.66536166666666,
          34.66524833333334,
          34.66446666666666,
          34.645133333333334,
          34.6132,
          31.831206666666667,
          36.624768333333336,
          34.665366666666664,
          34.66524833333334,
          34.644935000000004,
          34.664480000000005,
          34.687866666666665,
          34.66670166666667,
          34.70418166666666,
          34.645086666666664,
          31.642136666666666,
          34.64506666666667,
          34.6666,
          34.71846,
          34.58995,
          31.831206666666667,
          36.62475666666667,
          34.665345,
          34.66524666666667,
          34.664451666666665,
          34.70418166666666,
          34.67116,
          34.64508333333333,
          34.69735,
          34.679536666666664,
          34.66658333333333,
          34.7185,
          34.718576666666664,
          34.673565,
          34.64522,
          34.718335,
          34.64626333333333,
          34.56831666666667,
          31.831206666666667,
          34.64507166666667,
          34.541396666666664,
          36.624765,
          34.72183666666667,
          34.673496666666665,
          34.64537,
          34.677205,
          34.64741,
          34.646125,
          34.70267,
          34.641753333333334,
          34.6698,
          34.645104999999994,
          31.830756666666662,
          34.66535,
          34.66524666666667,
          34.68793166666667,
          34.66664,
          34.66446666666666,
          34.655031666666666,
          34.7043,
          34.6714,
          31.642145000000003,
          34.6451,
          34.696533333333335,
          34.718525,
          34.718375,
          34.546315,
          31.831206666666667,
          34.66885166666667,
          34.66673166666667,
          34.664895,
          34.645075,
          34.550111666666666,
          34.647481666666664,
          34.673541666666665,
          34.677413333333334,
          34.64741,
          34.70267,
          31.830751666666668,
          34.645775,
          34.665391666666665,
          34.665245,
          34.666664999999995,
          34.68797,
          34.664456666666666,
          34.65502166666667,
          34.64508333333333,
          34.69665,
          34.71846666666667,
          34.646206666666664,
          31.831206666666667,
          34.55623833333333,
          36.62475166666666,
          34.64509833333333,
          34.67347666666667,
          34.67724833333333,
          34.64612,
          34.702695,
          34.627215,
          31.830751666666668,
          34.665411666666664,
          34.66524666666667,
          34.64499,
          34.66446,
          34.671483333333335,
          34.645135,
          31.642131666666668,
          34.64506666666667,
          34.69743166666667,
          31.831206666666667,
          34.66888666666667,
          36.62474,
          34.64738,
          34.630903333333336,
          34.669783333333335,
          34.65246833333333,
          31.830751666666668,
          34.66537166666667,
          34.66524666666667,
          34.644998333333334,
          34.66444833333333,
          34.666645,
          34.6451,
          34.697064999999995,
          34.679545,
          34.644998333333334,
          34.71847666666667,
          34.71836166666667,
          31.831206666666667,
          34.664875,
          34.572845,
          36.62476166666667,
          34.673365,
          34.64747,
          34.646125,
          34.6654,
          31.83075333333333,
          34.665368333333326,
          34.66524666666667,
          34.68797,
          34.655,
          34.70429,
          31.642106666666667,
          34.6451,
          34.69643166666666,
          34.647648333333336,
          34.71846,
          34.646253333333334,
          34.45398333333333,
          31.831206666666667,
          34.670836666666666,
          34.66486999999999
         ],
         "legendgroup": "",
         "lon": [
          34.641645000000004,
          33.041781666666665,
          33.041335,
          34.63992666666666,
          33.01425,
          33.02276666666667,
          34.63995,
          29.10369833333333,
          34.64165,
          33.04178666666667,
          33.04132833333333,
          33.02969,
          34.53113,
          33.01425,
          33.02276666666667,
          34.639995,
          29.103701666666662,
          34.64165166666667,
          33.041745,
          33.041335,
          33.014266666666664,
          33.02256666666667,
          34.640051666666665,
          29.1037,
          34.64164666666667,
          33.04174666666667,
          33.041338333333336,
          33.029693333333334,
          33.014266666666664,
          33.02268333333333,
          34.640076666666666,
          29.10370333333333,
          34.64164166666667,
          33.041758333333334,
          33.041338333333336,
          33.029693333333334,
          33.014266666666664,
          33.0232,
          34.63999666666667,
          34.64164,
          33.04174833333333,
          33.041335,
          33.029693333333334,
          33.01416666666667,
          33.03446666666667,
          34.640011666666666,
          29.10371,
          34.641643333333334,
          33.04176833333334,
          33.041333333333334,
          33.01425,
          33.05146666666666,
          34.640011666666666,
          33.013255,
          33.03999666666667,
          29.103715,
          33.33844,
          33.01609,
          33.30587666666666,
          33.010345,
          33.0079,
          33.042,
          33.35773,
          33.33651,
          33.0585,
          33.00900333333333,
          33.016776666666665,
          34.641655,
          33.041765000000005,
          33.041331666666665,
          33.009888333333336,
          33.02967666666667,
          33.347465,
          33.040215,
          33.34719,
          33.07646833333333,
          33.017810000000004,
          33.01428333333333,
          33.36083333333333,
          33.06872,
          33.06998333333333,
          34.640011666666666,
          29.103711666666666,
          34.64166,
          33.041788333333336,
          33.041336666666666,
          33.02970333333334,
          33.0143,
          33.099666666666664,
          34.640011666666666,
          29.10371,
          33.04176666666667,
          33.041338333333336,
          33.009834999999995,
          33.029691666666665,
          33.347366666666666,
          33.040175,
          33.34719,
          33.01777333333333,
          34.53113,
          33.014266666666664,
          33.04286333333333,
          33.31764,
          33.13125,
          34.640011666666666,
          29.103708333333334,
          33.041775,
          33.04134166666667,
          33.02969,
          33.34719,
          33.07675,
          33.01428333333333,
          33.360483333333335,
          33.070008333333334,
          33.042856666666665,
          33.317635,
          33.31847166666667,
          33.066365,
          33.009143333333334,
          33.318275,
          33.021858333333334,
          33.15833333333333,
          34.640011666666666,
          33.00987166666667,
          33.239995,
          29.10370333333333,
          33.305879999999995,
          33.06641,
          33.01036,
          33.063341666666666,
          33.02330166666667,
          33.007905,
          33.357890000000005,
          33.33298,
          33.05895,
          33.009045,
          34.64165666666667,
          33.041805,
          33.04134333333334,
          33.34735166666667,
          33.040145,
          33.02968333333333,
          33.021285,
          33.347161666666665,
          33.07717666666667,
          34.531126666666665,
          33.01428333333333,
          33.36103333333333,
          33.317645,
          33.31827166666667,
          33.188781666666664,
          34.640011666666666,
          33.051945,
          33.07846666666667,
          33.040005,
          33.00987166666667,
          33.22708,
          33.01323,
          33.066395,
          33.06330166666667,
          33.02327833333333,
          33.357890000000005,
          34.64165666666667,
          33.00764,
          33.041821666666664,
          33.041345,
          33.04017,
          33.34724666666667,
          33.02970166666667,
          33.021296666666665,
          33.014266666666664,
          33.361000000000004,
          33.317636666666665,
          33.021861666666666,
          34.640011666666666,
          33.21649166666666,
          29.10371333333333,
          33.00905166666667,
          33.066425,
          33.06331333333333,
          33.007905,
          33.357815,
          33.297985000000004,
          34.641655,
          33.04182333333333,
          33.041336666666666,
          33.009935,
          33.02968,
          33.077261666666665,
          33.01779666666667,
          34.53111833333333,
          33.01425,
          33.36045,
          34.640011666666666,
          33.05184333333333,
          29.103711666666666,
          33.02325333333333,
          33.27683,
          33.05895,
          33.016780000000004,
          34.641655,
          33.04179,
          33.04134166666667,
          33.00991333333334,
          33.02967,
          33.040165,
          33.01428333333333,
          33.360715,
          33.069988333333335,
          33.00991333333334,
          33.31767,
          33.31823,
          34.640011666666666,
          33.04,
          33.186775,
          29.103715,
          33.06644,
          33.01325166666667,
          33.00790333333334,
          33.042025,
          34.64165333333334,
          33.041821666666664,
          33.04134166666667,
          33.3473,
          33.02129,
          33.347145,
          34.531045,
          33.014266666666664,
          33.361215,
          33.01323,
          33.31764,
          33.021863333333336,
          33.29938333333333,
          34.640011666666666,
          33.077081666666665,
          33.04
         ],
         "marker": {
          "color": [
           50,
           37,
           37,
           0,
           90,
           35,
           0,
           51,
           50,
           37,
           37,
           0,
           0,
           90,
           35,
           0,
           51,
           50,
           37,
           37,
           90,
           35,
           0,
           51,
           50,
           37,
           37,
           0,
           90,
           35,
           0,
           51,
           50,
           37,
           37,
           0,
           90,
           35,
           0,
           50,
           37,
           37,
           0,
           90,
           35,
           0,
           51,
           50,
           37,
           37,
           90,
           35,
           0,
           80,
           0,
           51,
           80,
           0,
           31,
           0,
           0,
           0,
           80,
           80,
           90,
           0,
           34,
           50,
           0,
           0,
           52,
           0,
           80,
           0,
           80,
           70,
           52,
           90,
           0,
           80,
           35,
           0,
           51,
           50,
           37,
           37,
           0,
           90,
           35,
           0,
           51,
           37,
           37,
           52,
           0,
           80,
           0,
           80,
           52,
           0,
           90,
           0,
           70,
           35,
           0,
           51,
           37,
           37,
           0,
           80,
           70,
           90,
           0,
           80,
           37,
           70,
           52,
           31,
           52,
           52,
           52,
           35,
           0,
           52,
           52,
           51,
           31,
           31,
           0,
           0,
           90,
           0,
           80,
           80,
           90,
           0,
           50,
           37,
           37,
           80,
           0,
           0,
           52,
           80,
           70,
           0,
           90,
           0,
           70,
           52,
           35,
           0,
           52,
           0,
           0,
           52,
           52,
           80,
           31,
           0,
           90,
           80,
           50,
           0,
           37,
           37,
           0,
           80,
           0,
           52,
           90,
           0,
           70,
           52,
           0,
           52,
           51,
           0,
           31,
           0,
           0,
           80,
           80,
           50,
           37,
           0,
           52,
           0,
           70,
           52,
           0,
           90,
           0,
           0,
           52,
           51,
           90,
           80,
           90,
           34,
           50,
           37,
           37,
           52,
           0,
           0,
           90,
           0,
           80,
           52,
           70,
           52,
           0,
           0,
           52,
           51,
           31,
           80,
           0,
           0,
           50,
           37,
           37,
           80,
           52,
           80,
           0,
           90,
           0,
           0,
           70,
           52,
           35,
           0,
           70,
           0
          ],
          "coloraxis": "coloraxis",
          "symbol": "circle"
         },
         "mode": "markers",
         "name": "",
         "showlegend": false,
         "type": "scattergeo"
        }
       ],
       "layout": {
        "coloraxis": {
         "colorbar": {
          "title": {
           "text": "Type"
          }
         },
         "colorscale": [
          [
           0,
           "#0d0887"
          ],
          [
           0.1111111111111111,
           "#46039f"
          ],
          [
           0.2222222222222222,
           "#7201a8"
          ],
          [
           0.3333333333333333,
           "#9c179e"
          ],
          [
           0.4444444444444444,
           "#bd3786"
          ],
          [
           0.5555555555555556,
           "#d8576b"
          ],
          [
           0.6666666666666666,
           "#ed7953"
          ],
          [
           0.7777777777777778,
           "#fb9f3a"
          ],
          [
           0.8888888888888888,
           "#fdca26"
          ],
          [
           1,
           "#f0f921"
          ]
         ]
        },
        "geo": {
         "center": {},
         "domain": {
          "x": [
           0,
           1
          ],
          "y": [
           0,
           1
          ]
         }
        },
        "height": 1000,
        "legend": {
         "tracegroupgap": 0
        },
        "template": {
         "data": {
          "bar": [
           {
            "error_x": {
             "color": "#2a3f5f"
            },
            "error_y": {
             "color": "#2a3f5f"
            },
            "marker": {
             "line": {
              "color": "#E5ECF6",
              "width": 0.5
             },
             "pattern": {
              "fillmode": "overlay",
              "size": 10,
              "solidity": 0.2
             }
            },
            "type": "bar"
           }
          ],
          "barpolar": [
           {
            "marker": {
             "line": {
              "color": "#E5ECF6",
              "width": 0.5
             },
             "pattern": {
              "fillmode": "overlay",
              "size": 10,
              "solidity": 0.2
             }
            },
            "type": "barpolar"
           }
          ],
          "carpet": [
           {
            "aaxis": {
             "endlinecolor": "#2a3f5f",
             "gridcolor": "white",
             "linecolor": "white",
             "minorgridcolor": "white",
             "startlinecolor": "#2a3f5f"
            },
            "baxis": {
             "endlinecolor": "#2a3f5f",
             "gridcolor": "white",
             "linecolor": "white",
             "minorgridcolor": "white",
             "startlinecolor": "#2a3f5f"
            },
            "type": "carpet"
           }
          ],
          "choropleth": [
           {
            "colorbar": {
             "outlinewidth": 0,
             "ticks": ""
            },
            "type": "choropleth"
           }
          ],
          "contour": [
           {
            "colorbar": {
             "outlinewidth": 0,
             "ticks": ""
            },
            "colorscale": [
             [
              0,
              "#0d0887"
             ],
             [
              0.1111111111111111,
              "#46039f"
             ],
             [
              0.2222222222222222,
              "#7201a8"
             ],
             [
              0.3333333333333333,
              "#9c179e"
             ],
             [
              0.4444444444444444,
              "#bd3786"
             ],
             [
              0.5555555555555556,
              "#d8576b"
             ],
             [
              0.6666666666666666,
              "#ed7953"
             ],
             [
              0.7777777777777778,
              "#fb9f3a"
             ],
             [
              0.8888888888888888,
              "#fdca26"
             ],
             [
              1,
              "#f0f921"
             ]
            ],
            "type": "contour"
           }
          ],
          "contourcarpet": [
           {
            "colorbar": {
             "outlinewidth": 0,
             "ticks": ""
            },
            "type": "contourcarpet"
           }
          ],
          "heatmap": [
           {
            "colorbar": {
             "outlinewidth": 0,
             "ticks": ""
            },
            "colorscale": [
             [
              0,
              "#0d0887"
             ],
             [
              0.1111111111111111,
              "#46039f"
             ],
             [
              0.2222222222222222,
              "#7201a8"
             ],
             [
              0.3333333333333333,
              "#9c179e"
             ],
             [
              0.4444444444444444,
              "#bd3786"
             ],
             [
              0.5555555555555556,
              "#d8576b"
             ],
             [
              0.6666666666666666,
              "#ed7953"
             ],
             [
              0.7777777777777778,
              "#fb9f3a"
             ],
             [
              0.8888888888888888,
              "#fdca26"
             ],
             [
              1,
              "#f0f921"
             ]
            ],
            "type": "heatmap"
           }
          ],
          "heatmapgl": [
           {
            "colorbar": {
             "outlinewidth": 0,
             "ticks": ""
            },
            "colorscale": [
             [
              0,
              "#0d0887"
             ],
             [
              0.1111111111111111,
              "#46039f"
             ],
             [
              0.2222222222222222,
              "#7201a8"
             ],
             [
              0.3333333333333333,
              "#9c179e"
             ],
             [
              0.4444444444444444,
              "#bd3786"
             ],
             [
              0.5555555555555556,
              "#d8576b"
             ],
             [
              0.6666666666666666,
              "#ed7953"
             ],
             [
              0.7777777777777778,
              "#fb9f3a"
             ],
             [
              0.8888888888888888,
              "#fdca26"
             ],
             [
              1,
              "#f0f921"
             ]
            ],
            "type": "heatmapgl"
           }
          ],
          "histogram": [
           {
            "marker": {
             "pattern": {
              "fillmode": "overlay",
              "size": 10,
              "solidity": 0.2
             }
            },
            "type": "histogram"
           }
          ],
          "histogram2d": [
           {
            "colorbar": {
             "outlinewidth": 0,
             "ticks": ""
            },
            "colorscale": [
             [
              0,
              "#0d0887"
             ],
             [
              0.1111111111111111,
              "#46039f"
             ],
             [
              0.2222222222222222,
              "#7201a8"
             ],
             [
              0.3333333333333333,
              "#9c179e"
             ],
             [
              0.4444444444444444,
              "#bd3786"
             ],
             [
              0.5555555555555556,
              "#d8576b"
             ],
             [
              0.6666666666666666,
              "#ed7953"
             ],
             [
              0.7777777777777778,
              "#fb9f3a"
             ],
             [
              0.8888888888888888,
              "#fdca26"
             ],
             [
              1,
              "#f0f921"
             ]
            ],
            "type": "histogram2d"
           }
          ],
          "histogram2dcontour": [
           {
            "colorbar": {
             "outlinewidth": 0,
             "ticks": ""
            },
            "colorscale": [
             [
              0,
              "#0d0887"
             ],
             [
              0.1111111111111111,
              "#46039f"
             ],
             [
              0.2222222222222222,
              "#7201a8"
             ],
             [
              0.3333333333333333,
              "#9c179e"
             ],
             [
              0.4444444444444444,
              "#bd3786"
             ],
             [
              0.5555555555555556,
              "#d8576b"
             ],
             [
              0.6666666666666666,
              "#ed7953"
             ],
             [
              0.7777777777777778,
              "#fb9f3a"
             ],
             [
              0.8888888888888888,
              "#fdca26"
             ],
             [
              1,
              "#f0f921"
             ]
            ],
            "type": "histogram2dcontour"
           }
          ],
          "mesh3d": [
           {
            "colorbar": {
             "outlinewidth": 0,
             "ticks": ""
            },
            "type": "mesh3d"
           }
          ],
          "parcoords": [
           {
            "line": {
             "colorbar": {
              "outlinewidth": 0,
              "ticks": ""
             }
            },
            "type": "parcoords"
           }
          ],
          "pie": [
           {
            "automargin": true,
            "type": "pie"
           }
          ],
          "scatter": [
           {
            "fillpattern": {
             "fillmode": "overlay",
             "size": 10,
             "solidity": 0.2
            },
            "type": "scatter"
           }
          ],
          "scatter3d": [
           {
            "line": {
             "colorbar": {
              "outlinewidth": 0,
              "ticks": ""
             }
            },
            "marker": {
             "colorbar": {
              "outlinewidth": 0,
              "ticks": ""
             }
            },
            "type": "scatter3d"
           }
          ],
          "scattercarpet": [
           {
            "marker": {
             "colorbar": {
              "outlinewidth": 0,
              "ticks": ""
             }
            },
            "type": "scattercarpet"
           }
          ],
          "scattergeo": [
           {
            "marker": {
             "colorbar": {
              "outlinewidth": 0,
              "ticks": ""
             }
            },
            "type": "scattergeo"
           }
          ],
          "scattergl": [
           {
            "marker": {
             "colorbar": {
              "outlinewidth": 0,
              "ticks": ""
             }
            },
            "type": "scattergl"
           }
          ],
          "scattermapbox": [
           {
            "marker": {
             "colorbar": {
              "outlinewidth": 0,
              "ticks": ""
             }
            },
            "type": "scattermapbox"
           }
          ],
          "scatterpolar": [
           {
            "marker": {
             "colorbar": {
              "outlinewidth": 0,
              "ticks": ""
             }
            },
            "type": "scatterpolar"
           }
          ],
          "scatterpolargl": [
           {
            "marker": {
             "colorbar": {
              "outlinewidth": 0,
              "ticks": ""
             }
            },
            "type": "scatterpolargl"
           }
          ],
          "scatterternary": [
           {
            "marker": {
             "colorbar": {
              "outlinewidth": 0,
              "ticks": ""
             }
            },
            "type": "scatterternary"
           }
          ],
          "surface": [
           {
            "colorbar": {
             "outlinewidth": 0,
             "ticks": ""
            },
            "colorscale": [
             [
              0,
              "#0d0887"
             ],
             [
              0.1111111111111111,
              "#46039f"
             ],
             [
              0.2222222222222222,
              "#7201a8"
             ],
             [
              0.3333333333333333,
              "#9c179e"
             ],
             [
              0.4444444444444444,
              "#bd3786"
             ],
             [
              0.5555555555555556,
              "#d8576b"
             ],
             [
              0.6666666666666666,
              "#ed7953"
             ],
             [
              0.7777777777777778,
              "#fb9f3a"
             ],
             [
              0.8888888888888888,
              "#fdca26"
             ],
             [
              1,
              "#f0f921"
             ]
            ],
            "type": "surface"
           }
          ],
          "table": [
           {
            "cells": {
             "fill": {
              "color": "#EBF0F8"
             },
             "line": {
              "color": "white"
             }
            },
            "header": {
             "fill": {
              "color": "#C8D4E3"
             },
             "line": {
              "color": "white"
             }
            },
            "type": "table"
           }
          ]
         },
         "layout": {
          "annotationdefaults": {
           "arrowcolor": "#2a3f5f",
           "arrowhead": 0,
           "arrowwidth": 1
          },
          "autotypenumbers": "strict",
          "coloraxis": {
           "colorbar": {
            "outlinewidth": 0,
            "ticks": ""
           }
          },
          "colorscale": {
           "diverging": [
            [
             0,
             "#8e0152"
            ],
            [
             0.1,
             "#c51b7d"
            ],
            [
             0.2,
             "#de77ae"
            ],
            [
             0.3,
             "#f1b6da"
            ],
            [
             0.4,
             "#fde0ef"
            ],
            [
             0.5,
             "#f7f7f7"
            ],
            [
             0.6,
             "#e6f5d0"
            ],
            [
             0.7,
             "#b8e186"
            ],
            [
             0.8,
             "#7fbc41"
            ],
            [
             0.9,
             "#4d9221"
            ],
            [
             1,
             "#276419"
            ]
           ],
           "sequential": [
            [
             0,
             "#0d0887"
            ],
            [
             0.1111111111111111,
             "#46039f"
            ],
            [
             0.2222222222222222,
             "#7201a8"
            ],
            [
             0.3333333333333333,
             "#9c179e"
            ],
            [
             0.4444444444444444,
             "#bd3786"
            ],
            [
             0.5555555555555556,
             "#d8576b"
            ],
            [
             0.6666666666666666,
             "#ed7953"
            ],
            [
             0.7777777777777778,
             "#fb9f3a"
            ],
            [
             0.8888888888888888,
             "#fdca26"
            ],
            [
             1,
             "#f0f921"
            ]
           ],
           "sequentialminus": [
            [
             0,
             "#0d0887"
            ],
            [
             0.1111111111111111,
             "#46039f"
            ],
            [
             0.2222222222222222,
             "#7201a8"
            ],
            [
             0.3333333333333333,
             "#9c179e"
            ],
            [
             0.4444444444444444,
             "#bd3786"
            ],
            [
             0.5555555555555556,
             "#d8576b"
            ],
            [
             0.6666666666666666,
             "#ed7953"
            ],
            [
             0.7777777777777778,
             "#fb9f3a"
            ],
            [
             0.8888888888888888,
             "#fdca26"
            ],
            [
             1,
             "#f0f921"
            ]
           ]
          },
          "colorway": [
           "#636efa",
           "#EF553B",
           "#00cc96",
           "#ab63fa",
           "#FFA15A",
           "#19d3f3",
           "#FF6692",
           "#B6E880",
           "#FF97FF",
           "#FECB52"
          ],
          "font": {
           "color": "#2a3f5f"
          },
          "geo": {
           "bgcolor": "white",
           "lakecolor": "white",
           "landcolor": "#E5ECF6",
           "showlakes": true,
           "showland": true,
           "subunitcolor": "white"
          },
          "hoverlabel": {
           "align": "left"
          },
          "hovermode": "closest",
          "mapbox": {
           "style": "light"
          },
          "paper_bgcolor": "white",
          "plot_bgcolor": "#E5ECF6",
          "polar": {
           "angularaxis": {
            "gridcolor": "white",
            "linecolor": "white",
            "ticks": ""
           },
           "bgcolor": "#E5ECF6",
           "radialaxis": {
            "gridcolor": "white",
            "linecolor": "white",
            "ticks": ""
           }
          },
          "scene": {
           "xaxis": {
            "backgroundcolor": "#E5ECF6",
            "gridcolor": "white",
            "gridwidth": 2,
            "linecolor": "white",
            "showbackground": true,
            "ticks": "",
            "zerolinecolor": "white"
           },
           "yaxis": {
            "backgroundcolor": "#E5ECF6",
            "gridcolor": "white",
            "gridwidth": 2,
            "linecolor": "white",
            "showbackground": true,
            "ticks": "",
            "zerolinecolor": "white"
           },
           "zaxis": {
            "backgroundcolor": "#E5ECF6",
            "gridcolor": "white",
            "gridwidth": 2,
            "linecolor": "white",
            "showbackground": true,
            "ticks": "",
            "zerolinecolor": "white"
           }
          },
          "shapedefaults": {
           "line": {
            "color": "#2a3f5f"
           }
          },
          "ternary": {
           "aaxis": {
            "gridcolor": "white",
            "linecolor": "white",
            "ticks": ""
           },
           "baxis": {
            "gridcolor": "white",
            "linecolor": "white",
            "ticks": ""
           },
           "bgcolor": "#E5ECF6",
           "caxis": {
            "gridcolor": "white",
            "linecolor": "white",
            "ticks": ""
           }
          },
          "title": {
           "x": 0.05
          },
          "xaxis": {
           "automargin": true,
           "gridcolor": "white",
           "linecolor": "white",
           "ticks": "",
           "title": {
            "standoff": 15
           },
           "zerolinecolor": "white",
           "zerolinewidth": 2
          },
          "yaxis": {
           "automargin": true,
           "gridcolor": "white",
           "linecolor": "white",
           "ticks": "",
           "title": {
            "standoff": 15
           },
           "zerolinecolor": "white",
           "zerolinewidth": 2
          }
         }
        },
        "title": {
         "text": "World map to visualize ships with no IMO numbers giving lattitude, longitude and different colors for each ship type"
        },
        "width": 1800
       }
      }
     },
     "metadata": {},
     "output_type": "display_data"
    }
   ],
   "source": [
    "# Reminder of variable ships_without_imo\n",
    "ships_without_imo = geo_raw_ship_data[geo_raw_ship_data['ImoNumber'].isnull()]\n",
    "\n",
    "# Choosing the column that need the colour differentiation\n",
    "cat_column_ShipType = 'Type'\n",
    "\n",
    "# Create a GeoDataFrame for ships without IMO numbers\n",
    "geometry = [Point(xy) for xy in zip(Ships_with_no_IMO_number['longitude'], Ships_with_no_IMO_number['latitude'])]\n",
    "geo_Ships_with_no_IMO_number = gpd.GeoDataFrame(Ships_with_no_IMO_number, geometry=geometry)\n",
    "\n",
    "# Create a Plotly Express scatter plot with a larger map\n",
    "fig = px.scatter_geo(\n",
    "geo_Ships_with_no_IMO_number,\n",
    "lat='latitude', lon='longitude',\n",
    "color=cat_column_ShipType,\n",
    "title='World map to visualize ships with no IMO numbers giving lattitude, longitude and different colors for each ship type',\n",
    "width=1800,  \n",
    "height=1000,  \n",
    ")\n",
    "# Display the plot\n",
    "fig.show()\n"
   ]
  }
 ],
 "metadata": {
  "kernelspec": {
   "display_name": "Python 3 (ipykernel)",
   "language": "python",
   "name": "python3"
  },
  "language_info": {
   "codemirror_mode": {
    "name": "ipython",
    "version": 3
   },
   "file_extension": ".py",
   "mimetype": "text/x-python",
   "name": "python",
   "nbconvert_exporter": "python",
   "pygments_lexer": "ipython3",
   "version": "3.11.2"
  }
 },
 "nbformat": 4,
 "nbformat_minor": 4
}
